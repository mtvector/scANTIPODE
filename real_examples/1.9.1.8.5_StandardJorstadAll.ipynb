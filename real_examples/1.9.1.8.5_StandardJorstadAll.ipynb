{
 "cells": [
  {
   "cell_type": "code",
   "execution_count": null,
   "id": "d1488335-0f39-4bf8-af50-f40bc209d1eb",
   "metadata": {
    "tags": []
   },
   "outputs": [],
   "source": [
    "# various import statements\n",
    "import os\n",
    "import inspect\n",
    "import seaborn\n",
    "import matplotlib\n",
    "import matplotlib.pyplot as plt\n",
    "import torch\n",
    "import scanpy as sc\n",
    "import pyro\n",
    "import cuml\n",
    "\n",
    "device = torch.device(\"cuda:0\" if torch.cuda.is_available() else \"cpu\")\n",
    "\n",
    "if torch.cuda.is_available():\n",
    "    print(\"GPU is available\")\n",
    "    print(\"Number of GPUs:\", torch.cuda.device_count())\n",
    "    print(\"GPU Name:\", torch.cuda.get_device_name(0))\n",
    "else:\n",
    "    print(\"GPU is not available\")\n",
    "    \n",
    "import random\n",
    "\n",
    "import sys\n",
    "import antipode\n",
    "from antipode.antipode_model import *\n",
    "import antipode.model_functions\n",
    "from antipode.model_functions import *\n",
    "import antipode.model_distributions\n",
    "from antipode.model_distributions import *\n",
    "import antipode.model_modules\n",
    "from antipode.model_modules import *\n",
    "import antipode.train_utils\n",
    "from antipode.train_utils import *\n",
    "import antipode.plotting\n",
    "from antipode.plotting import *\n",
    "from antipode.antipode_mixins import AntipodeTrainingMixin, AntipodeSaveLoadMixin\n"
   ]
  },
  {
   "cell_type": "code",
   "execution_count": null,
   "id": "67d3cb67-4708-4081-8563-d14a2a520a86",
   "metadata": {},
   "outputs": [],
   "source": [
    "model_tag='1.9.1.8.5_JorstadAll_final_noQ_INP'\n",
    "out_path=os.path.join('/home/matthew.schmitz/Matthew/models/',model_tag)"
   ]
  },
  {
   "cell_type": "code",
   "execution_count": null,
   "id": "80534e74-e9b7-485f-a549-0c8b68789f48",
   "metadata": {},
   "outputs": [],
   "source": [
    "# adata=sc.read_h5ad(os.path.expanduser('/allen/programs/celltypes/workgroups/rnaseqanalysis/EvoGen/Team/Matthew/data/cortex_data/jorstad_merge_all.h5ad'),backed='r')\n",
    "adata = antipode.anndata_utils.read_h5ad_backed_selective(os.path.expanduser('/allen/programs/celltypes/workgroups/rnaseqanalysis/EvoGen/Team/Matthew/data/cortex_data/jorstad_merge_all.h5ad'),\n",
    "    mode='r', selected_keys=['batch','organism','UMIs','var','uns'])\n",
    "\n",
    "adata.uns['species_colors']=['blue','red','green','yellow','orange','cyan','magenta','teal','goldenrod','purple','maroon','pink','violet','black','grey','beige']\n",
    "batch_key='batch'\n",
    "discov_key='organism'\n",
    "layer_key='UMIs'\n",
    "\n",
    "species_aggr_means=antipode.model_functions.group_aggr_anndata(adata,[discov_key],layer=layer_key,normalize=True)\n",
    "species_real_means=torch.tensor(species_aggr_means[0],requires_grad=False)\n",
    "species_log_real_means=safe_log_transform(species_aggr_means[0]) # #species,#cluster,#genes array"
   ]
  },
  {
   "cell_type": "code",
   "execution_count": null,
   "id": "0ff96006-2f54-4a0c-b462-ae6ff8783c95",
   "metadata": {},
   "outputs": [],
   "source": [
    "adata"
   ]
  },
  {
   "cell_type": "code",
   "execution_count": null,
   "id": "a8c9c2dd-6f7f-47ee-8d7d-e04e78f4de88",
   "metadata": {},
   "outputs": [],
   "source": [
    "num_var=adata.shape[1]\n",
    "batch_size=32\n",
    "level_sizes=[1,30,200]\n",
    "num_latent=150\n",
    "steps=0\n",
    "max_steps=600000\n",
    "num_particles=3\n",
    "print_every=5000\n",
    "\n",
    "# Clear Pyro param store so we don't conflict with previous run\n",
    "try:\n",
    "    pyro.clear_param_store()\n",
    "    del antipode_model\n",
    "    torch.cuda.empty_cache()\n",
    "except:\n",
    "    pass\n",
    "# Fix random number seed to a lucky number\n",
    "pyro.util.set_rng_seed(13)\n",
    "# Enable optional validation warnings\n",
    "pyro.enable_validation(False)\n",
    "\n",
    "# Instantiate instance of model/guide and various neural networks\n",
    "antipode_model = ANTIPODE(num_latent=num_latent,level_sizes=level_sizes,bi_depth=2,num_batch_embed=10,psi_levels=[0.,1.,1.],\n",
    "                adata=adata,discov_pair=('obs',discov_key),batch_pair=('obs',batch_key),layer=layer_key,min_theta=1e-1,\n",
    "                use_psi=False,use_q_score=False,prior_scale=50.,theta_prior=10,sampler_category=discov_key,dist_normalize=False,dcd_prior=torch.tensor(species_log_real_means,requires_grad=False).float(),\n",
    "                scale_init_val=0.01,loc_as_param=False,zdw_as_param=False,intercept_as_param=False,seccov_as_param=False)"
   ]
  },
  {
   "cell_type": "code",
   "execution_count": null,
   "id": "cb266721-05f8-4caf-a181-f61a05f5fba1",
   "metadata": {},
   "outputs": [],
   "source": [
    "antipode_model.run_standard_protocol(out_path,\n",
    "                                     max_steps=max_steps,\n",
    "                                     num_particles=num_particles,\n",
    "                                     device=device,\n",
    "                                     max_learning_rate=1e-3,\n",
    "                                     one_cycle_lr=True,\n",
    "                                     batch_size=batch_size)"
   ]
  },
  {
   "cell_type": "code",
   "execution_count": null,
   "id": "d045ec62-7e4d-4753-adea-e896a5aeb728",
   "metadata": {},
   "outputs": [],
   "source": [
    "!nvidia-smi\n",
    "antipode_model.clear_cuda()\n",
    "!nvidia-smi"
   ]
  },
  {
   "cell_type": "code",
   "execution_count": null,
   "id": "d5706a94-6906-42d4-9eef-73c8309307df",
   "metadata": {},
   "outputs": [],
   "source": [
    "MDE_KEY = \"X_antipode_UMAP\"\n",
    "umap = cuml.UMAP(n_neighbors = 60,min_dist=0.2,spread=1,metric='manhattan',)\n",
    "adata.obsm[MDE_KEY] = clip_latent_dimensions(umap.fit_transform(adata.obsm['X_antipode']),0.1)"
   ]
  },
  {
   "cell_type": "code",
   "execution_count": null,
   "id": "f02a663e-8d6c-4794-bfa0-ed7a9a61ecd8",
   "metadata": {},
   "outputs": [],
   "source": [
    "sc.pl.embedding(\n",
    "    adata,\n",
    "    basis=MDE_KEY,\n",
    "    color=[\"antipode_cluster\"],legend_fontsize=6,legend_fontweight='normal',#,\"kmeans\"\n",
    "    legend_loc='on data',palette=sc.pl.palettes.godsnot_102\n",
    ")\n",
    "\n",
    "sc.pl.embedding(\n",
    "    adata,\n",
    "    basis=MDE_KEY,\n",
    "    color=[x for x in adata.obs.columns if 'level' in x],\n",
    "    palette=sc.pl.palettes.godsnot_102,\n",
    "    legend_loc='on data'\n",
    ")\n",
    "\n",
    "sc.pl.embedding(\n",
    "    adata,\n",
    "    basis=MDE_KEY,\n",
    "    palette=sc.pl.palettes.godsnot_102,\n",
    "    color=[discov_key,batch_key]\n",
    ")\n"
   ]
  },
  {
   "cell_type": "code",
   "execution_count": null,
   "id": "1e528e14-8bd8-4a2b-8885-3d047e85c4e3",
   "metadata": {},
   "outputs": [],
   "source": [
    "plot_loss(antipode_model.losses)\n",
    "plot_gmm_heatmaps(antipode_model)\n",
    "plot_d_hists(antipode_model)\n",
    "plot_batch_embedding_pca(antipode_model)"
   ]
  },
  {
   "cell_type": "code",
   "execution_count": null,
   "id": "a9bf5fed-ec8b-4234-a63b-b58878c358cf",
   "metadata": {},
   "outputs": [],
   "source": [
    "pstore=adata.uns['param_store']\n",
    "discov_cluster_params,cluster_params, cluster_labels,var_labels,(prop_taxon, prop_locs,prop_discov_di,prop_discov_dm)=antipode_model.calculate_cluster_params(flavor='numpy')\n",
    "cluster_index = np.array([int(x) for x in cluster_labels])\n",
    "discov_cluster_params = discov_cluster_params[:,cluster_index,:]\n",
    "discov_labels=adata.obs[antipode_model.discov_key].cat.categories\n",
    "latent_labels=[str(x) for x in range(pstore['discov_dc'].shape[1])]\n",
    "n_clusters=antipode_model.level_sizes[-1]"
   ]
  },
  {
   "cell_type": "code",
   "execution_count": null,
   "id": "0f00f751-01c3-4ea5-999e-16123b0f6224",
   "metadata": {},
   "outputs": [],
   "source": [
    "aggr_means=antipode.model_functions.group_aggr_anndata(adata,[discov_key,'level_2'],layer=layer_key,normalize=True)\n",
    "log_real_means=antipode.model_functions.safe_log_transform(aggr_means[0]) # #species,#cluster,#genes array"
   ]
  },
  {
   "cell_type": "code",
   "execution_count": null,
   "id": "6761589e-c5b5-4f7a-a269-cccb077a9450",
   "metadata": {},
   "outputs": [],
   "source": [
    "real_means=pd.DataFrame(log_real_means.mean(0),columns=adata.var.index,index=aggr_means[1]['level_2'])\n",
    "real_means=real_means.loc[aggr_means[1]['level_2'],:]"
   ]
  },
  {
   "cell_type": "code",
   "execution_count": null,
   "id": "ae4473c4-7d50-4f6b-b68e-b8105dd280a4",
   "metadata": {},
   "outputs": [],
   "source": [
    "discov_cluster_params"
   ]
  },
  {
   "cell_type": "code",
   "execution_count": null,
   "id": "81ea03ae-2f70-4c62-a176-bc1bbe44a4bd",
   "metadata": {},
   "outputs": [],
   "source": [
    "log_real_means.shape"
   ]
  },
  {
   "cell_type": "code",
   "execution_count": null,
   "id": "0a4704e1-d0d8-46e5-8ad3-89d299c10ff9",
   "metadata": {},
   "outputs": [],
   "source": [
    "fits=[]\n",
    "for i in range(discov_cluster_params.shape[0]):\n",
    "    for g in range(discov_cluster_params.shape[2]):\n",
    "        x=discov_cluster_params[i,:,g]\n",
    "        y=log_real_means[i,:,g]\n",
    "        fits.append(scipy.stats.stats.spearmanr(x,y).statistic)\n"
   ]
  },
  {
   "cell_type": "code",
   "execution_count": null,
   "id": "da6b8102-ceb6-4fad-9c05-70c4956dc367",
   "metadata": {
    "scrolled": true
   },
   "outputs": [],
   "source": [
    "print(np.mean(np.nan_to_num(fits)))\n",
    "seaborn.histplot(fits)\n",
    "plt.title('')"
   ]
  },
  {
   "cell_type": "code",
   "execution_count": null,
   "id": "376bb7c0-1b2e-4fdd-a607-84467ecee44f",
   "metadata": {},
   "outputs": [],
   "source": [
    "cmap = plt.cm.coolwarm\n",
    "\n",
    "# Map 'fits' values to the colormap\n",
    "colors = cmap(np.array(fits))\n",
    "seaborn.scatterplot(x=discov_cluster_params.mean(1).flatten(),y=log_real_means.mean(1).flatten(),s=0.1,color=colors)\n",
    "plt.xlabel('reconst gene log mean')\n",
    "plt.ylabel('actual gene log mean')"
   ]
  },
  {
   "cell_type": "code",
   "execution_count": null,
   "id": "7306eb48-8695-4650-b14b-7b2c8d7a0d8a",
   "metadata": {},
   "outputs": [],
   "source": [
    "print(cluster_index)\n",
    "print(aggr_means[1]['level_2'])"
   ]
  },
  {
   "cell_type": "code",
   "execution_count": null,
   "id": "a270facc-9c42-47e2-8aa3-b557ca592451",
   "metadata": {},
   "outputs": [],
   "source": [
    "# Calculate the regression parameters\n",
    "x=(discov_cluster_params).flatten()\n",
    "x=safe_log_transform(np.exp(x))\n",
    "y=log_real_means.flatten()\n",
    "zeros=y>-20\n",
    "x=x[zeros]\n",
    "y=y[zeros]\n",
    "randinds=np.random.choice(np.array(list(range(x.shape[0]))),size=100000,replace=False)\n",
    "\n",
    "\n",
    "seaborn.scatterplot(x=x[randinds],y=y[randinds],s=0.2,color='black')\n",
    "seaborn.kdeplot(x=x[randinds],y=y[randinds],linestyles='--',color='red', linewidths=0.5)\n",
    "plt.xlabel('reconstructed log mean cluster exp')\n",
    "plt.ylabel('actual mean cluster exp (counts/1e6)')\n",
    "\n",
    "\n",
    "slope, intercept, r_value, p_value, std_err = scipy.stats.linregress(x,y)\n",
    "\n",
    "# Plot the regression line\n",
    "x_values = np.linspace(np.min(x), np.max(x), 100)\n",
    "plt.plot(x_values, slope * x_values + intercept, color='blue', label=f'y={slope:.2f}x+{intercept:.2f}, R²={r_value**2:.2f}')\n",
    "plt.title('Mean within species (species x clusters x genes')\n",
    "# Add legend\n",
    "plt.legend()"
   ]
  },
  {
   "cell_type": "code",
   "execution_count": null,
   "id": "a36add46-7b29-4a6e-b07f-57a01f7f2014",
   "metadata": {},
   "outputs": [],
   "source": [
    "# Calculate the regression parameters\n",
    "x=(discov_cluster_params).flatten()\n",
    "x=safe_log_transform(np.exp(x))\n",
    "y=log_real_means.flatten()\n",
    "randinds=np.random.choice(np.array(list(range(x.shape[0]))),size=100000,replace=False)\n",
    "\n",
    "\n",
    "seaborn.scatterplot(x=x[randinds],y=y[randinds],s=0.2,color='black')\n",
    "seaborn.kdeplot(x=x[randinds],y=y[randinds],linestyles='--',color='red', linewidths=0.5)\n",
    "plt.xlabel('reconstructed log mean cluster exp')\n",
    "plt.ylabel('actual mean cluster exp (counts/1e6)')\n",
    "\n",
    "\n",
    "slope, intercept, r_value, p_value, std_err = scipy.stats.linregress(x,y)\n",
    "\n",
    "# Plot the regression line\n",
    "x_values = np.linspace(np.min(x), np.max(x), 100)\n",
    "plt.plot(x_values, slope * x_values + intercept, color='blue', label=f'y={slope:.2f}x+{intercept:.2f}, R²={r_value**2:.2f}')\n",
    "plt.title('Mean within species (species x clusters x genes')\n",
    "# Add legend\n",
    "plt.legend()"
   ]
  }
 ],
 "metadata": {
  "kernelspec": {
   "display_name": "rapids-24.12",
   "language": "python",
   "name": "rapids-24.12"
  },
  "language_info": {
   "codemirror_mode": {
    "name": "ipython",
    "version": 3
   },
   "file_extension": ".py",
   "mimetype": "text/x-python",
   "name": "python",
   "nbconvert_exporter": "python",
   "pygments_lexer": "ipython3",
   "version": "3.12.8"
  }
 },
 "nbformat": 4,
 "nbformat_minor": 5
}
