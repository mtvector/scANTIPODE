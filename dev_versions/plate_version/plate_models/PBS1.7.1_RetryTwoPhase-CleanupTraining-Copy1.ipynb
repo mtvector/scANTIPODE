{
 "cells": [
  {
   "cell_type": "code",
   "execution_count": 1,
   "id": "3ffe491f-acab-469c-90c9-4fb859e695fd",
   "metadata": {
    "tags": []
   },
   "outputs": [
    {
     "name": "stderr",
     "output_type": "stream",
     "text": [
      "/allen/programs/celltypes/workgroups/rnaseqanalysis/EvoGen/Team/Matthew/utils/miniconda3/envs/pyro/lib/python3.11/site-packages/tqdm/auto.py:21: TqdmWarning: IProgress not found. Please update jupyter and ipywidgets. See https://ipywidgets.readthedocs.io/en/stable/user_install.html\n",
      "  from .autonotebook import tqdm as notebook_tqdm\n",
      "/allen/programs/celltypes/workgroups/rnaseqanalysis/EvoGen/Team/Matthew/utils/miniconda3/envs/pyro/lib/python3.11/site-packages/scvi/_settings.py:63: UserWarning: Since v1.0.0, scvi-tools no longer uses a random seed by default. Run `scvi.settings.seed = 0` to reproduce results from previous versions.\n",
      "  self.seed = seed\n",
      "/allen/programs/celltypes/workgroups/rnaseqanalysis/EvoGen/Team/Matthew/utils/miniconda3/envs/pyro/lib/python3.11/site-packages/scvi/_settings.py:70: UserWarning: Setting `dl_pin_memory_gpu_training` is deprecated in v1.0 and will be removed in v1.1. Please pass in `pin_memory` to the data loaders instead.\n",
      "  self.dl_pin_memory_gpu_training = (\n"
     ]
    },
    {
     "name": "stdout",
     "output_type": "stream",
     "text": [
      "foo='hello' bar='world'\n"
     ]
    }
   ],
   "source": [
    "# various import statements\n",
    "import numpy as np\n",
    "from collections import defaultdict\n",
    "import torch\n",
    "import torch.nn as nn\n",
    "from torch.nn.functional import softplus, softmax\n",
    "from torch.distributions import constraints\n",
    "from torch.optim import Adam\n",
    "import seaborn\n",
    "import pyro\n",
    "import pyro.distributions as dist\n",
    "import pyro.poutine as poutine\n",
    "from pyro.distributions.util import broadcast_shape\n",
    "import pyro.optim\n",
    "from pyro.optim import MultiStepLR\n",
    "from pyro.infer import SVI, config_enumerate, TraceEnum_ELBO\n",
    "from pyro.ops.indexing import Vindex\n",
    "import pyro.contrib\n",
    "import tqdm\n",
    "import math\n",
    "import matplotlib\n",
    "import matplotlib.pyplot as plt\n",
    "from matplotlib.patches import Patch\n",
    "foo='hello'\n",
    "bar='world'\n",
    "import os\n",
    "import sklearn\n",
    "from sklearn import cluster\n",
    "import pandas as pd\n",
    "import re\n",
    "import scanpy as sc\n",
    "import scvi\n",
    "print(f\"{foo=} {bar=}\")\n",
    "from torch import exp\n",
    "from IPython.display import Audio, display\n",
    "import inspect\n",
    "\n",
    "def allDone():\n",
    "    display(Audio(url='https://notification-sounds.com/soundsfiles/Meditation-bell-sound.mp3', autoplay=True))\n",
    "sc.settings.figdir=os.path.expanduser('~/WbFigures/SpeciesDivergenceNoScaling')\n",
    "    "
   ]
  },
  {
   "cell_type": "code",
   "execution_count": 2,
   "id": "371c61df-51ad-4d4b-b5b6-39fd5d1e4b08",
   "metadata": {},
   "outputs": [],
   "source": [
    "import sys\n",
    "sys.path.append('/home/matthew.schmitz/Matthew/code/scANTIPODE/plate_version/')\n",
    "import model_functions\n",
    "from model_functions import *\n",
    "import model_distributions\n",
    "from model_distributions import *\n",
    "import plate_modules\n",
    "from plate_modules import *\n",
    "import train_utils\n",
    "from train_utils import *\n",
    "\n",
    "import importlib\n",
    "plate_modules=importlib.reload(plate_modules)\n",
    "from plate_modules import *\n",
    "\n",
    "model_functions=importlib.reload(model_functions)\n",
    "from model_functions import *\n",
    "\n",
    "import importlib\n",
    "model_distributions=importlib.reload(model_distributions)\n",
    "from model_distributions import *\n",
    "\n",
    "import importlib\n",
    "train_utils=importlib.reload(train_utils)\n",
    "from train_utils import *\n"
   ]
  },
  {
   "cell_type": "code",
   "execution_count": 3,
   "id": "fd652ce5-f98d-47af-8bfa-07623cf91a29",
   "metadata": {},
   "outputs": [
    {
     "name": "stdout",
     "output_type": "stream",
     "text": [
      "cuda:0\n"
     ]
    }
   ],
   "source": [
    "smoke_test=False\n",
    "device = torch.device(\"cuda:0\" if torch.cuda.is_available() else \"cpu\")\n",
    "print(device)\n",
    "#device=\"cpu\"\n"
   ]
  },
  {
   "cell_type": "code",
   "execution_count": 4,
   "id": "b55ede1a-5159-40ae-bb51-f03a129f7156",
   "metadata": {},
   "outputs": [
    {
     "data": {
      "text/plain": [
       "'\\nspecies_arg=adata.obs[\\'species\\'].cat.codes\\nspecies_values=torch.nn.functional.one_hot(torch.tensor(adata.obs[\\'species\\'].cat.codes).long(),num_classes=len(adata.obs[\\'species\\'].cat.categories)).float()\\n\\nadata.uns[\\'batch_cats\\']=dict(zip([str(x) for x in adata.obs[\\'batch_name\\'].cat.categories],[str(x) for x in sorted(set(adata.obs[\\'batch_name\\'].cat.codes))]))\\nbatch_arg=adata.obs[\\'batch_name\\'].replace(adata.uns[\\'batch_cats\\']).astype(int)\\nbatch_values=torch.nn.functional.one_hot(torch.tensor(adata.obs[\\'batch_name\\'].replace(adata.uns[\\'batch_cats\\']).astype(int)).long(),\\n                                         num_classes=len(adata.uns[\\'batch_cats\\'].keys())).float()\\n\\n\\nadata.X=adata.raw.X[:,adata.raw.var.index.isin(adata.var.index)]#.todense()\\n#adata=adata[np.random.choice(adata.obs.index,100000,replace=False),:]\\n#sc.pp.highly_variable_genes(adata,n_top_genes=5000,flavor=\"seurat_v3\",subset=True)\\n\\nadata=adata[~adata.obs.general_region.isin([\\'Cultured\\']),:]\\nadata=adata[~adata.obs.batch_name.str.contains(\\'P10\\'),:]\\n#adata=adata[adata.obs[\\'general_region\\'].isin([\\'bn\\',\\'cp\\',\\'ctx\\',\\'ge\\']),:]\\n\\nadata.obs[\\'species\\']=adata.obs[\\'species\\'].astype(\\'category\\')\\nsc.pl.umap(adata,color=[\\'species\\'])\\nsc.pl.umap(adata,color=[\\'leiden\\'],legend_loc=\"on data\")\\nsc.pl.umap(adata,color=\\'region\\')\\nadata.obsm[\\'X_original_umap\\']=adata.obsm[\\'X_umap\\']\\nadata.obs[\\'n_counts\\']=adata.X.sum(1)\\n'"
      ]
     },
     "execution_count": 4,
     "metadata": {},
     "output_type": "execute_result"
    }
   ],
   "source": [
    "#adata=sc.read_h5ad(os.path.expanduser('/allen/programs/celltypes/workgroups/rnaseqanalysis/EvoGen/Team/Matthew/data/taxtest/HvQvM/HvQvM_900k_RPCA_clusters.h5ad'))\n",
    "adata=sc.read_h5ad(os.path.expanduser('/allen/programs/celltypes/workgroups/rnaseqanalysis/EvoGen/Team/Matthew/data/taxtest/HvQvM/HvQvMall_part1.h5ad'),backed='r+')\n",
    "#adata=sc.read_h5ad(os.path.expanduser('/allen/programs/celltypes/workgroups/rnaseqanalysis/EvoGen/Team/Matthew/data/taxtest/HvQvM/HvQvMall.h5ad'),backed='r+')\n",
    "\"\"\"\n",
    "species_arg=adata.obs['species'].cat.codes\n",
    "species_values=torch.nn.functional.one_hot(torch.tensor(adata.obs['species'].cat.codes).long(),num_classes=len(adata.obs['species'].cat.categories)).float()\n",
    "\n",
    "adata.uns['batch_cats']=dict(zip([str(x) for x in adata.obs['batch_name'].cat.categories],[str(x) for x in sorted(set(adata.obs['batch_name'].cat.codes))]))\n",
    "batch_arg=adata.obs['batch_name'].replace(adata.uns['batch_cats']).astype(int)\n",
    "batch_values=torch.nn.functional.one_hot(torch.tensor(adata.obs['batch_name'].replace(adata.uns['batch_cats']).astype(int)).long(),\n",
    "                                         num_classes=len(adata.uns['batch_cats'].keys())).float()\n",
    "\n",
    "\n",
    "adata.X=adata.raw.X[:,adata.raw.var.index.isin(adata.var.index)]#.todense()\n",
    "#adata=adata[np.random.choice(adata.obs.index,100000,replace=False),:]\n",
    "#sc.pp.highly_variable_genes(adata,n_top_genes=5000,flavor=\"seurat_v3\",subset=True)\n",
    "\n",
    "adata=adata[~adata.obs.general_region.isin(['Cultured']),:]\n",
    "adata=adata[~adata.obs.batch_name.str.contains('P10'),:]\n",
    "#adata=adata[adata.obs['general_region'].isin(['bn','cp','ctx','ge']),:]\n",
    "\n",
    "adata.obs['species']=adata.obs['species'].astype('category')\n",
    "sc.pl.umap(adata,color=['species'])\n",
    "sc.pl.umap(adata,color=['leiden'],legend_loc=\"on data\")\n",
    "sc.pl.umap(adata,color='region')\n",
    "adata.obsm['X_original_umap']=adata.obsm['X_umap']\n",
    "adata.obs['n_counts']=adata.X.sum(1)\n",
    "\"\"\""
   ]
  },
  {
   "cell_type": "code",
   "execution_count": 5,
   "id": "188331de-6385-44b0-92e8-78a075aeff46",
   "metadata": {},
   "outputs": [
    {
     "data": {
      "text/plain": [
       "\"\\n#For weighted sampler\\nclass_weights = adata.obs['region_species'].astype('category').cat.codes.value_counts(normalize=False,sort=False).sort_index()\\nlabels = list(adata.obs['region_species'].astype('category').cat.codes) #corresponding labels of samples\\nweights = [1/class_weights[labels[i]] for i in range(len(labels))]\\nsampler = torch.utils.data.sampler.WeightedRandomSampler(torch.DoubleTensor(weights),len(weights),replacement=True)\\n\""
      ]
     },
     "execution_count": 5,
     "metadata": {},
     "output_type": "execute_result"
    }
   ],
   "source": [
    "\"\"\"\n",
    "#For weighted sampler\n",
    "class_weights = adata.obs['region_species'].astype('category').cat.codes.value_counts(normalize=False,sort=False).sort_index()\n",
    "labels = list(adata.obs['region_species'].astype('category').cat.codes) #corresponding labels of samples\n",
    "weights = [1/class_weights[labels[i]] for i in range(len(labels))]\n",
    "sampler = torch.utils.data.sampler.WeightedRandomSampler(torch.DoubleTensor(weights),len(weights),replacement=True)\n",
    "\"\"\""
   ]
  },
  {
   "cell_type": "code",
   "execution_count": null,
   "id": "4f780ca5-1a1b-4693-86f3-c4c082e3cef7",
   "metadata": {},
   "outputs": [],
   "source": []
  },
  {
   "cell_type": "code",
   "execution_count": 6,
   "id": "3f9ec76d-7f19-4c03-9ba5-0bf0302c5f7a",
   "metadata": {},
   "outputs": [],
   "source": [
    "samplegroups={'FB':'vt',\n",
    "'bn':'vt',\n",
    "'ctx':'ctx',\n",
    "'cp':'vt',\n",
    "'de':'de',\n",
    "'ge':'vt',\n",
    "'h':'vt',\n",
    "'hb':'hb',\n",
    "'mb':'mb'}\n",
    "adata.obs['sample_region']=adata.obs['general_region'].replace(samplegroups)\n",
    "adata.obs['region_species']=adata.obs['sample_region'].astype(str)+'_'+adata.obs['species'].astype(str)\n"
   ]
  },
  {
   "cell_type": "code",
   "execution_count": 7,
   "id": "2d2e46a8-2dea-4d0e-a13f-5e56c70cf28e",
   "metadata": {},
   "outputs": [],
   "source": [
    "#sc.pl.umap(adata,color='sample_region')"
   ]
  },
  {
   "cell_type": "code",
   "execution_count": 8,
   "id": "afe1f2fa-8568-4bbb-8058-00b89552eb71",
   "metadata": {},
   "outputs": [
    {
     "data": {
      "text/plain": [
       "<Axes: xlabel='general_region'>"
      ]
     },
     "execution_count": 8,
     "metadata": {},
     "output_type": "execute_result"
    },
    {
     "data": {
      "image/png": "[encoded data removed]",
      "text/plain": [
       "<Figure size 640x480 with 1 Axes>"
      ]
     },
     "metadata": {},
     "output_type": "display_data"
    }
   ],
   "source": [
    "adata.obs['general_region'].value_counts().plot.bar()"
   ]
  },
  {
   "cell_type": "code",
   "execution_count": 9,
   "id": "223dde00-7ed3-494d-aede-966c0421cb82",
   "metadata": {},
   "outputs": [
    {
     "data": {
      "text/plain": [
       "<Axes: xlabel='sample_region'>"
      ]
     },
     "execution_count": 9,
     "metadata": {},
     "output_type": "execute_result"
    },
    {
     "data": {
      "image/png": "[encoded data removed]",
      "text/plain": [
       "<Figure size 640x480 with 1 Axes>"
      ]
     },
     "metadata": {},
     "output_type": "display_data"
    }
   ],
   "source": [
    "adata.obs['sample_region'].value_counts().plot.bar()"
   ]
  },
  {
   "cell_type": "code",
   "execution_count": 10,
   "id": "2c65b732-09db-4086-8bb5-aa59197aa782",
   "metadata": {},
   "outputs": [
    {
     "name": "stderr",
     "output_type": "stream",
     "text": [
      "/scratch/fast/14173829/ipykernel_108693/3470349541.py:1: FutureWarning: The default of observed=False is deprecated and will be changed to True in a future version of pandas. Pass observed=False to retain current behavior or observed=True to adopt the future default and silence this warning.\n",
      "  adata.obs.groupby('species')['sample_region'].value_counts(normalize=True).unstack().T.plot.bar()\n"
     ]
    },
    {
     "data": {
      "text/plain": [
       "<Axes: xlabel='sample_region'>"
      ]
     },
     "execution_count": 10,
     "metadata": {},
     "output_type": "execute_result"
    },
    {
     "data": {
      "image/png": "[encoded data removed]",
      "text/plain": [
       "<Figure size 640x480 with 1 Axes>"
      ]
     },
     "metadata": {},
     "output_type": "display_data"
    }
   ],
   "source": [
    "adata.obs.groupby('species')['sample_region'].value_counts(normalize=True).unstack().T.plot.bar()"
   ]
  },
  {
   "cell_type": "code",
   "execution_count": 11,
   "id": "f818810e-caec-4c4d-8e92-c810e0cc706e",
   "metadata": {},
   "outputs": [
    {
     "name": "stderr",
     "output_type": "stream",
     "text": [
      "/scratch/fast/14173829/ipykernel_108693/2805410280.py:1: FutureWarning: Series.__getitem__ treating keys as positions is deprecated. In a future version, integer keys will always be treated as labels (consistent with DataFrame behavior). To access a value by position, use `ser.iloc[pos]`\n",
      "  batch_values=torch.nn.functional.one_hot(torch.tensor(adata.obs['batch_name'].cat.codes).long(),num_classes=len(adata.obs['batch_name'].cat.categories)).float()\n"
     ]
    },
    {
     "data": {
      "text/plain": [
       "GTCTCGTCAGCATACT_PEC_Yale_SingleCellRNAseq_RMB683_CBC    PEC_Yale_SingleCellRNAseq_RMB683_CBC\n",
       "CTTTCGGAGGCGTCCT_GW19_CGE_v3_0_1_HM732DMXX_kOut                GW19_CGE_v3_0_1_HM732DMXX_kOut\n",
       "TAACCAGGTGGGAGAG_E65-2019A_PFC                                                  E65-2019A_PFC\n",
       "TACGTACACTAAGT_SRR6061125_E13.5_CGE                                      SRR6061125_E13.5_CGE\n",
       "TTTAGGCTACCTTT_e10.0_Forebrain_SRR11947624                        e10.0_Forebrain_SRR11947624\n",
       "                                                                         ...                 \n",
       "TCGCAGGAGTAGTCTC_E80-2022_Diencephalon_2                              E80-2022_Diencephalon_2\n",
       "TTGTAGGAGTGTTAGA_E50_PFC                                                              E50_PFC\n",
       "GATCAGTGTTACAGAA_E100hippo                                                          E100hippo\n",
       "TGCACGGTCCCGTGAG_GW16_V1VZ_0_1_HNJJMDMXX_kOut                    GW16_V1VZ_0_1_HNJJMDMXX_kOut\n",
       "CCACCTACACATTCGA_GW20cingulate-corpus_kOut                          GW20hypoventalmedial_kOut\n",
       "Name: batch_name, Length: 229020, dtype: category\n",
       "Categories (464, object): ['CS12Diencephalon_kOut', 'CS12Hindbrain_kOut', 'CS12Midbrain_kOut', 'CS12OpticVesicle_kOut', ..., 'p0-WT3', 'p0-WT4', 'p07_Cortex_SRR11947654', 'p07_Cortex_SRR11947655']"
      ]
     },
     "execution_count": 11,
     "metadata": {},
     "output_type": "execute_result"
    }
   ],
   "source": [
    "batch_values=torch.nn.functional.one_hot(torch.tensor(adata.obs['batch_name'].cat.codes).long(),num_classes=len(adata.obs['batch_name'].cat.categories)).float()\n",
    "adata.obs['batch_name']"
   ]
  },
  {
   "cell_type": "markdown",
   "id": "a384a7d4-6035-4885-8a99-3f6e938ecb3d",
   "metadata": {
    "tags": []
   },
   "source": [
    "# Put everything together"
   ]
  },
  {
   "cell_type": "code",
   "execution_count": 83,
   "id": "5b4f3c79-3b87-4644-938d-26145649d4f6",
   "metadata": {},
   "outputs": [],
   "source": [
    "from scvi.model.base import UnsupervisedTrainingMixin\n",
    "from scvi.module import LDVAE\n",
    "from scvi.utils import setup_anndata_dsp\n",
    "from scvi.module.base import PyroBaseModuleClass\n",
    "from scvi.model.base import BaseModelClass\n",
    "from scvi.model.base import PyroSviTrainMixin\n",
    "\n",
    "class ANTIPODE(PyroBaseModuleClass):\n",
    "    \"\"\"\n",
    "    ANTIPODE is a variational inference model that is developed for the analysis and \n",
    "    categorization of cell types across evolution based on single-cell data. \n",
    "\n",
    "    Parameters:\n",
    "    num_var (int): Number of variables (features) in the dataset.\n",
    "    level_sizes (list of int, optional): Sizes of each level in the model's hierarchical structure. \n",
    "                                         Defaults to [1, 10, 20, 50].\n",
    "    num_latent (int, optional): Number of latent dimensions. Defaults to 10.\n",
    "    alpha (float, optional): The Dirichlet concentration parameter. Defaults to 0.01.\n",
    "    scale_factor (float, optional): Scaling factor for data normalization. Defaults to 1.0.\n",
    "    num_species (int, optional): Number of species (or groups) in the dataset. Defaults to 1.\n",
    "    num_batch (int, optional): Number of batches to correct for in the data. Defaults to 1.\n",
    "    prior_scale (float, optional): Scale of the laplace prior distributions. Defaults to 100.\n",
    "    bi_depth (int, optional): Depth of the tree for the approximation of batch by identity effects. Defaults to 2.\n",
    "\n",
    "    \"\"\"\n",
    "    def __init__(self, num_var,level_sizes=[1,10,20,50],\n",
    "                 num_latent=10, alpha=0.01, scale_factor=1.0,\n",
    "                 num_species=1,num_batch=1,prior_scale=100,\n",
    "                 decay_function=None,max_strictness=1.,bi_depth=2,num_batch_embed=10):\n",
    "        \n",
    "        self._setup_adata_manager_store: dict[\n",
    "            str, type[scvi.data.AnnDataManager]\n",
    "        ] = {}\n",
    "        self.num_var = num_var\n",
    "        self.num_species = num_species\n",
    "        self.num_batch = num_batch\n",
    "        self.num_latent = num_latent\n",
    "        self.scale_factor=scale_factor\n",
    "        self.level_sizes=level_sizes\n",
    "        self.num_labels = np.sum(self.level_sizes)\n",
    "        self.level_indices=np.cumsum([0]+self.level_sizes)\n",
    "        #how deep in the tree should batch by identity be accounted for\n",
    "        self.bi_depth=bi_depth\n",
    "        self.num_bi_depth=sum(self.level_sizes[:self.bi_depth])\n",
    "        self.num_batch_embed=num_batch_embed\n",
    "        self.max_strictness=1.\n",
    "        self.decay_function=decay_function\n",
    "\n",
    "        # Initialize plates to be used during sampling\n",
    "        self.var_plate=pyro.plate('var_plate',self.num_var,dim=-1)\n",
    "        self.species_plate=pyro.plate('species_plate',self.num_species,dim=-3)\n",
    "        self.batch_plate=pyro.plate('batch_plate',self.num_batch,dim=-3)\n",
    "        self.latent_plate=pyro.plate('latent_plate',self.num_latent,dim=-1)\n",
    "        self.latent_plate2=pyro.plate('latent_plate2',self.num_latent,dim=-2)\n",
    "        self.label_plate=pyro.plate('label_plate',self.num_labels,dim=-2)\n",
    "        self.batch_embed_plate=pyro.plate('batch_embed_plate',self.num_batch_embed,dim=-3)\n",
    "        self.bi_depth_plate=pyro.plate('bi_depth_plate',self.num_bi_depth,dim=-2)\n",
    "\n",
    "        #Initialize MAP inference modules\n",
    "        self.dm=MAPLaplaceModule(self,'species_dm',[self.num_species,self.num_labels,self.num_latent],[self.species_plate,self.label_plate,self.latent_plate])\n",
    "        self.bm=MAPLaplaceModule(self,'batch_dm',[self.num_batch,self.num_labels,self.num_latent],[self.batch_plate,self.label_plate,self.latent_plate])\n",
    "        self.di=MAPLaplaceModule(self,'species_di',[self.num_species,self.num_labels,self.num_var],[self.species_plate,self.label_plate,self.var_plate])\n",
    "        self.bei=MAPLaplaceModule(self,'batch_di',[self.num_batch_embed,self.num_bi_depth,self.num_var],[self.batch_embed_plate,self.bi_depth_plate,self.var_plate])\n",
    "        self.ci=MAPLaplaceModule(self,'cluster_intercept',[self.num_labels, self.num_var],[self.label_plate,self.var_plate])\n",
    "        self.dc=MAPLaplaceModule(self,'species_dc',[self.num_species,self.num_latent,self.num_var],[self.species_plate,self.latent_plate2,self.var_plate])\n",
    "        #Just params\n",
    "        self.zdw=MAPLaplaceModule(self,'z_decoder_weight',[self.num_latent,self.num_var],[self.latent_plate2,self.var_plate],init_val=((2/self.num_latent)*(torch.rand(self.num_latent,self.num_var)-0.5)),param_only=True)\n",
    "        self.zl=MAPLaplaceModule(self,'locs',[self.num_labels,self.num_latent],[self.label_plate,self.latent_plate],param_only=True)\n",
    "        self.zs=MAPLaplaceModule(self,'scales',[self.num_labels,self.num_latent],[self.label_plate,self.latent_plate],init_val=0.01*torch.ones(self.num_labels,self.num_latent),constraint=constraints.positive,param_only=True)\n",
    "        self.zld=MAPLaplaceModule(self,'locs_dynam',[self.num_labels,self.num_latent],[self.label_plate,self.latent_plate],param_only=True)\n",
    "        \n",
    "        self.tree_edges=TreeEdges(self,straight_through=True)\n",
    "        self.tree_convergence=TreeConvergence(self,strictness=1.)        \n",
    "        self.tree_convergence_bottom_up=TreeConvergenceBottomUp(self,strictness=1.)        \n",
    "        self.z_transform=null_function#centered_sigmoid#torch.special.expit\n",
    "        \n",
    "        super().__init__()\n",
    "        # Setup the various neural networks used in the model and guide\n",
    "        self.z_decoder=ZDecoder(num_latent=self.num_latent, num_var=num_var, hidden_dims=[])        \n",
    "        self.zl_encoder=ZLEncoder(num_var=num_var,hidden_dims=[6000,3000,1000],num_cat_input=self.num_species,\n",
    "                    outputs=[(self.num_latent,None),(self.num_latent,softplus)])\n",
    "        \n",
    "        self.classifier=Classifier(num_latent=self.num_latent,\n",
    "                    outputs=[(self.num_labels,None),(1,None),(1,softplus)])\n",
    "\n",
    "        #self.bc_nn=SimpleFFNN(in_dim=self.num_batch,hidden_dims=[200,200,50,5],\n",
    "        #            out_dim=self.num_var*self.num_latent)\n",
    "        #Too large to exactly model gene-level batch effects for all cluster x batch\n",
    "        self.be_nn=SimpleFFNN(in_dim=self.num_batch,hidden_dims=[1000,500,200],\n",
    "                    out_dim=self.num_batch_embed)\n",
    "        \n",
    "        self.epsilon = 0.006\n",
    "        #Initialize model in approximation mode\n",
    "        self.approx=False\n",
    "        self.hard=False\n",
    "        #Whether to approximate tree connectivity during approximation mode\n",
    "        self.prior_scale=prior_scale\n",
    "        self.args=inspect.getfullargspec(self.model).args[1:]#skip self\n",
    "\n",
    "    def setup_anndata(\n",
    "        self,\n",
    "        adata: anndata.AnnData,\n",
    "        fields,\n",
    "        field_types,\n",
    "        **kwargs,\n",
    "    ):\n",
    "        \n",
    "        anndata_fields=[make_field(x,fields[x]) for x in fields.keys()]\n",
    "        \n",
    "        adata_manager = scvi.data.AnnDataManager(\n",
    "            fields=anndata_fields\n",
    "        )\n",
    "        adata_manager.register_fields(adata, **kwargs)\n",
    "        self.register_manager(adata_manager)\n",
    "\n",
    "    def register_manager(self, adata_manager: scvi.data.AnnDataManager):\n",
    "        adata_id = adata_manager.adata_uuid\n",
    "        self._setup_adata_manager_store[adata_id] = adata_manager\n",
    "        self.adata_manager=adata_manager\n",
    "    \n",
    "    def set_approx(self,b: bool):\n",
    "        self.approx=b\n",
    "        \n",
    "    def model(self, s,species_ind=torch.zeros(1),batch_ind=torch.zeros(1),step=torch.ones(1),taxon=torch.zeros(1)):\n",
    "        # Register various nn.Modules (i.e. the decoder/encoder networks) with Pyro\n",
    "        pyro.module(\"antipode\", self)\n",
    "        \n",
    "        l = s.sum(1).unsqueeze(-1)\n",
    "        minibatch_plate=pyro.plate(\"minibatch_plate\", s.shape[0],dim=-1)\n",
    "        minibatch_plate2=pyro.plate(\"minibatch_plate2\", s.shape[0],dim=-2)\n",
    "\n",
    "        batch=batch_ind#index_to_onehot(batch_ind,[s.shape[0],self.num_batch]).to(s.device)\n",
    "        species=species_ind#index_to_onehot(species_ind,[s.shape[0],self.num_species]).to(s.device)\n",
    "        #batch_ind=batch_ind.squeeze()\n",
    "        #species_ind=species_ind.squeeze()\n",
    "        \n",
    "        cur_strictness=self.decay_function(step, self.max_strictness) if self.decay_function is not None else 1.\n",
    "        \n",
    "        with poutine.scale(scale=self.scale_factor):\n",
    "            # This gene-level parameter modulates the variance of the observation distribution\n",
    "            intron_scale = pyro.param(\"intron_scale_factor\", s.new_ones(self.num_species,self.num_var),\n",
    "                       constraint=constraints.positive)\n",
    "            s_theta = pyro.param(\"s_inverse_dispersion\", 50.0 * s.new_ones(self.num_var),\n",
    "                               constraint=constraints.positive)\n",
    "            \n",
    "            scd=pyro.param(\"species_constitutive_de\", s.new_zeros((self.num_species,self.num_var)))\n",
    "            level_edges=self.tree_edges.model_sample(s,approx=self.approx)\n",
    "            \n",
    "            # We scale all sample statements by scale_factor so that the ELBO loss function\n",
    "            # is normalized wrt the number of datapoints and genes.\n",
    "            # This helps with numerical stability during optimization.\n",
    "            with minibatch_plate:\n",
    "                beta_prior_a=1.*s.new_ones(self.num_labels)\n",
    "                beta_prior_a[0]=10.\n",
    "                \n",
    "                if self.approx:\n",
    "                    taxon = pyro.sample(\"taxon_probs\", dist.Beta(beta_prior_a,s.new_ones(self.num_labels),validate_args=True).to_event(1))\n",
    "                    taxon = pyro.sample('taxon',dist.RelaxedBernoulli(temperature=0.1*s.new_ones(1),probs=taxon).to_event(1))\n",
    "                    #self.tree_convergence.model_sample(taxon,level_edges,s,cur_strictness)\n",
    "                else:\n",
    "                    taxon_probs=pyro.sample('taxon_probs',dist.Dirichlet(s.new_ones(s.shape[0],self.level_sizes[-1]),validate_args=True))\n",
    "                    if sum(taxon.shape) > 1:\n",
    "                        if taxon.shape[-1]==self.num_labels:#Skip this section if totally supervised\n",
    "                            pass\n",
    "                        else:\n",
    "                            taxon = pyro.sample(\"taxon\", dist.OneHotCategorical(probs=taxon_probs,validate_args=True),obs=taxon)\n",
    "                            taxon = torch.concat(self.tree_convergence_bottom_up.just_propagate(taxon,level_edges,s),-1)\n",
    "                    else:\n",
    "                        taxon = pyro.sample(\"taxon\", model_distributions.SafeAndRelaxedOneHotCategoricalStraightThrough(temperature=0.1*s.new_ones(1),probs=taxon_probs,validate_args=True))\n",
    "                        taxon = torch.concat(self.tree_convergence_bottom_up.just_propagate(taxon,level_edges,s),-1)\n",
    "                    \n",
    "            locs=self.zl.model_sample(s)\n",
    "            scales=self.zs.model_sample(s)\n",
    "            locs_dynam=self.zld.model_sample(s)\n",
    "            species_dm=self.dm.model_sample(s,scale=fest([species,taxon],-1))\n",
    "            species_di=self.di.model_sample(s,scale=fest([species,taxon],-1))\n",
    "            batch_dm=self.bm.model_sample(s,scale=fest([batch,taxon],-1))\n",
    "            bei=self.bei.model_sample(s,scale=fest([s.new_ones(s.shape[0],self.num_batch_embed),taxon[...,:self.num_bi_depth]],-1))\n",
    "            cluster_intercept=self.ci.model_sample(s,scale=fest([taxon],-1))\n",
    "            z_decoder_weight=self.zdw.model_sample(s)\n",
    "            \n",
    "            with minibatch_plate:\n",
    "                bi=torch.einsum('bi,ijk->bjk',self.be_nn(batch),bei)\n",
    "                bi=torch.einsum('bj,bjk->bk',taxon[...,:self.num_bi_depth],bi)\n",
    "                psi = pyro.sample('psi',dist.Laplace(s.new_zeros(s.shape[0],1),self.prior_scale*s.new_ones(s.shape[0],1)).to_event(1))#Used to be normal#maybe should be centered sigmoid\n",
    "                this_locs=oh_index(locs,taxon)\n",
    "                this_scales=oh_index(scales,taxon)\n",
    "                z=pyro.sample('z', dist.Normal(this_locs,this_scales+self.epsilon,validate_args=True).to_event(1))\n",
    "\n",
    "            z=z+oh_index2(oh_index1(species_dm,species),taxon) + oh_index2(oh_index1(batch_dm,batch),taxon)+(oh_index(locs_dynam,taxon)*psi)\n",
    "            z=self.z_transform(z)                \n",
    "            species_dc=self.dc.model_sample(s,scale=fest([species,z.abs()],-1))\n",
    "            cur_species_di=oh_index2(oh_index1(species_di,species),taxon)\n",
    "            cur_cluster_intercept=oh_index(cluster_intercept,taxon)\n",
    "            mu=torch.einsum('...bi,...bij->...bj',z,z_decoder_weight+oh_index1(species_dc,species))#+bc\n",
    "            spliced_mu=mu+oh_index(scd,species)+cur_species_di+cur_cluster_intercept+bi\n",
    "            spliced_out=torch.softmax(spliced_mu,dim=-1)\n",
    "            log_mu = (l * spliced_out + 1e-6).log()\n",
    "            \n",
    "            with self.var_plate,minibatch_plate2:\n",
    "                s_dist = dist.NegativeBinomial(total_count=s_theta,logits=log_mu-s_theta.log(),validate_args=True)\n",
    "                s_out=pyro.sample(\"s\", s_dist, obs=s.int())\n",
    "\n",
    "    \n",
    "    # The guide specifies the variational distribution\n",
    "    def guide(self, s,species_ind=torch.zeros(1),batch_ind=torch.zeros(1),step=torch.ones(1),taxon=torch.zeros(1)):\n",
    "        pyro.module(\"antipode\", self)\n",
    "\n",
    "        batch=batch_ind#index_to_onehot(batch_ind,[s.shape[0],self.num_batch]).to(s.device)\n",
    "        species=species_ind#index_to_onehot(species_ind,[s.shape[0],self.num_species]).to(s.device)\n",
    "\n",
    "        # batch=index_to_onehot(batch_ind,[s.shape[0],self.num_batch]).to(s.device)\n",
    "        # species=index_to_onehot(species_ind,[s.shape[0],self.num_species]).to(s.device)\n",
    "        # batch_ind=batch_ind.squeeze()\n",
    "        # species_ind=species_ind.squeeze()\n",
    "        \n",
    "        minibatch_plate=pyro.plate(\"minibatch_plate\", s.shape[0])\n",
    "        \n",
    "        cur_strictness=self.decay_function(step, self.max_strictness) if self.decay_function is not None else 1.\n",
    "        \n",
    "        with poutine.scale(scale=self.scale_factor):\n",
    "            locs=self.zl.guide_sample(s)\n",
    "            scales=self.zs.guide_sample(s)\n",
    "            locs_dynam=self.zld.guide_sample(s)\n",
    "            level_edges=self.tree_edges.guide_sample(s,approx=self.approx) \n",
    "            with minibatch_plate:\n",
    "                z_loc, z_scale = self.zl_encoder(s,species)\n",
    "                z=pyro.sample('z',dist.Normal(z_loc,z_scale+self.epsilon).to_event(1))\n",
    "                z=self.z_transform(z)\n",
    "                taxon_logits,psi_loc,psi_scale=self.classifier(z)\n",
    "                psi=pyro.sample('psi',dist.Normal(psi_loc,psi_scale).to_event(1))\n",
    "                if self.approx:\n",
    "                    taxon_dist = dist.Delta(safe_sigmoid(taxon_logits),validate_args=True).to_event(1)\n",
    "                    taxon = pyro.sample(\"taxon_probs\", taxon_dist)\n",
    "                    taxon = pyro.sample('taxon',dist.RelaxedBernoulli(temperature=0.1*s.new_ones(1),probs=taxon).to_event(1))\n",
    "                    #self.tree_convergence.guide_sample(taxon,level_edges,s,cur_strictness)\n",
    "                else:\n",
    "                    taxon_probs=pyro.sample('taxon_probs',dist.Delta(safe_softmax(taxon_logits[...,-self.level_sizes[-1]:])).to_event(1))\n",
    "                    if sum(taxon.shape) > 1:\n",
    "                        pass\n",
    "                    else:\n",
    "                        taxon = pyro.sample(\"taxon\", \n",
    "                                         model_distributions.SafeAndRelaxedOneHotCategoricalStraightThrough(temperature=0.1*s.new_ones(1),probs=taxon_probs,validate_args=True))\n",
    "                    if taxon.shape[-1]<self.num_labels:\n",
    "                        taxon = torch.concat(self.tree_convergence_bottom_up.just_propagate(taxon,level_edges,s),-1)\n",
    "\n",
    "            z_decoder_weight=self.zdw.guide_sample(s)\n",
    "            species_dm=self.dm.guide_sample(s,scale=fest([species,taxon],-1))\n",
    "            batch_dm=self.bm.guide_sample(s,scale=fest([batch,taxon],-1))\n",
    "            species_di=self.di.guide_sample(s,scale=fest([species,taxon],-1))\n",
    "            cluster_intercept=self.ci.guide_sample(s,scale=fest([taxon],-1))\n",
    "            bei=self.bei.guide_sample(s,scale=fest([s.new_ones(s.shape[0],self.num_batch_embed),taxon[...,:self.num_bi_depth]],-1))#maybe should be abs sum bei\n",
    "            z=z+oh_index2(oh_index1(species_dm,species),taxon) + oh_index2(oh_index1(batch_dm,batch),taxon)+(oh_index(locs_dynam,taxon)*psi)\n",
    "            z=self.z_transform(z)\n",
    "            species_dc=self.dc.guide_sample(s,scale=fest([species,z.abs()],-1))\n"
   ]
  },
  {
   "cell_type": "code",
   "execution_count": 165,
   "id": "ff4bfd6a-7721-41cc-953b-4044807d3a69",
   "metadata": {},
   "outputs": [],
   "source": [
    "class ANTIPODE(PyroBaseModuleClass):\n",
    "    \"\"\"\n",
    "    ANTIPODE is a variational inference model that is developed for the analysis and \n",
    "    categorization of cell types across evolution based on single-cell data. \n",
    "\n",
    "    Parameters:\n",
    "    num_var (int): Number of variables (features) in the dataset.\n",
    "    level_sizes (list of int, optional): Sizes of each level in the model's hierarchical structure. \n",
    "                                         Defaults to [1, 10, 20, 50].\n",
    "    num_latent (int, optional): Number of latent dimensions. Defaults to 10.\n",
    "    alpha (float, optional): The Dirichlet concentration parameter. Defaults to 0.01.\n",
    "    scale_factor (float, optional): Scaling factor for data normalization. Defaults to 1.0.\n",
    "    num_species (int, optional): Number of species (or groups) in the dataset. Defaults to 1.\n",
    "    num_batch (int, optional): Number of batches to correct for in the data. Defaults to 1.\n",
    "    prior_scale (float, optional): Scale of the laplace prior distributions. Defaults to 100.\n",
    "    bi_depth (int, optional): Depth of the tree for the approximation of batch by identity effects. Defaults to 2.\n",
    "\n",
    "    \"\"\"\n",
    "    def __init__(self, num_var,level_sizes=[1,10,20,50],\n",
    "                 num_latent=10, alpha=0.01, scale_factor=1.0,\n",
    "                 num_species=1,num_batch=1,prior_scale=100,\n",
    "                 decay_function=None,max_strictness=1.,bi_depth=2,num_batch_embed=10):\n",
    "        \n",
    "        self._setup_adata_manager_store: dict[\n",
    "            str, type[scvi.data.AnnDataManager]\n",
    "        ] = {}\n",
    "        self.num_var = num_var\n",
    "        self.num_species = num_species\n",
    "        self.num_batch = num_batch\n",
    "        self.num_latent = num_latent\n",
    "        self.scale_factor=scale_factor\n",
    "        self.level_sizes=level_sizes\n",
    "        self.num_labels = np.sum(self.level_sizes)\n",
    "        self.level_indices=np.cumsum([0]+self.level_sizes)\n",
    "        #how deep in the tree should batch by identity be accounted for\n",
    "        self.bi_depth=bi_depth\n",
    "        self.num_bi_depth=sum(self.level_sizes[:self.bi_depth])\n",
    "        self.num_batch_embed=num_batch_embed\n",
    "        self.max_strictness=1.\n",
    "        self.decay_function=decay_function\n",
    "        self.design_matrix=False #Can be fed multi-hot batch/species with serious performance hit\n",
    "\n",
    "        # Initialize plates to be used during sampling\n",
    "        self.var_plate=pyro.plate('var_plate',self.num_var,dim=-1)\n",
    "        self.species_plate=pyro.plate('species_plate',self.num_species,dim=-3)\n",
    "        self.batch_plate=pyro.plate('batch_plate',self.num_batch,dim=-3)\n",
    "        self.latent_plate=pyro.plate('latent_plate',self.num_latent,dim=-1)\n",
    "        self.latent_plate2=pyro.plate('latent_plate2',self.num_latent,dim=-2)\n",
    "        self.label_plate=pyro.plate('label_plate',self.num_labels,dim=-2)\n",
    "        self.batch_embed_plate=pyro.plate('batch_embed_plate',self.num_batch_embed,dim=-3)\n",
    "        self.bi_depth_plate=pyro.plate('bi_depth_plate',self.num_bi_depth,dim=-2)\n",
    "\n",
    "        #Initialize MAP inference modules\n",
    "        self.dm=MAPLaplaceModule(self,'species_dm',[self.num_species,self.num_labels,self.num_latent],[self.species_plate,self.label_plate,self.latent_plate])\n",
    "        self.bm=MAPLaplaceModule(self,'batch_dm',[self.num_batch,self.num_labels,self.num_latent],[self.batch_plate,self.label_plate,self.latent_plate])\n",
    "        self.di=MAPLaplaceModule(self,'species_di',[self.num_species,self.num_labels,self.num_var],[self.species_plate,self.label_plate,self.var_plate])\n",
    "        self.bei=MAPLaplaceModule(self,'batch_di',[self.num_batch_embed,self.num_bi_depth,self.num_var],[self.batch_embed_plate,self.bi_depth_plate,self.var_plate])\n",
    "        self.ci=MAPLaplaceModule(self,'cluster_intercept',[self.num_labels, self.num_var],[self.label_plate,self.var_plate])\n",
    "        self.dc=MAPLaplaceModule(self,'species_dc',[self.num_species,self.num_latent,self.num_var],[self.species_plate,self.latent_plate2,self.var_plate])\n",
    "        #Just params\n",
    "        self.zdw=MAPLaplaceModule(self,'z_decoder_weight',[self.num_latent,self.num_var],[self.latent_plate2,self.var_plate],init_val=((2/self.num_latent)*(torch.rand(self.num_latent,self.num_var)-0.5)),param_only=True)\n",
    "        self.zl=MAPLaplaceModule(self,'locs',[self.num_labels,self.num_latent],[self.label_plate,self.latent_plate],param_only=True)\n",
    "        self.zs=MAPLaplaceModule(self,'scales',[self.num_labels,self.num_latent],[self.label_plate,self.latent_plate],init_val=0.01*torch.ones(self.num_labels,self.num_latent),constraint=constraints.positive,param_only=True)\n",
    "        self.zld=MAPLaplaceModule(self,'locs_dynam',[self.num_labels,self.num_latent],[self.label_plate,self.latent_plate],param_only=True)\n",
    "        \n",
    "        self.tree_edges=TreeEdges(self,straight_through=True)\n",
    "        self.tree_convergence=TreeConvergence(self,strictness=1.)        \n",
    "        self.tree_convergence_bottom_up=TreeConvergenceBottomUp(self,strictness=1.)        \n",
    "        self.z_transform=null_function#centered_sigmoid#torch.special.expit\n",
    "        \n",
    "        super().__init__()\n",
    "        # Setup the various neural networks used in the model and guide\n",
    "        self.z_decoder=ZDecoder(num_latent=self.num_latent, num_var=num_var, hidden_dims=[])        \n",
    "        self.zl_encoder=ZLEncoder(num_var=num_var,hidden_dims=[6000,3000,1000],num_cat_input=self.num_species,\n",
    "                    outputs=[(self.num_latent,None),(self.num_latent,softplus)])\n",
    "        \n",
    "        self.classifier=Classifier(num_latent=self.num_latent,\n",
    "                    outputs=[(self.num_labels,None),(1,None),(1,softplus)])\n",
    "\n",
    "        #self.bc_nn=SimpleFFNN(in_dim=self.num_batch,hidden_dims=[200,200,50,5],\n",
    "        #            out_dim=self.num_var*self.num_latent)\n",
    "        #Too large to exactly model gene-level batch effects for all cluster x batch\n",
    "        self.be_nn=SimpleFFNN(in_dim=self.num_batch,hidden_dims=[1000,500,200],\n",
    "                    out_dim=self.num_batch_embed)\n",
    "        \n",
    "        self.epsilon = 0.006\n",
    "        #Initialize model in approximation mode\n",
    "        self.approx=False\n",
    "        self.hard=False\n",
    "        #Whether to approximate tree connectivity during approximation mode\n",
    "        self.prior_scale=prior_scale\n",
    "        self.args=inspect.getfullargspec(self.model).args[1:]#skip self\n",
    "\n",
    "    def setup_anndata(\n",
    "        self,\n",
    "        adata: anndata.AnnData,\n",
    "        fields,\n",
    "        field_types,\n",
    "        **kwargs,\n",
    "    ):\n",
    "        \n",
    "        anndata_fields=[make_field(x,fields[x]) for x in fields.keys()]\n",
    "        \n",
    "        adata_manager = scvi.data.AnnDataManager(\n",
    "            fields=anndata_fields\n",
    "        )\n",
    "        adata_manager.register_fields(adata, **kwargs)\n",
    "        self.register_manager(adata_manager)\n",
    "        if fields['species_ind'][0]=='obsm':\n",
    "            self.design_matrix=True\n",
    "            if fields['batch_ind'][0]!='obsm':\n",
    "                raise Exception(\"If species is design matrix, batch must be as well!\")\n",
    "\n",
    "\n",
    "    def register_manager(self, adata_manager: scvi.data.AnnDataManager):\n",
    "        adata_id = adata_manager.adata_uuid\n",
    "        self._setup_adata_manager_store[adata_id] = adata_manager\n",
    "        self.adata_manager=adata_manager\n",
    "    \n",
    "    def set_approx(self,b: bool):\n",
    "        self.approx=b\n",
    "        \n",
    "    def model(self, s,species_ind=torch.zeros(1),batch_ind=torch.zeros(1),step=torch.ones(1),taxon=torch.zeros(1)):\n",
    "        # Register various nn.Modules (i.e. the decoder/encoder networks) with Pyro\n",
    "        pyro.module(\"antipode\", self)\n",
    "\n",
    "        if not self.design_matrix:\n",
    "            batch=index_to_onehot(batch_ind,[s.shape[0],self.num_batch]).to(s.device)\n",
    "            species=index_to_onehot(species_ind,[s.shape[0],self.num_species]).to(s.device)\n",
    "            batch_ind=batch_ind.squeeze()\n",
    "            species_ind=species_ind.squeeze()\n",
    "        else:\n",
    "            batch=batch_ind\n",
    "            species=species_ind\n",
    "        \n",
    "        minibatch_plate=pyro.plate(\"minibatch_plate\", s.shape[0],dim=-1)\n",
    "        minibatch_plate2=pyro.plate(\"minibatch_plate2\", s.shape[0],dim=-2)\n",
    "        cur_strictness=self.decay_function(step, self.max_strictness)\n",
    "        l = s.sum(1).unsqueeze(-1)\n",
    "        \n",
    "        with poutine.scale(scale=self.scale_factor):\n",
    "            # This gene-level parameter modulates the variance of the observation distribution\n",
    "            intron_scale = pyro.param(\"intron_scale_factor\", s.new_ones(self.num_species,self.num_var),\n",
    "                       constraint=constraints.positive)\n",
    "            s_theta = pyro.param(\"s_inverse_dispersion\", 50.0 * s.new_ones(self.num_var),\n",
    "                               constraint=constraints.positive)\n",
    "            \n",
    "            scd=pyro.param(\"species_constitutive_de\", s.new_zeros((self.num_species,self.num_var)))\n",
    "            level_edges=self.tree_edges.model_sample(s,approx=self.approx)\n",
    "            \n",
    "            # We scale all sample statements by scale_factor so that the ELBO loss function\n",
    "            # is normalized wrt the number of datapoints and genes.\n",
    "            # This helps with numerical stability during optimization.\n",
    "            with minibatch_plate:\n",
    "                beta_prior_a=1.*s.new_ones(self.num_labels)\n",
    "                beta_prior_a[0]=10.\n",
    "                if self.approx:\n",
    "                    taxon = pyro.sample(\"taxon_probs\", dist.Beta(beta_prior_a,s.new_ones(self.num_labels),validate_args=True).to_event(1))\n",
    "                    taxon = pyro.sample('taxon',dist.RelaxedBernoulli(temperature=0.1*s.new_ones(1),probs=taxon).to_event(1))\n",
    "                    #self.tree_convergence.model_sample(taxon,level_edges,s,cur_strictness)\n",
    "                else:\n",
    "                    taxon_probs=pyro.sample('taxon_probs',dist.Dirichlet(s.new_ones(s.shape[0],self.level_sizes[-1]),validate_args=True))\n",
    "                    if sum(taxon.shape) > 1:\n",
    "                        if taxon.shape[-1]==self.num_labels:#Skip this section if totally supervised\n",
    "                            pass\n",
    "                        else:\n",
    "                            taxon = pyro.sample(\"taxon\", dist.OneHotCategorical(probs=taxon_probs,validate_args=True),obs=taxon)\n",
    "                            taxon = torch.concat(self.tree_convergence_bottom_up.just_propagate(taxon,level_edges,s),-1)\n",
    "                    else:\n",
    "                        taxon = pyro.sample(\"taxon\", model_distributions.SafeAndRelaxedOneHotCategoricalStraightThrough(temperature=0.1*s.new_ones(1),probs=taxon_probs,validate_args=True))\n",
    "                        taxon = torch.concat(self.tree_convergence_bottom_up.just_propagate(taxon,level_edges,s),-1)\n",
    "\n",
    "                    #taxon = torch.concat(self.tree_convergence_bottom_up.model_sample(taxon,level_edges,s),-1)\n",
    "                    taxon = torch.concat(self.tree_convergence_bottom_up.just_propagate(taxon,level_edges,s),-1)\n",
    "                    \n",
    "            locs=self.zl.model_sample(s)\n",
    "            scales=self.zs.model_sample(s)\n",
    "            locs_dynam=self.zld.model_sample(s)\n",
    "            species_dm=self.dm.model_sample(s,scale=fest([species,taxon],-1))\n",
    "            species_di=self.di.model_sample(s,scale=fest([species,taxon],-1))\n",
    "            batch_dm=self.bm.model_sample(s,scale=fest([batch,taxon],-1))\n",
    "            bei=self.bei.model_sample(s,scale=fest([s.new_ones(s.shape[0],self.num_batch_embed),taxon[...,:self.num_bi_depth]],-1))\n",
    "            cluster_intercept=self.ci.model_sample(s,scale=fest([taxon],-1))\n",
    "            z_decoder_weight=self.zdw.model_sample(s)\n",
    "            \n",
    "            with minibatch_plate:\n",
    "                bi=torch.einsum('bi,ijk->bjk',self.be_nn(batch),bei)\n",
    "                bi=torch.einsum('bj,bjk->bk',taxon[...,:self.num_bi_depth],bi)\n",
    "                psi = pyro.sample('psi',dist.Laplace(s.new_zeros(s.shape[0],1),self.prior_scale*s.new_ones(s.shape[0],1)).to_event(1))#Used to be normal#maybe should be centered sigmoid\n",
    "                this_locs=oh_index(locs,taxon)\n",
    "                this_scales=oh_index(scales,taxon)\n",
    "                z=pyro.sample('z', dist.Normal(this_locs,this_scales+self.epsilon,validate_args=True).to_event(1))\n",
    "\n",
    "            cur_species_dm = oh_index1(species_dm, species_ind) if self.design_matrix else species_dm[species_ind]\n",
    "            cur_batch_dm = oh_index1(batch_dm, batch_ind) if self.design_matrix else batch_dm[batch_ind]\n",
    "            cur_scd = oh_index(scd, species) if self.design_matrix else  scd[species_ind]\n",
    "            z=z+oh_index2(cur_species_dm,taxon) + oh_index2(cur_batch_dm,taxon)+(oh_index(locs_dynam,taxon)*psi)\n",
    "            z=self.z_transform(z)                \n",
    "            \n",
    "            species_dc=self.dc.model_sample(s,scale=fest([species,z.abs()],-1))\n",
    "            \n",
    "            cur_species_di = oh_index1(species_di, species_ind) if self.design_matrix else species_di[species_ind]\n",
    "            cur_species_dc = oh_index1(species_dc, species_ind) if self.design_matrix else species_dc[species_ind]\n",
    "            cur_species_di=oh_index2(cur_species_di,taxon)\n",
    "            cur_cluster_intercept=oh_index(cluster_intercept,taxon)\n",
    "            mu=torch.einsum('...bi,...bij->...bj',z,z_decoder_weight+cur_species_dc)#+bc\n",
    "            \"\"\"\n",
    "            if self.design_matrix:\n",
    "                z=z+oh_index2(species_dm[species_ind],taxon) + oh_index2(batch_dm[batch_ind],taxon)+(oh_index(locs_dynam,taxon)*psi)\n",
    "                z=self.z_transform(z)                \n",
    "                species_dc=self.dc.model_sample(s,scale=fest([species,z.abs()],-1))\n",
    "                cur_species_di=oh_index2(species_di[species_ind],taxon)\n",
    "                cur_cluster_intercept=oh_index(cluster_intercept,taxon)\n",
    "                mu=torch.einsum('...bi,...bij->...bj',z,z_decoder_weight+species_dc[species_ind])#+bc\n",
    "            else:\n",
    "                z=z+oh_index2(oh_index1(species_dm,species),taxon) + oh_index2(oh_index1(batch_dm,batch),taxon)+(oh_index(locs_dynam,taxon)*psi)\n",
    "                z=self.z_transform(z)                \n",
    "                species_dc=self.dc.model_sample(s,scale=fest([species,z.abs()],-1))\n",
    "                cur_species_di=oh_index2(oh_index1(species_di,species),taxon)\n",
    "                cur_cluster_intercept=oh_index(cluster_intercept,taxon)\n",
    "                mu=torch.einsum('...bi,...bij->...bj',z,z_decoder_weight+oh_index1(species_dc,species))#+bc\n",
    "            \"\"\"\n",
    "            spliced_mu=mu+cur_scd+cur_species_di+cur_cluster_intercept+bi\n",
    "            spliced_out=torch.softmax(spliced_mu,dim=-1)\n",
    "            log_mu = (l * spliced_out + 1e-6).log()\n",
    "            \n",
    "            with self.var_plate,minibatch_plate2:\n",
    "                s_dist = dist.NegativeBinomial(total_count=s_theta,logits=log_mu-s_theta.log(),validate_args=True)\n",
    "                s_out=pyro.sample(\"s\", s_dist, obs=s.int())\n",
    "\n",
    "    \n",
    "    # The guide specifies the variational distribution\n",
    "    def guide(self, s,species_ind=torch.zeros(1),batch_ind=torch.zeros(1),step=torch.ones(1),taxon=torch.zeros(1)):\n",
    "        pyro.module(\"antipode\", self)\n",
    "        \n",
    "        if not self.design_matrix:\n",
    "            batch=index_to_onehot(batch_ind,[s.shape[0],self.num_batch]).to(s.device)\n",
    "            species=index_to_onehot(species_ind,[s.shape[0],self.num_species]).to(s.device)\n",
    "            batch_ind=batch_ind.squeeze()\n",
    "            species_ind=species_ind.squeeze()\n",
    "        else:\n",
    "            batch=batch_ind\n",
    "            species=species_ind\n",
    "        \n",
    "        minibatch_plate=pyro.plate(\"minibatch_plate\", s.shape[0])\n",
    "        cur_strictness=self.decay_function(step, self.max_strictness)\n",
    "        \n",
    "        with poutine.scale(scale=self.scale_factor):\n",
    "            locs=self.zl.guide_sample(s)\n",
    "            scales=self.zs.guide_sample(s)\n",
    "            locs_dynam=self.zld.guide_sample(s)\n",
    "            level_edges=self.tree_edges.guide_sample(s,approx=self.approx) \n",
    "            with minibatch_plate:\n",
    "                z_loc, z_scale= self.zl_encoder(s,species)\n",
    "                z=pyro.sample('z',dist.Normal(z_loc,z_scale+self.epsilon).to_event(1))\n",
    "                z=self.z_transform(z)\n",
    "                taxon_logits,psi_loc,psi_scale=self.classifier(z)\n",
    "                psi=pyro.sample('psi',dist.Normal(psi_loc,psi_scale).to_event(1))\n",
    "                if self.approx:\n",
    "                    taxon_dist = dist.Delta(safe_sigmoid(taxon_logits),validate_args=True).to_event(1)\n",
    "                    taxon = pyro.sample(\"taxon_probs\", taxon_dist)\n",
    "                    taxon = pyro.sample('taxon',dist.RelaxedBernoulli(temperature=0.1*s.new_ones(1),probs=taxon).to_event(1))\n",
    "                    #self.tree_convergence.guide_sample(taxon,level_edges,s,cur_strictness)\n",
    "                else:\n",
    "                    taxon_probs=pyro.sample('taxon_probs',dist.Delta(safe_softmax(taxon_logits[...,-self.level_sizes[-1]:])).to_event(1))\n",
    "                    if sum(taxon.shape) > 1:\n",
    "                        pass\n",
    "                    else:\n",
    "                        taxon = pyro.sample(\"taxon\", \n",
    "                                         model_distributions.SafeAndRelaxedOneHotCategoricalStraightThrough(temperature=0.1*s.new_ones(1),probs=taxon_probs,validate_args=True))\n",
    "                    if taxon.shape[-1]<self.num_labels:\n",
    "                        taxon = torch.concat(self.tree_convergence_bottom_up.just_propagate(taxon,level_edges,s),-1)\n",
    "\n",
    "            z_decoder_weight=self.zdw.guide_sample(s)\n",
    "            species_dm=self.dm.guide_sample(s,scale=fest([species,taxon],-1))\n",
    "            batch_dm=self.bm.guide_sample(s,scale=fest([batch,taxon],-1))\n",
    "            species_di=self.di.guide_sample(s,scale=fest([species,taxon],-1))\n",
    "            cluster_intercept=self.ci.guide_sample(s,scale=fest([taxon],-1))\n",
    "            bei=self.bei.guide_sample(s,scale=fest([s.new_ones(s.shape[0],self.num_batch_embed),taxon[...,:self.num_bi_depth]],-1))#maybe should be abs sum bei\n",
    "            if self.design_matrix:\n",
    "                z=z+oh_index2(oh_index1(species_dm,species_ind),taxon) + oh_index2(oh_index1(batch_dm,batch_ind),taxon)+(oh_index(locs_dynam,taxon)*psi)\n",
    "            else:\n",
    "                z=z+oh_index2(species_dm[species_ind],taxon) + oh_index2(batch_dm[batch_ind],taxon)+(oh_index(locs_dynam,taxon)*psi)\n",
    "            z=self.z_transform(z)\n",
    "            species_dc=self.dc.guide_sample(s,scale=fest([species,z.abs()],-1))\n"
   ]
  },
  {
   "cell_type": "code",
   "execution_count": 166,
   "id": "c8188b4f-93d3-417e-b6d6-061bdb88f6c1",
   "metadata": {},
   "outputs": [],
   "source": [
    "try:\n",
    "    del antipode_model\n",
    "    torch.cuda.empty_cache()\n",
    "except:\n",
    "    pass"
   ]
  },
  {
   "cell_type": "code",
   "execution_count": 167,
   "id": "5a279f5d-b1b6-453f-b86b-7ec87d94418a",
   "metadata": {},
   "outputs": [],
   "source": [
    "import sys\n",
    "sys.path.append('/home/matthew.schmitz/Matthew/code/scANTIPODE/plate_version/')\n",
    "import model_functions\n",
    "from model_functions import *\n",
    "import model_distributions\n",
    "from model_distributions import *\n",
    "import plate_modules\n",
    "from plate_modules import *\n",
    "\n",
    "import importlib\n",
    "plate_modules=importlib.reload(plate_modules)\n",
    "from plate_modules import *\n",
    "\n",
    "model_functions=importlib.reload(model_functions)\n",
    "from model_functions import *\n",
    "\n",
    "import importlib\n",
    "model_distributions=importlib.reload(model_distributions)\n",
    "from model_distributions import *\n",
    "\n"
   ]
  },
  {
   "cell_type": "code",
   "execution_count": 168,
   "id": "62ba9a43-72ed-40a7-9449-225e905f427b",
   "metadata": {
    "tags": []
   },
   "outputs": [],
   "source": [
    "device='cuda'\n",
    "num_var=adata.shape[1]\n",
    "batch_size=32\n",
    "level_sizes=[1,25,75,250]\n",
    "num_latent=200\n",
    "num_labels=sum(level_sizes)\n",
    "steps=0\n",
    "max_steps=150000\n",
    "print_every=5000\n",
    "\n",
    "# Clear Pyro param store so we don't conflict with previous run\n",
    "pyro.clear_param_store()\n",
    "# Fix random number seed to a lucky number\n",
    "pyro.util.set_rng_seed(13)\n",
    "# Enable optional validation warnings\n",
    "pyro.enable_validation(True)\n",
    "\n",
    "decay_function=gen_linear_function(max_steps,10000)#gen_exponential_decay(5e-6)\n",
    "\n",
    "# Instantiate instance of model/guide and various neural networks\n",
    "antipode_model = ANTIPODE(num_var=num_var, num_latent=num_latent,level_sizes=level_sizes,\n",
    "                num_species=len(adata.obs['species'].unique()),\n",
    "                num_batch=len(adata.obs['batch_name'].unique()),\n",
    "                scale_factor=1e2 / (3*batch_size * num_var * num_labels * num_latent),\n",
    "                bi_depth=2,decay_function=decay_function,max_strictness=50,prior_scale=10000.,num_batch_embed=10)\n",
    "\n",
    "\n",
    "\n",
    "# Setup an optimizer (Adam) and learning rate scheduler.\n",
    "# We start with a moderately high learning rate (0.006) and\n",
    "# reduce by a factor of 5 after 20 epochs.\n",
    "scheduler=pyro.optim.OneCycleLR({'max_lr':0.001,'total_steps':max_steps,'div_factor':100,'optim_args':{},'optimizer':torch.optim.Adam})\n",
    "\n",
    "# Setup a variational objective for gradient-based learning.\n",
    "# Note we use TraceEnum_ELBO in order to leverage Pyro's machinery\n",
    "# for automatic enumeration of the discrete latent variable y.\n",
    "elbo = pyro.infer.JitTrace_ELBO(num_particles=3,strict_enumeration_warning=False)\n",
    "\n",
    "svi = SVI(antipode_model.model, antipode_model.guide, scheduler, elbo)"
   ]
  },
  {
   "cell_type": "code",
   "execution_count": 169,
   "id": "0eb1e761-7ae4-4bc0-b5d6-57634dd7f053",
   "metadata": {},
   "outputs": [
    {
     "name": "stderr",
     "output_type": "stream",
     "text": [
      "/allen/programs/celltypes/workgroups/rnaseqanalysis/EvoGen/Team/Matthew/utils/miniconda3/envs/pyro/lib/python3.11/site-packages/scvi/data/fields/_dataframe_field.py:189: UserWarning: Category 0 in adata.obs['_scvi_batch_ind'] has fewer than 3 cells. Models may not train properly.\n",
      "  categorical_mapping = _make_column_categorical(\n"
     ]
    }
   ],
   "source": [
    "adata.obsm['species_onehot']=numpy_onehot(adata.obs['species'].cat.codes)\n",
    "adata.obsm['batch_onehot']=numpy_onehot(adata.obs['batch_name'].cat.codes)\n",
    "\n",
    "fields={'s':('layers','spliced'),\n",
    "'species_ind':('obs','species'),\n",
    "'batch_ind':('obs','batch_name')}\n",
    "field_types={\"s\":np.float32,\"batch_ind\":np.int64,\"species_ind\":np.int64}\n",
    "\n",
    "\n",
    "# fields={'s':('layers','spliced'),\n",
    "# 'species_ind':('obsm','species_onehot'),\n",
    "# 'batch_ind':('obsm','batch_onehot')}\n",
    "# field_types={\"s\":np.float32,\"batch_ind\":np.float32,\"species_ind\":np.float32}\n",
    "\n",
    "\n",
    "# supervised_fields={'s':('layers','spliced'),\n",
    "# 'species_ind':('obs','species'),\n",
    "# 'batch_ind':('obs','batch_name'),\n",
    "# 'taxon':('obsm','taxon')}\n",
    "\n",
    "\n",
    "# supervised_field_types={\"s\":np.float32,\"batch_ind\":np.int64,\"species_ind\":np.int64,\"taxon\":np.float64}\n",
    "#field_types={\"s\":np.float32,\"batch_ind\":np.float32,\"species_ind\":np.float32}\n",
    "\n",
    "antipode_model.setup_anndata(adata,fields,field_types)\n",
    "dataloader=scvi.dataloaders.AnnDataLoader(antipode_model.adata_manager,batch_size=32,drop_last=True,shuffle=True,data_and_attributes=field_types)#supervised_field_types for supervised step "
   ]
  },
  {
   "cell_type": "code",
   "execution_count": null,
   "id": "06c837df-8194-4317-934a-72f17e50c4e3",
   "metadata": {},
   "outputs": [
    {
     "name": "stderr",
     "output_type": "stream",
     "text": [
      "  0%|          | 101/150000 [00:27<11:25:48,  3.64it/s]\n",
      "/home/matthew.schmitz/Matthew/code/scANTIPODE/plate_version/model_functions.py:303: TracerWarning: Converting a tensor to a Python boolean might cause the trace to be incorrect. We can't record the data flow of Python values, so this value will be treated as a constant in the future. This means that the trace might not generalize to other inputs!\n",
      "  if sum(index.shape) == 1:\n",
      "/home/matthew.schmitz/Matthew/code/scANTIPODE/plate_version/model_functions.py:306: TracerWarning: Converting a tensor to a Python boolean might cause the trace to be incorrect. We can't record the data flow of Python values, so this value will be treated as a constant in the future. This means that the trace might not generalize to other inputs!\n",
      "  index=torch.nn.functional.one_hot(index.squeeze(),num_classes=out_shape[1]).float() if index.shape[-1]==1 else index\n",
      "/home/matthew.schmitz/Matthew/code/scANTIPODE/plate_version/model_functions.py:347: TracerWarning: Converting a tensor to a Python boolean might cause the trace to be incorrect. We can't record the data flow of Python values, so this value will be treated as a constant in the future. This means that the trace might not generalize to other inputs!\n",
      "  if x < start_point:\n",
      "/home/matthew.schmitz/Matthew/code/scANTIPODE/plate_version/model_functions.py:303: TracerWarning: Converting a tensor to a Python boolean might cause the trace to be incorrect. We can't record the data flow of Python values, so this value will be treated as a constant in the future. This means that the trace might not generalize to other inputs!\n",
      "  if sum(index.shape) == 1:\n",
      "/home/matthew.schmitz/Matthew/code/scANTIPODE/plate_version/model_functions.py:306: TracerWarning: Converting a tensor to a Python boolean might cause the trace to be incorrect. We can't record the data flow of Python values, so this value will be treated as a constant in the future. This means that the trace might not generalize to other inputs!\n",
      "  index=torch.nn.functional.one_hot(index.squeeze(),num_classes=out_shape[1]).float() if index.shape[-1]==1 else index\n",
      "/home/matthew.schmitz/Matthew/code/scANTIPODE/plate_version/model_functions.py:347: TracerWarning: Converting a tensor to a Python boolean might cause the trace to be incorrect. We can't record the data flow of Python values, so this value will be treated as a constant in the future. This means that the trace might not generalize to other inputs!\n",
      "  if x < start_point:\n",
      "/home/matthew.schmitz/Matthew/code/scANTIPODE/plate_version/model_functions.py:303: TracerWarning: Converting a tensor to a Python boolean might cause the trace to be incorrect. We can't record the data flow of Python values, so this value will be treated as a constant in the future. This means that the trace might not generalize to other inputs!\n",
      "  if sum(index.shape) == 1:\n",
      "/home/matthew.schmitz/Matthew/code/scANTIPODE/plate_version/model_functions.py:306: TracerWarning: Converting a tensor to a Python boolean might cause the trace to be incorrect. We can't record the data flow of Python values, so this value will be treated as a constant in the future. This means that the trace might not generalize to other inputs!\n",
      "  index=torch.nn.functional.one_hot(index.squeeze(),num_classes=out_shape[1]).float() if index.shape[-1]==1 else index\n",
      "/home/matthew.schmitz/Matthew/code/scANTIPODE/plate_version/model_functions.py:347: TracerWarning: Converting a tensor to a Python boolean might cause the trace to be incorrect. We can't record the data flow of Python values, so this value will be treated as a constant in the future. This means that the trace might not generalize to other inputs!\n",
      "  if x < start_point:\n",
      "/home/matthew.schmitz/Matthew/code/scANTIPODE/plate_version/model_functions.py:303: TracerWarning: Converting a tensor to a Python boolean might cause the trace to be incorrect. We can't record the data flow of Python values, so this value will be treated as a constant in the future. This means that the trace might not generalize to other inputs!\n",
      "  if sum(index.shape) == 1:\n",
      "/home/matthew.schmitz/Matthew/code/scANTIPODE/plate_version/model_functions.py:306: TracerWarning: Converting a tensor to a Python boolean might cause the trace to be incorrect. We can't record the data flow of Python values, so this value will be treated as a constant in the future. This means that the trace might not generalize to other inputs!\n",
      "  index=torch.nn.functional.one_hot(index.squeeze(),num_classes=out_shape[1]).float() if index.shape[-1]==1 else index\n",
      "/home/matthew.schmitz/Matthew/code/scANTIPODE/plate_version/model_functions.py:347: TracerWarning: Converting a tensor to a Python boolean might cause the trace to be incorrect. We can't record the data flow of Python values, so this value will be treated as a constant in the future. This means that the trace might not generalize to other inputs!\n",
      "  if x < start_point:\n",
      "/home/matthew.schmitz/Matthew/code/scANTIPODE/plate_version/model_functions.py:303: TracerWarning: Converting a tensor to a Python boolean might cause the trace to be incorrect. We can't record the data flow of Python values, so this value will be treated as a constant in the future. This means that the trace might not generalize to other inputs!\n",
      "  if sum(index.shape) == 1:\n",
      "/home/matthew.schmitz/Matthew/code/scANTIPODE/plate_version/model_functions.py:306: TracerWarning: Converting a tensor to a Python boolean might cause the trace to be incorrect. We can't record the data flow of Python values, so this value will be treated as a constant in the future. This means that the trace might not generalize to other inputs!\n",
      "  index=torch.nn.functional.one_hot(index.squeeze(),num_classes=out_shape[1]).float() if index.shape[-1]==1 else index\n",
      "/home/matthew.schmitz/Matthew/code/scANTIPODE/plate_version/model_functions.py:347: TracerWarning: Converting a tensor to a Python boolean might cause the trace to be incorrect. We can't record the data flow of Python values, so this value will be treated as a constant in the future. This means that the trace might not generalize to other inputs!\n",
      "  if x < start_point:\n",
      "/home/matthew.schmitz/Matthew/code/scANTIPODE/plate_version/model_functions.py:303: TracerWarning: Converting a tensor to a Python boolean might cause the trace to be incorrect. We can't record the data flow of Python values, so this value will be treated as a constant in the future. This means that the trace might not generalize to other inputs!\n",
      "  if sum(index.shape) == 1:\n",
      "/home/matthew.schmitz/Matthew/code/scANTIPODE/plate_version/model_functions.py:306: TracerWarning: Converting a tensor to a Python boolean might cause the trace to be incorrect. We can't record the data flow of Python values, so this value will be treated as a constant in the future. This means that the trace might not generalize to other inputs!\n",
      "  index=torch.nn.functional.one_hot(index.squeeze(),num_classes=out_shape[1]).float() if index.shape[-1]==1 else index\n",
      "/home/matthew.schmitz/Matthew/code/scANTIPODE/plate_version/model_functions.py:347: TracerWarning: Converting a tensor to a Python boolean might cause the trace to be incorrect. We can't record the data flow of Python values, so this value will be treated as a constant in the future. This means that the trace might not generalize to other inputs!\n",
      "  if x < start_point:\n",
      "  0%|          | 1/150000 [00:01<73:00:28,  1.75s/it]"
     ]
    },
    {
     "name": "stdout",
     "output_type": "stream",
     "text": [
      "grad tracking\n"
     ]
    },
    {
     "name": "stderr",
     "output_type": "stream",
     "text": [
      "  1%|          | 906/150000 [01:09<2:53:26, 14.33it/s]"
     ]
    }
   ],
   "source": [
    "device='cuda'\n",
    "antipode_model.train()\n",
    "antipode_model.zl_encoder.train()\n",
    "\n",
    "adata_toppath=os.path.expanduser('/allen/programs/celltypes/workgroups/rnaseqanalysis/EvoGen/Team/Matthew/data/taxtest/HvQvM')\n",
    "adata_paths=os.listdir(adata_toppath)\n",
    "adata_paths=sorted([os.path.join(adata_toppath,x) for x in adata_paths if 'HvQvMall_part' in x])\n",
    "\n",
    "antipode_model=antipode_model.to(device)\n",
    "antipode_model.set_approx(True)#Approx doesn't work very well for integration\n",
    "loss_tracker=[]\n",
    "#for steps in range(max_steps):\n",
    "pbar = tqdm.tqdm(total=max_steps, position=0)\n",
    "done=False\n",
    "while steps < max_steps:\n",
    "    for x in dataloader:\n",
    "        x['step']=torch.ones(1).to(device)*steps\n",
    "        #x={k:x[k].to(device) for k in x.keys()}\n",
    "        x=[x[k].to(device) if k in x.keys() else torch.zeros(1) for k in antipode_model.args]\n",
    "        loss=svi.step(*x)\n",
    "        steps+=1\n",
    "        if steps<max_steps-1:\n",
    "            scheduler.step()\n",
    "        else:\n",
    "            break\n",
    "        pbar.update(1)\n",
    "        loss_tracker.append(loss)\n",
    "        if not done:\n",
    "            done=True\n",
    "            print('grad tracking')\n",
    "            gradient_norms = defaultdict(list)\n",
    "            for name, value in pyro.get_param_store().named_parameters():\n",
    "                value.register_hook(\n",
    "                    lambda g, name=name: gradient_norms[name].append(g.norm().item())\n",
    "                )\n",
    "        if steps%print_every == 0:\n",
    "            # Tell the scheduler we've done one epoch.\n",
    "            pbar.write(\"[Step %02d]  Loss: %.5f\" % (steps, np.mean(loss_tracker[-print_every:])))\n",
    "\n",
    "pbar.close()\n",
    "allDone()\n",
    "print(\"Finished training!\")"
   ]
  },
  {
   "cell_type": "code",
   "execution_count": null,
   "id": "b6405e6e-6f47-466f-8325-27ba8c9186c2",
   "metadata": {
    "scrolled": true
   },
   "outputs": [],
   "source": [
    "seaborn.scatterplot(x=list(range(len(loss_tracker))),y=loss_tracker,alpha=0.5,s=2)\n",
    "def moving_average(x, w):\n",
    "    return np.convolve(x, np.ones(w), 'valid') / w\n",
    "w=300\n",
    "mvavg=moving_average(np.pad(loss_tracker,int(w/2),mode='edge'),w)\n",
    "seaborn.lineplot(x=list(range(len(mvavg))),y=mvavg,color='coral')\n",
    "\n"
   ]
  },
  {
   "cell_type": "code",
   "execution_count": null,
   "id": "af5b22d0-3e57-4450-abfa-305402eb3fd1",
   "metadata": {},
   "outputs": [],
   "source": [
    "plt.figure(figsize=(20, 5), dpi=100).set_facecolor(\"white\")\n",
    "ax = plt.subplot(111)\n",
    "\n",
    "for i,(name, grad_norms) in enumerate(gradient_norms.items()):\n",
    "    mvavg=moving_average(np.pad(grad_norms,int(w/2),mode='edge'),w)\n",
    "    seaborn.lineplot(x=list(range(len(mvavg))),y=mvavg,label=name,color=sc.pl.palettes.godsnot_102[i%102],ax=ax,linewidth = 1.)\n",
    "    #seaborn.lineplot(grad_norms, label=name,color=sc.pl.palettes.godsnot_102[i%102],ax=ax,linewidth = 0.5)\n",
    "    #seaborn.scatterplot(x=list(range(len(grad_norms))),y=grad_norms, label=name,color=sc.pl.palettes.godsnot_102[i%102],ax=ax,markers='o')\n",
    "plt.xlabel(\"iters\")\n",
    "plt.ylabel(\"gradient norm\")\n",
    "plt.yscale(\"log\")\n",
    "#plt.legend(loc=\"best\")\n",
    "ax.legend(loc='center left', bbox_to_anchor=(1, 0.5))\n",
    "plt.title(\"Gradient norms during SVI\");\n"
   ]
  },
  {
   "cell_type": "code",
   "execution_count": null,
   "id": "1660853f-71cb-4c56-901e-ae26f3588fa4",
   "metadata": {},
   "outputs": [],
   "source": [
    "plt.figure(figsize=(20, 5), dpi=100).set_facecolor(\"white\")\n",
    "ax = plt.subplot(111)\n",
    "\n",
    "for i,(name, grad_norms) in enumerate(gradient_norms.items()):\n",
    "    if 'edges' in name:\n",
    "        mvavg=moving_average(np.pad(grad_norms,int(w/2),mode='edge'),w)\n",
    "        seaborn.lineplot(x=list(range(len(mvavg))),y=mvavg,label=name,color=sc.pl.palettes.godsnot_102[i%102],ax=ax,linewidth = 1.)\n",
    "plt.xlabel(\"iters\")\n",
    "plt.ylabel(\"gradient norm\")\n",
    "plt.yscale(\"log\")\n",
    "#plt.legend(loc=\"best\")\n",
    "ax.legend(loc='center left', bbox_to_anchor=(1, 0.5))\n",
    "plt.title(\"Gradient norms during SVI\");\n"
   ]
  },
  {
   "cell_type": "code",
   "execution_count": null,
   "id": "4d8ca0c5-1c36-465f-a2a1-2218471aaf63",
   "metadata": {},
   "outputs": [],
   "source": [
    "\"\"\"\n",
    "antipode_model.dc_batch_encoder.cpu()\n",
    "seaborn.histplot(antipode_model.dc_batch_encoder(torch.eye(batch_values.shape[1])).detach().cpu().numpy().flatten()[:10000],bins=100)\n",
    "plt.show()\n",
    "antipode_model.dc_batch_encoder.to(device)\n",
    "\"\"\""
   ]
  },
  {
   "cell_type": "code",
   "execution_count": null,
   "id": "53b0afbc-ffe5-4b4b-992e-5bf292071586",
   "metadata": {},
   "outputs": [],
   "source": [
    "seaborn.histplot(pyro.param('z_decoder_weight').detach().cpu().numpy().flatten(),bins=50)"
   ]
  },
  {
   "cell_type": "code",
   "execution_count": null,
   "id": "b0d4ff51-86ee-4109-aaa8-0fc050fcec40",
   "metadata": {},
   "outputs": [],
   "source": [
    "seaborn.clustermap(antipode_model.z_transform(pyro.param('locs')).cpu().detach().numpy(),cmap='coolwarm')"
   ]
  },
  {
   "cell_type": "code",
   "execution_count": null,
   "id": "a7ea6df5-f0da-43ff-8df4-41c33f2abcaf",
   "metadata": {},
   "outputs": [],
   "source": [
    "seaborn.clustermap(pyro.param('locs_dynam').cpu().detach().numpy(),cmap='coolwarm')"
   ]
  },
  {
   "cell_type": "code",
   "execution_count": null,
   "id": "b4f580c8-da62-4d80-b943-d1fc6b2f530b",
   "metadata": {},
   "outputs": [],
   "source": [
    "seaborn.clustermap(pyro.param('scales').cpu().detach().numpy())"
   ]
  },
  {
   "cell_type": "code",
   "execution_count": null,
   "id": "fe83be35-f16b-401e-8f0e-3dde3134352e",
   "metadata": {},
   "outputs": [],
   "source": [
    "seaborn.histplot(pyro.param('s_inverse_dispersion').detach().cpu().numpy().flatten(),bins=50)\n"
   ]
  },
  {
   "cell_type": "code",
   "execution_count": null,
   "id": "e32fdd4e-ded1-4979-af36-6ab38ad5dc3d",
   "metadata": {},
   "outputs": [],
   "source": [
    "seaborn.histplot(pyro.param('z_decoder_weight').var(1).detach().cpu().numpy().flatten(),bins=50)\n"
   ]
  },
  {
   "cell_type": "code",
   "execution_count": null,
   "id": "aabad8ef-dd1b-4559-87f4-6dc3a4dc0eb0",
   "metadata": {},
   "outputs": [],
   "source": [
    "for name in pyro.get_param_store():\n",
    "    if 'edge' in name:\n",
    "        seaborn.heatmap(torch.softmax(pyro.param(name).cpu(),-1).detach().numpy())\n",
    "        plt.show()\n"
   ]
  },
  {
   "cell_type": "code",
   "execution_count": null,
   "id": "ce7b08f1-6c70-42d4-a431-cb68656785e2",
   "metadata": {},
   "outputs": [],
   "source": [
    "seaborn.histplot(pyro.param('z_decoder_weight').detach().cpu().numpy().flatten(),color='yellow',bins=50,stat='percent')\n",
    "seaborn.histplot(pyro.param('species_dc')[0].cpu().detach().numpy().flatten(),color='red',bins=50,stat='percent')\n",
    "seaborn.histplot(pyro.param('species_dc')[1].cpu().detach().numpy().flatten(),color='blue',bins=50,stat='percent')\n",
    "seaborn.histplot(pyro.param('species_dc')[2].cpu().detach().numpy().flatten(),color='green',bins=50,stat='percent')"
   ]
  },
  {
   "cell_type": "code",
   "execution_count": null,
   "id": "6b2233d4-63dc-4784-96da-5750b982e316",
   "metadata": {},
   "outputs": [],
   "source": [
    "print(pyro.param('z_decoder_weight').var())\n",
    "print(pyro.param('species_dc').flatten(1,2).var(1))"
   ]
  },
  {
   "cell_type": "code",
   "execution_count": null,
   "id": "dc615526-4267-4452-8d47-e7e01693cff6",
   "metadata": {},
   "outputs": [],
   "source": [
    "seaborn.histplot(pyro.param('locs').cpu().detach().numpy().flatten(),color=\"green\",label='ancestral',bins=50)\n",
    "seaborn.histplot(pyro.param('species_dm')[0,:,:].cpu().detach().numpy().flatten(),color=\"red\",bins=50)\n",
    "seaborn.histplot(pyro.param('species_dm')[1,:,:].cpu().detach().numpy().flatten(),color=\"pink\",bins=50)\n",
    "seaborn.histplot(pyro.param('species_dm')[2,:,:].cpu().detach().numpy().flatten(),color=\"purple\",bins=50)\n",
    "plt.legend()"
   ]
  },
  {
   "cell_type": "code",
   "execution_count": null,
   "id": "4ce6aebd-35fc-4a73-a1d9-57b6e0f8e99d",
   "metadata": {},
   "outputs": [],
   "source": [
    "seaborn.histplot(pyro.param('z_decoder_weight').detach().cpu().numpy().flatten(),bins=50)"
   ]
  },
  {
   "cell_type": "code",
   "execution_count": null,
   "id": "6304baf9-9d48-4b40-a175-6d6306dc37f8",
   "metadata": {},
   "outputs": [],
   "source": [
    "seaborn.histplot(pyro.param('z_decoder_weight').var(1).detach().cpu().numpy().flatten(),bins=50)\n"
   ]
  },
  {
   "cell_type": "code",
   "execution_count": null,
   "id": "b72d5713-c7fe-4f66-8d38-974d88b14cf1",
   "metadata": {},
   "outputs": [],
   "source": [
    "seaborn.histplot(pyro.param('cluster_intercept').cpu().detach().numpy().flatten(),color='yellow',bins=50,stat='percent')\n",
    "seaborn.histplot(pyro.param('species_di')[0].cpu().detach().numpy().flatten(),color='red',bins=50,stat='percent')\n",
    "seaborn.histplot(pyro.param('species_di')[1].cpu().detach().numpy().flatten(),color='blue',bins=50,stat='percent')\n",
    "seaborn.histplot(pyro.param('species_di')[2].cpu().detach().numpy().flatten(),color='green',bins=50,stat='percent')\n"
   ]
  },
  {
   "cell_type": "code",
   "execution_count": null,
   "id": "a55a98a6-c6d8-483c-95f0-bd0502442993",
   "metadata": {},
   "outputs": [],
   "source": [
    "device='cpu'\n",
    "antipode_model=antipode_model.to(device)\n",
    "avgpool=nn.AvgPool1d(2,stride=1)\n",
    "# Now that we're done training we'll inspect the latent representations we've learned\n",
    "import scanpy as sc\n",
    "adata.obsm[\"X_umap\"]=adata.obsm[\"X_original_umap\"]\n",
    "# Put the neural networks in evaluation mode (needed because of batch norm)\n",
    "antipode_model.eval()\n",
    "antipode_model.zl_encoder.eval()\n",
    "\n",
    "# Compute latent representation (z_loc) for each cell in the dataset\n",
    "inputs=[torch.tensor(adata.layers['spliced'].todense()).to(device),species_values]\n",
    "function=antipode_model.zl_encoder\n",
    "num_outs=4\n",
    "encoded=batch_torch_outputs(inputs,function,batch_size=2048,device='cuda')\n",
    "\n",
    "clusternames=[]\n",
    "for i in range(antipode_model.num_latent):\n",
    "    clusternames.append(str(i))\n",
    "\n",
    "adata.obs['LDA0max']=np.array(clusternames)[encoded[0].cpu().detach().numpy().argmax(1)]\n",
    "\n",
    "sc.pl.umap(adata,color=['LDA0max'],legend_loc=\"on data\",palette=sc.pl.palettes.godsnot_102)\n",
    "sc.pl.umap(adata,color=['LDA0max'],palette=sc.pl.palettes.godsnot_102)\n",
    "\"\"\"\n",
    "for i in range(num_latent):\n",
    "    adata.obs['test'+str(i)]=torch.softmax(encoded[0],dim=-1)[:,i].cpu().detach().numpy()\n",
    "sc.pl.umap(adata,color=['test'+str(x) for x in range(num_latent)],use_raw=False,cmap='Purples')\n",
    "\"\"\"\n",
    "seaborn.clustermap(np.corrcoef((antipode_model.z_transform(encoded[0])).T.cpu().detach().numpy()))\n"
   ]
  },
  {
   "cell_type": "code",
   "execution_count": null,
   "id": "6dc74965-265b-4f87-9ee0-138694c11174",
   "metadata": {},
   "outputs": [],
   "source": [
    "classouts=batch_torch_outputs([(antipode_model.z_transform(encoded[0]))],antipode_model.classifier,batch_size=2048,device='cuda')\n",
    "classouts[0]=safe_sigmoid(classouts[0])\n",
    "o2=classouts[0]\n",
    "adata.obs['psi']=classouts[1].cpu().detach().numpy()"
   ]
  },
  {
   "cell_type": "code",
   "execution_count": null,
   "id": "d01313cb-c914-4b37-8658-6088f6ea87de",
   "metadata": {},
   "outputs": [],
   "source": [
    "taxon=classouts[0].detach().cpu().numpy()\n",
    "\n",
    "levels = [taxon[..., antipode_model.level_indices[i]:antipode_model.level_indices[i + 1]]\n",
    "          for i in range(len(antipode_model.level_sizes))]\n",
    "\n",
    "\n",
    "for i, level in enumerate(levels):\n",
    "    max_probs = level.max(axis=1)\n",
    "    # Assign argmax if max probability > 0.5, else assign empty string\n",
    "    adata.obs['level_' + str(i)] = np.where(max_probs > 0.5, level.argmax(axis=1).astype(str), '')\n",
    "\n",
    "# Concatenate the levels to form the cluster label\n",
    "adata.obs['antipode_model_cluster'] = adata.obs.apply(lambda x: '_'.join([x['level_' + str(i)] for i in range(len(levels))]), axis=1)"
   ]
  },
  {
   "cell_type": "code",
   "execution_count": null,
   "id": "bfe575bc-ac6c-4c7c-8eb9-11239ab058d4",
   "metadata": {},
   "outputs": [],
   "source": [
    "level_edges=[safe_softmax(pyro.param('edges_'+str(i))).detach().cpu().numpy() for i in range(len(antipode_model.level_sizes)-1)]\n",
    "levels=antipode_model.tree_convergence.guide_sample(torch.softmax(classouts[0],-1).detach().cpu(),level_edges,s=torch.ones(1))\n",
    "for i in range(len(levels)):\n",
    "    adata.obs['prop_level_'+str(i)]=levels[i].argmax(1)\n",
    "    adata.obs['prop_level_'+str(i)]=adata.obs['level_'+str(i)].astype(str)\n",
    "\n",
    "adata.obs['prop_antipode_model_cluster'] = adata.obs.apply(lambda x: '_'.join([x['level_' + str(i)] for i in range(len(levels))]), axis=1)\n"
   ]
  },
  {
   "cell_type": "code",
   "execution_count": null,
   "id": "5ced30cc-d8dc-4a8e-8f38-86bb3e2f2614",
   "metadata": {},
   "outputs": [],
   "source": [
    "sc.pl.umap(adata,color=[x for x in adata.obs.columns if 'level' in x]+['antipode_model_cluster'],use_raw=False,legend_loc=None,palette=sc.pl.palettes.godsnot_102)"
   ]
  },
  {
   "cell_type": "code",
   "execution_count": null,
   "id": "4bf39fc8-c877-40d9-bd56-bc83be9b085a",
   "metadata": {},
   "outputs": [],
   "source": [
    "vcs=adata.obs['antipode_model_cluster'].value_counts()\n",
    "legit_clusters=vcs.index[vcs>100]\n",
    "#adata.obs.loc[~adata.obs['antipode_model_cluster'].isin(legit_clusters),'antipode_model_cluster']='nan'\n",
    "\n",
    "vcs=adata.obs['prop_antipode_model_cluster'].value_counts()\n",
    "legit_clusters=vcs.index[vcs>100]\n",
    "#adata.obs.loc[~adata.obs['prop_antipode_model_cluster'].isin(legit_clusters),'prop_antipode_model_cluster']='nan'"
   ]
  },
  {
   "cell_type": "code",
   "execution_count": null,
   "id": "666a5af3-3643-4040-8a71-5cced8c9fe2a",
   "metadata": {
    "scrolled": true
   },
   "outputs": [],
   "source": [
    "seaborn.clustermap(o2[:10000,:],row_cluster=False)"
   ]
  },
  {
   "cell_type": "code",
   "execution_count": null,
   "id": "0cc3a285-a16b-45d9-ac62-de02137ba850",
   "metadata": {},
   "outputs": [],
   "source": [
    "seaborn.histplot(np.log10(o2.sum(0).cpu().detach().numpy()+1))"
   ]
  },
  {
   "cell_type": "code",
   "execution_count": null,
   "id": "bf2d6e42-0805-4bc2-8b6a-3899fede50a9",
   "metadata": {},
   "outputs": [],
   "source": [
    "seaborn.clustermap(o2[:1000,:]>0.5)"
   ]
  },
  {
   "cell_type": "code",
   "execution_count": null,
   "id": "0ad4aec4-c66f-47c5-a4db-9496824f1e7f",
   "metadata": {},
   "outputs": [],
   "source": [
    "(antipode_model.z_transform(encoded[0])).detach().data.cpu().numpy()"
   ]
  },
  {
   "cell_type": "code",
   "execution_count": null,
   "id": "c4f607d2-fa52-4395-91c6-48a1a942c4bb",
   "metadata": {
    "scrolled": true,
    "tags": []
   },
   "outputs": [],
   "source": [
    "adata.obsm['X_antipode_model']=(antipode_model.z_transform(encoded[0])).detach().data.cpu().numpy()\n",
    "random_choice=np.random.choice(adata.obs.index,size=10000,replace=False)\n",
    "random_choice=np.where(adata.obs.index.isin(random_choice))[0]\n",
    "xdata=adata[random_choice,:].to_memory().copy()\n",
    "sc.pp.neighbors(xdata,n_neighbors=20, use_rep=\"X_antipode_model\")\n",
    "sc.tl.umap(xdata)\n",
    "sc.pl.umap(xdata,color=['general_region','leiden','species'],use_raw=False,legend_loc='on data',palette=sc.pl.palettes.godsnot_102)"
   ]
  },
  {
   "cell_type": "code",
   "execution_count": null,
   "id": "83d51319-cf00-4627-a1f1-da3e6c5e6fea",
   "metadata": {},
   "outputs": [],
   "source": [
    "sc.pl.umap(xdata,color=['psi'],use_raw=False,legend_loc='on data',cmap='coolwarm')"
   ]
  },
  {
   "cell_type": "code",
   "execution_count": null,
   "id": "cfb10394-cd53-421c-abbd-091fce2e2438",
   "metadata": {},
   "outputs": [],
   "source": [
    "sc.pl.umap(xdata,color=[x for x in adata.obs.columns if 'level' in x]+['antipode_model_cluster'],use_raw=False,legend_loc=None,palette=sc.pl.palettes.godsnot_102)"
   ]
  },
  {
   "cell_type": "code",
   "execution_count": null,
   "id": "24103a17-d529-403f-bfe0-0bdc8001671c",
   "metadata": {},
   "outputs": [],
   "source": [
    "sc.pl.umap(xdata,color=['antipode_model_cluster','prop_antipode_model_cluster'],use_raw=False,palette=sc.pl.palettes.godsnot_102)"
   ]
  },
  {
   "cell_type": "code",
   "execution_count": null,
   "id": "329bc6a5-ab55-4b4c-9006-c15a3417a523",
   "metadata": {},
   "outputs": [],
   "source": [
    "\"\"\"\n",
    "xdata.X=xdata.raw.X[:,xdata.raw.var.index.isin(xdata.var.index)]\n",
    "sc.pp.normalize_per_cell(xdata)\n",
    "sc.pp.log1p(xdata)\n",
    "sc.pp.scale(xdata,max_value=10)\n",
    "sc.pl.umap(xdata,color=['GBX2','EOMES','SIX3','OTX2','FOXG1','RBFOX3','TH','PDGFRA','AQP4','FOXJ1','AIF1','TTR','MOG','COL1A2','CD34','COL4A1','NPY','NKX2-1','FOXP2','SATB2','RORB','FEZF2','EMX1'],use_raw=False,cmap='Purples')\n",
    "sc.pl.umap(xdata,color=['DLX2','PROX1','SCGN','TSHZ1','MEIS2','NKX2-1','LHX6','CRABP1','TSHZ1','FOXG1','PDGFRA','AIF1','AQP4','EDNRB','FOXJ1','CD34','MKI67'],cmap='Purples',use_raw=False)\n",
    "sc.pl.umap(xdata,color=['RPL7','RPS17','RPL13A','MEF2C'],cmap='Purples',use_raw=False)\n",
    "\"\"\""
   ]
  },
  {
   "cell_type": "code",
   "execution_count": null,
   "id": "55b95a2f-a4f6-4eb2-9ab7-72d6f61daa69",
   "metadata": {},
   "outputs": [],
   "source": [
    "taxon=classouts[0].detach().cpu().numpy()\n",
    "\n",
    "levels = [taxon[..., antipode_model.level_indices[i]:antipode_model.level_indices[i + 1]]\n",
    "          for i in range(len(antipode_model.level_sizes))]\n",
    "\n",
    "level_edges=[safe_softmax(pyro.param('edges_'+str(i))).detach().cpu().numpy() for i in range(len(antipode_model.level_sizes)-1)]\n",
    "\n",
    "results=[levels[-1]]\n",
    "#Propagate from bottom to top\n",
    "for i in range(len(antipode_model.level_sizes) - 1):\n",
    "    result=results[i]@level_edges[-(i+1)]\n",
    "    results.append(result)\n",
    "results=results[::-1]\n",
    "\n",
    "\n",
    "diff=taxon-np.concatenate(results,-1)\n",
    "seaborn.histplot(np.abs(diff).mean(0))"
   ]
  },
  {
   "cell_type": "code",
   "execution_count": null,
   "id": "450fcb88-2689-4f06-835c-a10a1cad67dc",
   "metadata": {},
   "outputs": [],
   "source": [
    "seaborn.histplot(results[0])"
   ]
  },
  {
   "cell_type": "code",
   "execution_count": null,
   "id": "7ce6fb80-86f0-4342-8b3d-a956684ad564",
   "metadata": {},
   "outputs": [],
   "source": [
    "adata.obsm['X_antipode_model']=(antipode_model.z_transform(encoded[0])).detach().data.cpu().numpy()\n",
    "kmeans = sklearn.cluster.MiniBatchKMeans(n_clusters=antipode_model.level_sizes[-1],init='k-means++',max_iter=1000,reassignment_ratio=0.001,n_init=100,random_state=0).fit(adata.obsm['X_antipode_model'])\n",
    "adata.obs['kmeans']=kmeans.labels_\n",
    "adata.obs['kmeans']=adata.obs['kmeans'].astype(str)\n",
    "sc.pl.umap(adata,color=['kmeans','leiden'],legend_loc=\"on data\",palette=sc.pl.palettes.godsnot_102)"
   ]
  },
  {
   "cell_type": "code",
   "execution_count": null,
   "id": "1ea44e85-73bf-4af6-ae5b-9500f548cc09",
   "metadata": {},
   "outputs": [],
   "source": [
    "device='cuda'\n",
    "\n",
    "#d=torch.utils.data.TensorDataset(torch.tensor(adata.layers['spliced'].todense()),species_values,batch_values,torch.tensor(list(adata.obs['kmeans'].astype(int))).long())\n",
    "#oh=1e-10+torch.nn.functional.one_hot(torch.tensor(list(adata.obs['kmeans'].astype(int))).long(),num_classes=antipode_model.level_sizes[-1]).float()\n",
    "#yoh=oh/oh.sum(-1).reshape(-1,1)\n",
    "yoh=torch.nn.functional.one_hot(torch.tensor(list(adata.obs['kmeans'].astype(int))).long(),num_classes=antipode_model.level_sizes[-1]).float()\n",
    "d=torch.utils.data.TensorDataset(torch.tensor(adata.layers['spliced'].todense()),species_values,batch_values,yoh)\n",
    "\n",
    "class_dataloader = torch.utils.data.DataLoader(d, batch_size=batch_size, drop_last=True)\n"
   ]
  },
  {
   "cell_type": "code",
   "execution_count": null,
   "id": "cd4a7380-5061-4301-9e9b-e297c6e45191",
   "metadata": {
    "scrolled": true
   },
   "outputs": [],
   "source": [
    "device='cuda'\n",
    "\n",
    "scheduler =pyro.optim.ClippedAdam({'lr':0.001,'lrd':(1-(7e-6))})\n",
    "\n",
    "# Setup a variational objective for gradient-based learning.\n",
    "# Note we use TraceEnum_ELBO in order to leverage Pyro's machinery\n",
    "# for automatic enumeration of the discrete latent variable y.\n",
    "elbo = pyro.infer.JitTrace_ELBO(num_particles=3,strict_enumeration_warning=False)\n",
    "\n",
    "#guide=antipode_model.guide\n",
    "#guide = config_enumerate(antipode_model.guide)#,num_samples=10\n",
    "antipode_model.set_approx(False)\n",
    "svi = SVI(antipode_model.model, antipode_model.guide, scheduler, elbo)\n",
    "\n",
    "num_epochs=10\n",
    "antipode_model = antipode_model.to(device)\n",
    "antipode_model.train()\n",
    "antipode_model.zl_encoder.train()\n",
    "antipode_model.set_approx(False)\n",
    "loss_tracker=[]\n",
    "for epoch in range(num_epochs):\n",
    "    losses = []\n",
    "    # Take a gradient step for each mini-batch in the dataset\n",
    "    count=0\n",
    "    for x in tqdm.tqdm(class_dataloader):\n",
    "        x=[x.to(device) for x in x]\n",
    "        x.insert(-1,torch.ones(1).to(device))\n",
    "        loss = svi.step(*x)\n",
    "        #loss = svi.step(**x)\n",
    "        count+=1\n",
    "        loss_tracker.append(loss)\n",
    "        losses.append(loss)\n",
    "    # Tell the scheduler we've done one epoch.\n",
    "    print(\"[Epoch %02d]  Loss: %.5f\" % (epoch, np.mean(losses)))\n",
    "allDone()\n",
    "print(\"Finished training!\")"
   ]
  },
  {
   "cell_type": "code",
   "execution_count": null,
   "id": "342a7beb-f6ca-4029-870a-b328616afe25",
   "metadata": {
    "scrolled": true
   },
   "outputs": [],
   "source": [
    "seaborn.scatterplot(x=list(range(len(loss_tracker))),y=loss_tracker,alpha=0.5,s=2)\n",
    "def moving_average(x, w):\n",
    "    return np.convolve(x, np.ones(w), 'valid') / w\n",
    "w=300\n",
    "mvavg=moving_average(np.pad(loss_tracker,int(w/2),mode='edge'),w)\n",
    "seaborn.lineplot(x=list(range(len(mvavg))),y=mvavg,color='coral')\n",
    "\n"
   ]
  },
  {
   "cell_type": "code",
   "execution_count": null,
   "id": "2ed7bc76-12b7-4370-8e3c-a7bf89fd8a61",
   "metadata": {},
   "outputs": [],
   "source": [
    "plt.figure(figsize=(20, 5), dpi=100).set_facecolor(\"white\")\n",
    "ax = plt.subplot(111)\n",
    "\n",
    "for i,(name, grad_norms) in enumerate(gradient_norms.items()):\n",
    "    mvavg=moving_average(np.pad(grad_norms,int(w/2),mode='edge'),w)\n",
    "    seaborn.lineplot(x=list(range(len(mvavg))),y=mvavg,label=name,color=sc.pl.palettes.godsnot_102[i%102],ax=ax,linewidth = 1.)\n",
    "    #seaborn.lineplot(grad_norms, label=name,color=sc.pl.palettes.godsnot_102[i%102],ax=ax,linewidth = 0.5)\n",
    "    #seaborn.scatterplot(x=list(range(len(grad_norms))),y=grad_norms, label=name,color=sc.pl.palettes.godsnot_102[i%102],ax=ax,markers='o')\n",
    "plt.xlabel(\"iters\")\n",
    "plt.ylabel(\"gradient norm\")\n",
    "plt.yscale(\"log\")\n",
    "#plt.legend(loc=\"best\")\n",
    "ax.legend(loc='center left', bbox_to_anchor=(1, 0.5))\n",
    "plt.title(\"Gradient norms during SVI\");\n"
   ]
  },
  {
   "cell_type": "code",
   "execution_count": null,
   "id": "64cd5583-d6ba-41f9-828c-e0aed52b4937",
   "metadata": {},
   "outputs": [],
   "source": [
    "plt.figure(figsize=(20, 5), dpi=100).set_facecolor(\"white\")\n",
    "ax = plt.subplot(111)\n",
    "\n",
    "for i,(name, grad_norms) in enumerate(gradient_norms.items()):\n",
    "    if 'classifier' in name:\n",
    "        mvavg=moving_average(np.pad(grad_norms,int(w/2),mode='edge'),w)\n",
    "        seaborn.lineplot(x=list(range(len(mvavg))),y=mvavg,label=name,color=sc.pl.palettes.godsnot_102[i%102],ax=ax,linewidth = 1.)\n",
    "plt.xlabel(\"iters\")\n",
    "plt.ylabel(\"gradient norm\")\n",
    "plt.yscale(\"log\")\n",
    "#plt.legend(loc=\"best\")\n",
    "ax.legend(loc='center left', bbox_to_anchor=(1, 0.5))\n",
    "plt.title(\"Gradient norms during SVI\");\n"
   ]
  },
  {
   "cell_type": "code",
   "execution_count": null,
   "id": "eccf115f-c519-44eb-893d-7c54d4c4e4ce",
   "metadata": {},
   "outputs": [],
   "source": [
    "plt.figure(figsize=(20, 5), dpi=100).set_facecolor(\"white\")\n",
    "ax = plt.subplot(111)\n",
    "\n",
    "for i,(name, grad_norms) in enumerate(gradient_norms.items()):\n",
    "    if 'edges' in name:\n",
    "        mvavg=moving_average(np.pad(grad_norms,int(w/2),mode='edge'),w)\n",
    "        seaborn.lineplot(x=list(range(len(mvavg))),y=mvavg,label=name,color=sc.pl.palettes.godsnot_102[i%102],ax=ax,linewidth = 1.)\n",
    "plt.xlabel(\"iters\")\n",
    "plt.ylabel(\"gradient norm\")\n",
    "plt.yscale(\"log\")\n",
    "#plt.legend(loc=\"best\")\n",
    "ax.legend(loc='center left', bbox_to_anchor=(1, 0.5))\n",
    "plt.title(\"Gradient norms during SVI\");\n"
   ]
  },
  {
   "cell_type": "code",
   "execution_count": null,
   "id": "feb21511-10a1-45a7-87c2-8e7167d9559e",
   "metadata": {},
   "outputs": [],
   "source": [
    "\"\"\"\n",
    "antipode_model.dc_batch_encoder.cpu()\n",
    "seaborn.histplot(antipode_model.dc_batch_encoder(torch.eye(batch_values.shape[1])).detach().cpu().numpy().flatten()[:10000],bins=100)\n",
    "plt.show()\n",
    "antipode_model.dc_batch_encoder.to(device)\n",
    "\"\"\""
   ]
  },
  {
   "cell_type": "code",
   "execution_count": null,
   "id": "66d60240-6792-4a75-9e44-7f19f5da8a3b",
   "metadata": {},
   "outputs": [],
   "source": [
    "seaborn.histplot(pyro.param('z_decoder_weight').detach().cpu().numpy().flatten(),bins=50)"
   ]
  },
  {
   "cell_type": "code",
   "execution_count": null,
   "id": "4ce281c1-9809-4b65-b5bd-ed1a9f3f04d5",
   "metadata": {},
   "outputs": [],
   "source": [
    "seaborn.clustermap(antipode_model.z_transform(pyro.param('locs')).cpu().detach().numpy(),cmap='coolwarm')"
   ]
  },
  {
   "cell_type": "code",
   "execution_count": null,
   "id": "fade97dc-ab81-426b-be53-c9860a24fdae",
   "metadata": {},
   "outputs": [],
   "source": [
    "seaborn.clustermap(pyro.param('locs_dynam').cpu().detach().numpy(),cmap='coolwarm')"
   ]
  },
  {
   "cell_type": "code",
   "execution_count": null,
   "id": "3008f444-cee3-46c1-84d7-68e8293e34e9",
   "metadata": {},
   "outputs": [],
   "source": [
    "seaborn.clustermap(pyro.param('scales').cpu().detach().numpy())"
   ]
  },
  {
   "cell_type": "code",
   "execution_count": null,
   "id": "69ddbfed-a46e-42da-9e05-d13f3e481814",
   "metadata": {},
   "outputs": [],
   "source": [
    "seaborn.histplot(pyro.param('s_inverse_dispersion').detach().cpu().numpy().flatten(),bins=50)\n"
   ]
  },
  {
   "cell_type": "code",
   "execution_count": null,
   "id": "843989d4-b57a-40b8-a1a3-eb7d3a83f47e",
   "metadata": {},
   "outputs": [],
   "source": [
    "seaborn.histplot(pyro.param('z_decoder_weight').var(1).detach().cpu().numpy().flatten(),bins=50)\n"
   ]
  },
  {
   "cell_type": "code",
   "execution_count": null,
   "id": "25778875-cbd3-4d13-b4cb-66b48cff4153",
   "metadata": {},
   "outputs": [],
   "source": [
    "for name in pyro.get_param_store():\n",
    "    if 'edge' in name:\n",
    "        seaborn.heatmap(torch.softmax(pyro.param(name).cpu().detach(),-1).numpy())\n",
    "        plt.show()\n"
   ]
  },
  {
   "cell_type": "code",
   "execution_count": null,
   "id": "91a1d30e-a322-4d2a-98ed-fb0515fce3c4",
   "metadata": {},
   "outputs": [],
   "source": [
    "seaborn.histplot(pyro.param('z_decoder_weight').detach().cpu().numpy().flatten(),color='yellow',bins=50,stat='percent')\n",
    "seaborn.histplot(pyro.param('species_dc')[0].cpu().detach().numpy().flatten(),color='red',bins=50,stat='percent')\n",
    "seaborn.histplot(pyro.param('species_dc')[1].cpu().detach().numpy().flatten(),color='blue',bins=50,stat='percent')\n",
    "seaborn.histplot(pyro.param('species_dc')[2].cpu().detach().numpy().flatten(),color='green',bins=50,stat='percent')"
   ]
  },
  {
   "cell_type": "code",
   "execution_count": null,
   "id": "c7cbf5d1-a2c7-4cb2-bcca-9a349ce9beee",
   "metadata": {},
   "outputs": [],
   "source": [
    "print(pyro.param('z_decoder_weight').var())\n",
    "print(pyro.param('species_dc').flatten(1,2).var(1))"
   ]
  },
  {
   "cell_type": "code",
   "execution_count": null,
   "id": "2f361ae1-06b6-4221-a14b-317268bc2ed9",
   "metadata": {},
   "outputs": [],
   "source": [
    "seaborn.histplot(pyro.param('locs').cpu().detach().numpy().flatten(),color=\"green\",label='ancestral',bins=50)\n",
    "seaborn.histplot(pyro.param('species_dm')[0,:,:].cpu().detach().numpy().flatten(),color=\"red\",bins=50)\n",
    "seaborn.histplot(pyro.param('species_dm')[1,:,:].cpu().detach().numpy().flatten(),color=\"pink\",bins=50)\n",
    "seaborn.histplot(pyro.param('species_dm')[2,:,:].cpu().detach().numpy().flatten(),color=\"purple\",bins=50)\n",
    "plt.legend()"
   ]
  },
  {
   "cell_type": "code",
   "execution_count": null,
   "id": "09881c75-9556-4d25-8899-0bb40f524211",
   "metadata": {},
   "outputs": [],
   "source": [
    "seaborn.histplot(pyro.param('z_decoder_weight').detach().cpu().numpy().flatten(),bins=50)"
   ]
  },
  {
   "cell_type": "code",
   "execution_count": null,
   "id": "6afbeb65-c74a-4aa0-9282-5d5b7ef39388",
   "metadata": {},
   "outputs": [],
   "source": [
    "seaborn.histplot(pyro.param('z_decoder_weight').var(1).detach().cpu().numpy().flatten(),bins=50)\n"
   ]
  },
  {
   "cell_type": "code",
   "execution_count": null,
   "id": "30b2115d-c48f-42ba-855f-751fd21cf713",
   "metadata": {},
   "outputs": [],
   "source": [
    "seaborn.histplot(pyro.param('cluster_intercept').cpu().detach().numpy().flatten(),color='yellow',bins=50,stat='percent')\n",
    "seaborn.histplot(pyro.param('species_di')[0].cpu().detach().numpy().flatten(),color='red',bins=50,stat='percent')\n",
    "seaborn.histplot(pyro.param('species_di')[1].cpu().detach().numpy().flatten(),color='blue',bins=50,stat='percent')\n",
    "seaborn.histplot(pyro.param('species_di')[2].cpu().detach().numpy().flatten(),color='green',bins=50,stat='percent')\n"
   ]
  },
  {
   "cell_type": "code",
   "execution_count": null,
   "id": "df85328e-10a8-4a9d-8c8d-5f82f5f29fc4",
   "metadata": {},
   "outputs": [],
   "source": [
    "device='cpu'\n",
    "antipode_model=antipode_model.to(device)\n",
    "avgpool=nn.AvgPool1d(2,stride=1)\n",
    "# Now that we're done training we'll inspect the latent representations we've learned\n",
    "import scanpy as sc\n",
    "adata.obsm[\"X_umap\"]=adata.obsm[\"X_original_umap\"]\n",
    "# Put the neural networks in evaluation mode (needed because of batch norm)\n",
    "antipode_model.eval()\n",
    "antipode_model.zl_encoder.eval()\n",
    "\n",
    "# Compute latent representation (z_loc) for each cell in the dataset\n",
    "inputs=[torch.tensor(adata.layers['spliced'].todense()).to(device),species_values]\n",
    "function=antipode_model.zl_encoder\n",
    "num_outs=4\n",
    "encoded=batch_torch_outputs(inputs,function,batch_size=2048,device='cuda')\n",
    "\n",
    "clusternames=[]\n",
    "for i in range(antipode_model.num_latent):\n",
    "    clusternames.append(str(i))\n",
    "\n",
    "adata.obs['LDA0max']=np.array(clusternames)[encoded[0].cpu().detach().numpy().argmax(1)]\n",
    "\n",
    "sc.pl.umap(adata,color=['LDA0max'],legend_loc=\"on data\",palette=sc.pl.palettes.godsnot_102)\n",
    "sc.pl.umap(adata,color=['LDA0max'],palette=sc.pl.palettes.godsnot_102)\n",
    "\"\"\"\n",
    "for i in range(num_latent):\n",
    "    adata.obs['test'+str(i)]=torch.softmax(encoded[0],dim=-1)[:,i].cpu().detach().numpy()\n",
    "sc.pl.umap(adata,color=['test'+str(x) for x in range(num_latent)],use_raw=False,cmap='Purples')\n",
    "\"\"\"\n",
    "seaborn.clustermap(np.corrcoef((antipode_model.z_transform(encoded[0])).T.cpu().detach().numpy()))\n"
   ]
  },
  {
   "cell_type": "code",
   "execution_count": null,
   "id": "ca9bb6ea-0389-4132-868e-c3d58737e3d3",
   "metadata": {},
   "outputs": [],
   "source": [
    "classouts=batch_torch_outputs([(antipode_model.z_transform(encoded[0]))],antipode_model.classifier,batch_size=2048,device='cuda')\n",
    "o2=classouts[0]\n",
    "adata.obs['psi']=classouts[1].cpu().detach().numpy()"
   ]
  },
  {
   "cell_type": "code",
   "execution_count": null,
   "id": "74b4e555-79ad-4105-84c8-7a439aea2ce9",
   "metadata": {},
   "outputs": [],
   "source": [
    "classouts[0]"
   ]
  },
  {
   "cell_type": "code",
   "execution_count": null,
   "id": "60a1089f-6b92-4be2-a35f-94ca6ea719a8",
   "metadata": {},
   "outputs": [],
   "source": [
    "level_edges=[safe_softmax(pyro.param('edges_'+str(i))).detach().cpu().numpy() for i in range(len(antipode_model.level_sizes)-1)]\n",
    "levels=antipode_model.tree_convergence.guide_sample(torch.softmax(classouts[0],-1).detach().cpu(),level_edges,s=torch.ones(1))\n",
    "for i in range(len(levels)):\n",
    "    adata.obs['prop_level_'+str(i)]=levels[i].argmax(1)\n",
    "    adata.obs['prop_level_'+str(i)]=adata.obs['level_'+str(i)].astype(str)\n",
    "\n",
    "adata.obs['prop_antipode_model_cluster'] = adata.obs.apply(lambda x: '_'.join([x['level_' + str(i)] for i in range(len(levels))]), axis=1)\n",
    "seaborn.clustermap(levels[-1][:10000,:],row_cluster=False)\n"
   ]
  },
  {
   "cell_type": "code",
   "execution_count": null,
   "id": "7147df4a-de9a-46fd-ab72-23cbd0eb5de7",
   "metadata": {},
   "outputs": [],
   "source": [
    "level_edges=[safe_softmax(pyro.param('edges_'+str(i))).detach().cpu().numpy() for i in range(len(antipode_model.level_sizes)-1)]\n",
    "levels=antipode_model.tree_convergence_bottom_up.guide_sample(safe_softmax(classouts[0][...,-antipode_model.level_sizes[-1]:]).detach().cpu(),level_edges,s=torch.ones(1))\n",
    "\n",
    "for i in range(len(levels)):\n",
    "    adata.obs['level_'+str(i)]=levels[i].argmax(1)\n",
    "    adata.obs['level_'+str(i)]=adata.obs['level_'+str(i)].astype(str)\n",
    "\n",
    "adata.obs['antipode_model_cluster'] = adata.obs.apply(lambda x: '_'.join([x['level_' + str(i)] for i in range(len(levels))]), axis=1)\n",
    "\n",
    "taxon=torch.cat(levels,dim=-1)\n",
    "seaborn.clustermap(taxon[:10000,1:],row_cluster=False)\n",
    "seaborn.clustermap(taxon[:10000,-antipode_model.level_sizes[-1]:],row_cluster=False)"
   ]
  },
  {
   "cell_type": "code",
   "execution_count": null,
   "id": "2d5abd25-552e-48a0-b866-7c719ad7e3f7",
   "metadata": {
    "scrolled": true
   },
   "outputs": [],
   "source": [
    "vcs=adata.obs['antipode_model_cluster'].value_counts()\n",
    "legit_clusters=vcs.index[vcs>100]\n",
    "#adata.obs.loc[~adata.obs['antipode_model_cluster'].isin(legit_clusters),'antipode_model_cluster']='nan'"
   ]
  },
  {
   "cell_type": "code",
   "execution_count": null,
   "id": "824ca63d-2774-4adc-92b0-6034d1e3811b",
   "metadata": {},
   "outputs": [],
   "source": [
    "sc.pl.umap(adata,color=[x for x in adata.obs.columns if 'level' in x]+['antipode_model_cluster','kmeans'],use_raw=False,legend_loc='on data',palette=sc.pl.palettes.godsnot_102)"
   ]
  },
  {
   "cell_type": "code",
   "execution_count": null,
   "id": "7532aa9d-16aa-42f7-b093-4649456f77b5",
   "metadata": {},
   "outputs": [],
   "source": [
    "sc.pl.umap(adata,color=[x for x in adata.obs.columns if 'level' in x]+['antipode_model_cluster','kmeans'],use_raw=False,legend_loc=None,palette=sc.pl.palettes.godsnot_102)"
   ]
  },
  {
   "cell_type": "code",
   "execution_count": null,
   "id": "6e6ee6b6-1b56-41e9-99ee-ede1a330ba85",
   "metadata": {},
   "outputs": [],
   "source": [
    "seaborn.histplot(np.log10(o2.sum(0).cpu().detach().numpy()+1))"
   ]
  },
  {
   "cell_type": "code",
   "execution_count": null,
   "id": "4878ddc6-a4af-4dd8-ae11-e4e712211810",
   "metadata": {},
   "outputs": [],
   "source": [
    "seaborn.clustermap(o2[:1000,:]>0.5)"
   ]
  },
  {
   "cell_type": "code",
   "execution_count": null,
   "id": "ebb85156-c0a1-48f0-9556-f0f76b934b61",
   "metadata": {},
   "outputs": [],
   "source": [
    "(antipode_model.z_transform(encoded[0])).detach().data.cpu().numpy()"
   ]
  },
  {
   "cell_type": "code",
   "execution_count": null,
   "id": "6f7b33a4-da65-450d-b963-37850f6e3b3d",
   "metadata": {
    "scrolled": true,
    "tags": []
   },
   "outputs": [],
   "source": [
    "adata.obsm['X_antipode_model']=(antipode_model.z_transform(encoded[0])).detach().data.cpu().numpy()\n",
    "random_choice=np.random.choice(adata.obs.index,size=10000,replace=False)\n",
    "random_choice=np.where(adata.obs.index.isin(random_choice))[0]\n",
    "xdata=adata[random_choice,:].to_memory()\n",
    "sc.pp.neighbors(xdata,n_neighbors=20, use_rep=\"X_antipode_model\")\n",
    "sc.tl.umap(xdata)\n",
    "sc.pl.umap(xdata,color=['general_region','leiden','species'],use_raw=False,legend_loc='on data',palette=sc.pl.palettes.godsnot_102)"
   ]
  },
  {
   "cell_type": "code",
   "execution_count": null,
   "id": "e8464d6e-5fe3-4a96-b6db-9a4d28b03c63",
   "metadata": {},
   "outputs": [],
   "source": [
    "sc.pl.umap(xdata,color=['psi'],use_raw=False,legend_loc='on data',cmap='coolwarm')"
   ]
  },
  {
   "cell_type": "code",
   "execution_count": null,
   "id": "fff808e1-9aa5-4e23-95f8-11d33264dcba",
   "metadata": {},
   "outputs": [],
   "source": [
    "sc.pl.umap(xdata,color=['level_1'],use_raw=False,legend_loc='on data',palette=sc.pl.palettes.godsnot_102)\n",
    "#sc.pl.umap(xdata,color=['level_1','level_2','level_3','antipode_model_cluster'],use_raw=False,legend_loc='on data',palette=sc.pl.palettes.godsnot_102)"
   ]
  },
  {
   "cell_type": "code",
   "execution_count": null,
   "id": "78f5b171-af1b-4a36-ba62-28de5436ea99",
   "metadata": {},
   "outputs": [],
   "source": [
    "sc.pl.umap(xdata,color=[x for x in adata.obs.columns if 'level' in x]+['antipode_model_cluster'],use_raw=False,legend_loc=None,palette=sc.pl.palettes.godsnot_102)"
   ]
  },
  {
   "cell_type": "code",
   "execution_count": null,
   "id": "47deb726-7b57-4689-aa46-18563eaaeb4c",
   "metadata": {},
   "outputs": [],
   "source": [
    "taxon=classouts[0].detach().cpu().numpy()\n",
    "\n",
    "levels = [taxon[..., antipode_model.level_indices[i]:antipode_model.level_indices[i + 1]]\n",
    "          for i in range(len(antipode_model.level_sizes))]\n",
    "\n",
    "level_edges=[safe_softmax(pyro.param('edges_'+str(i))).detach().cpu().numpy() for i in range(len(antipode_model.level_sizes)-1)]\n",
    "\n",
    "results=[levels[-1]]\n",
    "#Propagate from bottom to top\n",
    "for i in range(len(antipode_model.level_sizes) - 1):\n",
    "    result=results[i]@level_edges[-(i+1)]\n",
    "    results.append(result)\n",
    "results=results[::-1]\n",
    "\n",
    "\n",
    "diff=taxon-np.concatenate(results,-1)\n",
    "seaborn.histplot(np.abs(diff).mean(0))"
   ]
  },
  {
   "cell_type": "code",
   "execution_count": null,
   "id": "ebc6f635-7374-4bf3-bbd0-09591bdb51f1",
   "metadata": {},
   "outputs": [],
   "source": [
    "seaborn.histplot(results[0])"
   ]
  },
  {
   "cell_type": "code",
   "execution_count": null,
   "id": "a4c025da-49de-4cf8-80e7-b2c393c48c47",
   "metadata": {
    "tags": []
   },
   "outputs": [],
   "source": [
    "device='cuda'\n",
    "\n",
    "\n",
    "# Setup an optimizer (Adam) and learning rate scheduler.\n",
    "# We start with a moderately high learning rate (0.006) and\n",
    "# reduce by a factor of 5 after 20 epochs.\n",
    "scheduler=pyro.optim.OneCycleLR({'max_lr':0.001,'total_steps':max_steps,'div_factor':100,'optim_args':{},'optimizer':torch.optim.Adam})\n",
    "\n",
    "# Setup a variational objective for gradient-based learning.\n",
    "# Note we use TraceEnum_ELBO in order to leverage Pyro's machinery\n",
    "# for automatic enumeration of the discrete latent variable y.\n",
    "elbo = pyro.infer.JitTrace_ELBO(num_particles=3,strict_enumeration_warning=False)\n",
    "\n",
    "svi = SVI(antipode_model.model, antipode_model.guide, scheduler, elbo)"
   ]
  },
  {
   "cell_type": "code",
   "execution_count": null,
   "id": "7eb2895d-2af0-4c90-aeb3-c574a3e45cde",
   "metadata": {},
   "outputs": [],
   "source": [
    "device='cuda'\n",
    "antipode_model.train()\n",
    "antipode_model.zl_encoder.train()\n",
    "steps=0\n",
    "max_steps=150000\n",
    "\n",
    "antipode_model=antipode_model.to(device)\n",
    "antipode_model.set_approx(False)#Approx doesn't work very well for integration\n",
    "loss_tracker=[]\n",
    "#for steps in range(max_steps):\n",
    "pbar = tqdm.tqdm(total=max_steps, position=0)\n",
    "done=False\n",
    "while steps < max_steps:\n",
    "    for adata_path in reversed(adata_paths[1:]):\n",
    "        #pbar.write(adata_path)\n",
    "        #TODO integrate SCVI dataloader with proper chunking\n",
    "        dataloader=make_dataloader(origdata=adata,adata_path=os.path.expanduser(adata_path),batch_size=batch_size)\n",
    "        for x in dataloader:\n",
    "            args=[y.to(device) for y in x]+[torch.ones(1).to(device)*steps]\n",
    "            loss=svi.step(*args)\n",
    "            steps+=1\n",
    "            if steps<max_steps-1:\n",
    "                scheduler.step()\n",
    "            else:\n",
    "                break\n",
    "            pbar.update(1)\n",
    "            loss_tracker.append(loss)\n",
    "            if not done:\n",
    "                done=True\n",
    "                print('grad tracking')\n",
    "                gradient_norms = defaultdict(list)\n",
    "                for name, value in pyro.get_param_store().named_parameters():\n",
    "                    value.register_hook(\n",
    "                        lambda g, name=name: gradient_norms[name].append(g.norm().item())\n",
    "                    )\n",
    "            if steps%print_every == 0:\n",
    "                # Tell the scheduler we've done one epoch.\n",
    "                #print(\"[Step %02d]  Loss: %.5f\" % (steps, np.mean(loss_tracker[-print_every:])))\n",
    "                pbar.write(\"[Step %02d]  Loss: %.5f\" % (steps, np.mean(loss_tracker[-print_every:])))\n",
    "\n",
    "pbar.close()\n",
    "allDone()\n",
    "print(\"Finished training!\")"
   ]
  },
  {
   "cell_type": "code",
   "execution_count": null,
   "id": "0f20d0c3-ed23-40b4-8be0-43de7dbcd8c9",
   "metadata": {},
   "outputs": [],
   "source": []
  },
  {
   "cell_type": "code",
   "execution_count": null,
   "id": "4595af3d-c1aa-4660-bc97-655e9ef9f015",
   "metadata": {},
   "outputs": [],
   "source": []
  },
  {
   "cell_type": "code",
   "execution_count": null,
   "id": "8d7b7d11-0824-4067-90af-9b83f997ed2e",
   "metadata": {},
   "outputs": [],
   "source": []
  },
  {
   "cell_type": "code",
   "execution_count": null,
   "id": "20360323-4cf6-46e1-9476-efbd59c16e5d",
   "metadata": {},
   "outputs": [],
   "source": []
  },
  {
   "cell_type": "code",
   "execution_count": null,
   "id": "54f66b27-7b01-4be1-82fe-da038b9713b5",
   "metadata": {},
   "outputs": [],
   "source": []
  },
  {
   "cell_type": "code",
   "execution_count": null,
   "id": "ed1f0d3b-62a5-4cec-94cb-8b9135e231e6",
   "metadata": {},
   "outputs": [],
   "source": []
  },
  {
   "cell_type": "code",
   "execution_count": null,
   "id": "043b2b68-6928-4d95-b1b4-de2fb9264c64",
   "metadata": {},
   "outputs": [],
   "source": []
  }
 ],
 "metadata": {
  "kernelspec": {
   "display_name": "pyro",
   "language": "python",
   "name": "pyro"
  },
  "language_info": {
   "codemirror_mode": {
    "name": "ipython",
    "version": 3
   },
   "file_extension": ".py",
   "mimetype": "text/x-python",
   "name": "python",
   "nbconvert_exporter": "python",
   "pygments_lexer": "ipython3",
   "version": "3.11.5"
  }
 },
 "nbformat": 4,
 "nbformat_minor": 5
}
