{
 "cells": [
  {
   "cell_type": "code",
   "execution_count": 1,
   "id": "3ffe491f-acab-469c-90c9-4fb859e695fd",
   "metadata": {
    "tags": []
   },
   "outputs": [
    {
     "name": "stderr",
     "output_type": "stream",
     "text": [
      "/allen/programs/celltypes/workgroups/rnaseqanalysis/EvoGen/Team/Matthew/utils/miniconda3/envs/pyro/lib/python3.11/site-packages/scvi/_settings.py:63: UserWarning: Since v1.0.0, scvi-tools no longer uses a random seed by default. Run `scvi.settings.seed = 0` to reproduce results from previous versions.\n",
      "  self.seed = seed\n",
      "/allen/programs/celltypes/workgroups/rnaseqanalysis/EvoGen/Team/Matthew/utils/miniconda3/envs/pyro/lib/python3.11/site-packages/scvi/_settings.py:70: UserWarning: Setting `dl_pin_memory_gpu_training` is deprecated in v1.0 and will be removed in v1.1. Please pass in `pin_memory` to the data loaders instead.\n",
      "  self.dl_pin_memory_gpu_training = (\n",
      "/allen/programs/celltypes/workgroups/rnaseqanalysis/EvoGen/Team/Matthew/utils/miniconda3/envs/pyro/lib/python3.11/site-packages/tqdm/auto.py:21: TqdmWarning: IProgress not found. Please update jupyter and ipywidgets. See https://ipywidgets.readthedocs.io/en/stable/user_install.html\n",
      "  from .autonotebook import tqdm as notebook_tqdm\n"
     ]
    },
    {
     "name": "stdout",
     "output_type": "stream",
     "text": [
      "cuda:0\n"
     ]
    }
   ],
   "source": [
    "# various import statements\n",
    "import os\n",
    "import sklearn\n",
    "from sklearn import cluster\n",
    "import pandas as pd\n",
    "import scanpy as sc\n",
    "import scvi\n",
    "import inspect\n",
    "import tqdm\n",
    "import numpy as np\n",
    "from collections import defaultdict\n",
    "import torch\n",
    "import torch.nn as nn\n",
    "from torch.nn.functional import softplus, softmax\n",
    "from torch.distributions import constraints\n",
    "import seaborn\n",
    "import pyro\n",
    "import pyro.distributions as dist\n",
    "import pyro.poutine as poutine\n",
    "import pyro.optim\n",
    "from pyro.infer import SVI\n",
    "import matplotlib\n",
    "import matplotlib.pyplot as plt\n",
    "import numpy as np\n",
    "import re\n",
    "\n",
    "sc.settings.figdir=os.path.expanduser('~/WbFigures/SpeciesDivergenceNoScaling')\n",
    "\n",
    "device = torch.device(\"cuda:0\" if torch.cuda.is_available() else \"cpu\")\n",
    "print(device)\n"
   ]
  },
  {
   "cell_type": "code",
   "execution_count": 2,
   "id": "371c61df-51ad-4d4b-b5b6-39fd5d1e4b08",
   "metadata": {},
   "outputs": [],
   "source": [
    "import sys\n",
    "sys.path.append('/home/matthew.schmitz/Matthew/code/scANTIPODE/antipode/')\n",
    "import antipode_model\n",
    "from antipode_model import *\n",
    "import model_functions\n",
    "from model_functions import *\n",
    "import model_distributions\n",
    "from model_distributions import *\n",
    "import model_modules\n",
    "from model_modules import *\n",
    "import train_utils\n",
    "from train_utils import *\n",
    "import plotting\n",
    "from plotting import *\n",
    "\n",
    "import importlib\n",
    "antipode_model=importlib.reload(antipode_model)\n",
    "from antipode_model import *\n",
    "\n",
    "import importlib\n",
    "model_modules=importlib.reload(model_modules)\n",
    "from model_modules import *\n",
    "\n",
    "model_functions=importlib.reload(model_functions)\n",
    "from model_functions import *\n",
    "\n",
    "import importlib\n",
    "model_distributions=importlib.reload(model_distributions)\n",
    "from model_distributions import *\n",
    "\n",
    "import importlib\n",
    "train_utils=importlib.reload(train_utils)\n",
    "from train_utils import *\n",
    "\n",
    "import importlib\n",
    "plotting=importlib.reload(plotting)\n",
    "from plotting import *\n",
    "\n"
   ]
  },
  {
   "cell_type": "code",
   "execution_count": null,
   "id": "b55ede1a-5159-40ae-bb51-f03a129f7156",
   "metadata": {},
   "outputs": [],
   "source": [
    "adata=sc.read_h5ad(os.path.expanduser('/allen/programs/celltypes/workgroups/rnaseqanalysis/EvoGen/Team/Matthew/data/cortex_data/internal_mot/M1_cross_species_merged_intergrated.h5ad'),backed='r+')\n",
    "\n",
    "adata.obsm[\"X_original_umap\"]=adata.obsm[\"X_umap\"]\n",
    "adata.obs['species']=adata.obs['organism_species']\n",
    "adata.obsm[\"X_umap\"]=adata.obsm[\"X_umap_scVI_species_correction\"]\n",
    "adata.obsm[\"X_original_umap\"]=adata.obsm[\"X_umap\"]\n",
    "sc.pl.umap(adata,color=['species','consensus_subclass_label'])"
   ]
  },
  {
   "cell_type": "code",
   "execution_count": null,
   "id": "dbeb2bef-210f-4044-ad5b-23d02031ae5c",
   "metadata": {},
   "outputs": [],
   "source": [
    "adata"
   ]
  },
  {
   "cell_type": "code",
   "execution_count": null,
   "id": "c8188b4f-93d3-417e-b6d6-061bdb88f6c1",
   "metadata": {},
   "outputs": [],
   "source": [
    "try:\n",
    "    pyro.clear_param_store()\n",
    "    del antipode_model\n",
    "    torch.cuda.empty_cache()\n",
    "except:\n",
    "    pass"
   ]
  },
  {
   "cell_type": "code",
   "execution_count": null,
   "id": "fa3438c5-dd7e-41aa-bde8-2183986f0bcd",
   "metadata": {},
   "outputs": [],
   "source": [
    "num_var=adata.shape[1]\n",
    "batch_size=32\n",
    "level_sizes=[1,10,25,125]\n",
    "num_latent=200\n",
    "num_labels=sum(level_sizes)\n",
    "steps=0\n",
    "max_steps=100000\n",
    "print_every=5000\n",
    "\n",
    "# Clear Pyro param store so we don't conflict with previous run\n",
    "pyro.clear_param_store()\n",
    "# Fix random number seed to a lucky number\n",
    "pyro.util.set_rng_seed(13)\n",
    "# Enable optional validation warnings\n",
    "pyro.enable_validation(False)\n",
    "\n",
    "decay_function=gen_linear_function(max_steps,10000)#gen_exponential_decay(5e-6)\n",
    "\n",
    "# Instantiate instance of model/guide and various neural networks\n",
    "antipode_model = ANTIPODE(num_latent=num_latent,level_sizes=level_sizes,\n",
    "                adata=adata,discov_pair=('obs','species'),batch_pair=('obs','batch_id'),layer='UMIs',\n",
    "                scale_factor=1e2 / (3*batch_size * num_var * num_labels * num_latent),\n",
    "                bi_depth=2,decay_function=decay_function,max_strictness=100,prior_scale=100.,num_batch_embed=10)\n"
   ]
  },
  {
   "cell_type": "markdown",
   "id": "c181029a-beb4-4d05-bdda-3854b8fda660",
   "metadata": {},
   "source": [
    "# Training Phase 1: Particlized tree approximation"
   ]
  },
  {
   "cell_type": "code",
   "execution_count": null,
   "id": "f7d7be17-ca10-42bd-9b6a-deacd43f59aa",
   "metadata": {},
   "outputs": [],
   "source": [
    "antipode_model.train_phase_1(max_steps=max_steps,print_every=10000,num_particles=1)\n",
    "antipode_model.store_outputs(device=device,prefix='')\n"
   ]
  },
  {
   "cell_type": "code",
   "execution_count": null,
   "id": "0250db4c-2c28-4fcd-bcdb-059d8810cf2b",
   "metadata": {},
   "outputs": [],
   "source": [
    "plot_gmm_heatmaps(antipode_model)\n",
    "plot_tree_edge_weights(antipode_model)\n",
    "plot_d_hists(antipode_model)"
   ]
  },
  {
   "cell_type": "code",
   "execution_count": null,
   "id": "4de70cb5-08f1-4fc1-86ac-dc777e7615b6",
   "metadata": {},
   "outputs": [],
   "source": [
    "sc.pl.umap(adata,color=[x for x in adata.obs.columns if 'level' in x]+['antipode_cluster'],use_raw=False,legend_loc=None,palette=sc.pl.palettes.godsnot_102)\n",
    "random_choice=np.random.choice(adata.obs.index,size=20000,replace=False)\n",
    "random_choice=np.where(adata.obs.index.isin(random_choice))[0]\n",
    "xdata=adata[random_choice,:]\n",
    "xdata=xdata.to_memory().copy()\n",
    "sc.pp.neighbors(xdata,n_neighbors=20, use_rep=\"X_antipode\")\n",
    "sc.tl.umap(xdata)\n",
    "sc.pl.umap(xdata,color=['donor_id', 'age', 'sex', 'region', 'subregion','species'],use_raw=False,legend_loc='on data',palette=sc.pl.palettes.godsnot_102)\n",
    "sc.pl.umap(xdata,color=['psi'],use_raw=False,legend_loc='on data',cmap='coolwarm')\n",
    "sc.pl.umap(xdata,color=[x for x in adata.obs.columns if 'level' in x]+['antipode_cluster'],use_raw=False,legend_loc=None,palette=sc.pl.palettes.godsnot_102)\n",
    "xdata.X=xdata.raw.X[:,xdata.raw.var.index.isin(xdata.var.index)]\n",
    "sc.pp.normalize_per_cell(xdata)\n",
    "sc.pp.log1p(xdata)\n",
    "sc.pp.scale(xdata,max_value=10)\n",
    "#sc.pl.umap(xdata,color=['GBX2','EOMES','SIX3','OTX2','FOXG1','RBFOX3','TH','PDGFRA','AQP4','FOXJ1','AIF1','TTR','MOG','COL1A2','CD34','COL4A1','NPY','NKX2-1','FOXP2','SATB2','RORB','FEZF2','EMX1'],use_raw=False,cmap='Purples')\n",
    "#sc.pl.umap(xdata,color=['DLX2','PROX1','SCGN','TSHZ1','MEIS2','NKX2-1','LHX6','CRABP1','TSHZ1','FOXG1','PDGFRA','AIF1','AQP4','EDNRB','FOXJ1','CD34','MKI67'],cmap='Purples',use_raw=False)\n",
    "#sc.pl.umap(xdata,color=['RPL7','RPS17','RPL13A','MEF2C'],cmap='Purples',use_raw=False)\n"
   ]
  },
  {
   "cell_type": "markdown",
   "id": "0fd4ded4-2f42-456e-bbc8-9d5c0d2b178b",
   "metadata": {},
   "source": [
    "# Training Phase 2: Inintializing categorical leaved tree"
   ]
  },
  {
   "cell_type": "code",
   "execution_count": null,
   "id": "b051283f-c330-439d-95f5-ad7ae9c9d318",
   "metadata": {},
   "outputs": [],
   "source": [
    "antipode_model.prepare_phase_2()\n",
    "sc.pl.umap(adata,color=['kmeans','donor_id', 'age', 'sex', 'region', 'subregion'],legend_loc=\"on data\",palette=sc.pl.palettes.godsnot_102)\n",
    "antipode_model.train_phase_2(max_steps=max_steps,print_every=10000,num_particles=1)\n",
    "antipode_model.store_outputs(device=device,prefix='')\n"
   ]
  },
  {
   "cell_type": "code",
   "execution_count": null,
   "id": "e6c3c958-b69f-4b1f-ac3b-c6c45e8f4bc6",
   "metadata": {},
   "outputs": [],
   "source": [
    "plot_gmm_heatmaps(antipode_model)\n",
    "plot_tree_edge_weights(antipode_model)\n",
    "plot_d_hists(antipode_model)"
   ]
  },
  {
   "cell_type": "code",
   "execution_count": null,
   "id": "38a782b8-a259-4f0c-8eba-dc8bd7e8295d",
   "metadata": {},
   "outputs": [],
   "source": [
    "MDE_KEY = \"X_antipode_MDE\"\n",
    "adata.obsm[MDE_KEY] = scvi.model.utils.mde(adata.obsm['X_antipode'])\n",
    "sc.pl.embedding(\n",
    "    adata,\n",
    "    basis=MDE_KEY,\n",
    "    color=[\"antipode_cluster\",'kmeans','donor_id', 'age', 'sex', 'region', 'subregion'],\n",
    "    legend_loc='on data'\n",
    ")\n"
   ]
  },
  {
   "cell_type": "code",
   "execution_count": null,
   "id": "5de1cd5d-7a88-4052-8ad5-2354b786cc42",
   "metadata": {
    "scrolled": true
   },
   "outputs": [],
   "source": [
    "sc.pl.umap(adata,color=[x for x in adata.obs.columns if 'level' in x]+['antipode_cluster','kmeans'],use_raw=False,legend_loc=None,palette=sc.pl.palettes.godsnot_102)\n",
    "random_choice=np.random.choice(adata.obs.index,size=10000,replace=False)\n",
    "random_choice=np.where(adata.obs.index.isin(random_choice))[0]\n",
    "xdata=adata[random_choice,:]\n",
    "xdata=xdata.to_memory().copy()\n",
    "sc.pp.neighbors(xdata,n_neighbors=20, use_rep=\"X_antipode\")\n",
    "sc.tl.umap(xdata)\n",
    "sc.pl.umap(xdata,color=['donor_id', 'age', 'sex', 'region', 'subregion','species'],use_raw=False,legend_loc='on data',palette=sc.pl.palettes.godsnot_102)\n",
    "sc.pl.umap(xdata,color=['psi'],use_raw=False,legend_loc='on data',cmap='coolwarm')\n",
    "sc.pl.umap(xdata,color=[x for x in adata.obs.columns if 'level' in x]+['antipode_cluster'],use_raw=False,legend_loc=None,palette=sc.pl.palettes.godsnot_102)\n",
    "xdata.X=xdata.raw.X[:,xdata.raw.var.index.isin(xdata.var.index)]\n",
    "sc.pp.normalize_per_cell(xdata)\n",
    "sc.pp.log1p(xdata)\n",
    "sc.pp.scale(xdata,max_value=10)\n",
    "#sc.pl.umap(xdata,color=['GBX2','EOMES','SIX3','OTX2','FOXG1','RBFOX3','TH','PDGFRA','AQP4','FOXJ1','AIF1','TTR','MOG','COL1A2','CD34','COL4A1','NPY','NKX2-1','FOXP2','SATB2','RORB','FEZF2','EMX1'],use_raw=False,cmap='Purples')\n",
    "#sc.pl.umap(xdata,color=['DLX2','PROX1','SCGN','TSHZ1','MEIS2','NKX2-1','LHX6','CRABP1','TSHZ1','FOXG1','PDGFRA','AIF1','AQP4','EDNRB','FOXJ1','CD34','MKI67'],cmap='Purples',use_raw=False)\n",
    "#sc.pl.umap(xdata,color=['RPL7','RPS17','RPL13A','MEF2C'],cmap='Purples',use_raw=False)\n"
   ]
  },
  {
   "cell_type": "markdown",
   "id": "74a8088c-0ca6-4224-b9c3-5d53125d74bb",
   "metadata": {},
   "source": [
    "# Training Phase 3: Refining the final tree"
   ]
  },
  {
   "cell_type": "code",
   "execution_count": null,
   "id": "69b8a556-5e56-4aa0-9c3d-f7514c48e4e8",
   "metadata": {},
   "outputs": [],
   "source": [
    "antipode_model.train_phase_3(max_steps=max_steps,print_every=10000,num_particles=1)\n",
    "antipode_model.store_outputs(device=device,prefix='')"
   ]
  },
  {
   "cell_type": "code",
   "execution_count": null,
   "id": "e86b70a9-0c3e-4615-ad65-9dd3b6c9b947",
   "metadata": {},
   "outputs": [],
   "source": [
    "plot_gmm_heatmaps(antipode_model)\n",
    "plot_tree_edge_weights(antipode_model)\n",
    "plot_d_hists(antipode_model)"
   ]
  },
  {
   "cell_type": "code",
   "execution_count": null,
   "id": "fa7e5701-b786-4267-bb7b-db00eada2a6d",
   "metadata": {},
   "outputs": [],
   "source": [
    "MDE_KEY = \"X_antipode_MDE\"\n",
    "adata.obsm[MDE_KEY] = scvi.model.utils.mde(adata.obsm['X_antipode'])\n",
    "sc.pl.embedding(\n",
    "    adata,\n",
    "    basis=MDE_KEY,\n",
    "    color=[\"antipode_cluster\",'kmeans','donor_id', 'age', 'sex', 'region', 'subregion'],\n",
    "    legend_loc='on data'\n",
    ")\n"
   ]
  },
  {
   "cell_type": "code",
   "execution_count": null,
   "id": "bbf8b601-4c7a-42ff-aa31-509cb4585311",
   "metadata": {},
   "outputs": [],
   "source": [
    "sc.pl.umap(adata,color=[x for x in adata.obs.columns if 'level' in x]+['antipode_cluster','kmeans'],use_raw=False,legend_loc=None,palette=sc.pl.palettes.godsnot_102)\n",
    "random_choice=np.random.choice(adata.obs.index,size=100000,replace=False)\n",
    "random_choice=np.where(adata.obs.index.isin(random_choice))[0]\n",
    "xdata=adata[random_choice,:]\n",
    "xdata=xdata.to_memory().copy()\n",
    "sc.pp.neighbors(xdata,n_neighbors=20, use_rep=\"X_antipode\")\n",
    "sc.tl.umap(xdata)\n",
    "sc.pl.umap(xdata,color=['donor_id', 'age', 'sex', 'region', 'subregion','species'],use_raw=False,legend_loc='on data',palette=sc.pl.palettes.godsnot_102)\n",
    "sc.pl.umap(xdata,color=['psi'],use_raw=False,legend_loc='on data',cmap='coolwarm')\n",
    "sc.pl.umap(xdata,color=[x for x in adata.obs.columns if 'level' in x]+['antipode_cluster'],use_raw=False,legend_loc=None,palette=sc.pl.palettes.godsnot_102)\n",
    "xdata.X=xdata.raw.X[:,xdata.raw.var.index.isin(xdata.var.index)]\n",
    "sc.pp.normalize_per_cell(xdata)\n",
    "sc.pp.log1p(xdata)\n",
    "sc.pp.scale(xdata,max_value=10)\n",
    "sc.pl.umap(xdata,color=['GBX2','EOMES','SIX3','OTX2','FOXG1','RBFOX3','TH','PDGFRA','AQP4','FOXJ1','AIF1','TTR','MOG','COL1A2','CD34','COL4A1','NPY','NKX2-1','FOXP2','SATB2','RORB','FEZF2','EMX1'],use_raw=False,cmap='Purples')\n",
    "sc.pl.umap(xdata,color=['DLX2','PROX1','SCGN','TSHZ1','MEIS2','NKX2-1','LHX6','CRABP1','TSHZ1','FOXG1','PDGFRA','AIF1','AQP4','EDNRB','FOXJ1','CD34','MKI67'],cmap='Purples',use_raw=False)\n",
    "sc.pl.umap(xdata,color=['RPL7','RPS17','RPL13A','MEF2C'],cmap='Purples',use_raw=False)\n"
   ]
  },
  {
   "cell_type": "code",
   "execution_count": null,
   "id": "b1360aa7-5a6e-49ec-9eaf-1ff9b834fc89",
   "metadata": {},
   "outputs": [],
   "source": [
    "#adata.write_h5ad('/home/matthew.schmitz/Matthew/1.9.1_run.h5ad')"
   ]
  },
  {
   "cell_type": "code",
   "execution_count": null,
   "id": "1ce7ab84-d9f0-4a66-89cd-3abbef40d6ca",
   "metadata": {},
   "outputs": [],
   "source": []
  },
  {
   "cell_type": "code",
   "execution_count": null,
   "id": "94d4580b-5d6a-4329-9565-1125105e5b28",
   "metadata": {},
   "outputs": [],
   "source": []
  },
  {
   "cell_type": "code",
   "execution_count": null,
   "id": "1cf959ed-19ca-4283-a47e-3cd2a2e5b736",
   "metadata": {},
   "outputs": [],
   "source": []
  },
  {
   "cell_type": "code",
   "execution_count": null,
   "id": "40ae40d5-941d-4d41-a7c8-5c152a992a58",
   "metadata": {},
   "outputs": [],
   "source": []
  },
  {
   "cell_type": "code",
   "execution_count": null,
   "id": "daabe2dd-363d-455c-b46c-94155eca9e4c",
   "metadata": {},
   "outputs": [],
   "source": []
  },
  {
   "cell_type": "code",
   "execution_count": null,
   "id": "391c4f14-be1d-4488-aa63-c583dd6162b1",
   "metadata": {},
   "outputs": [],
   "source": []
  },
  {
   "cell_type": "code",
   "execution_count": null,
   "id": "0a1a94ef-e3be-4b14-b6ac-388b0fb07c8d",
   "metadata": {},
   "outputs": [],
   "source": []
  },
  {
   "cell_type": "code",
   "execution_count": null,
   "id": "f1e6e528-b00f-48ae-ae11-619f70a8760d",
   "metadata": {},
   "outputs": [],
   "source": []
  }
 ],
 "metadata": {
  "kernelspec": {
   "display_name": "pyro",
   "language": "python",
   "name": "pyro"
  },
  "language_info": {
   "codemirror_mode": {
    "name": "ipython",
    "version": 3
   },
   "file_extension": ".py",
   "mimetype": "text/x-python",
   "name": "python",
   "nbconvert_exporter": "python",
   "pygments_lexer": "ipython3",
   "version": "3.11.5"
  }
 },
 "nbformat": 4,
 "nbformat_minor": 5
}
