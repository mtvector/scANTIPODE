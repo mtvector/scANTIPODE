{
 "cells": [
  {
   "cell_type": "code",
   "execution_count": 1,
   "id": "3ffe491f-acab-469c-90c9-4fb859e695fd",
   "metadata": {
    "tags": []
   },
   "outputs": [
    {
     "name": "stderr",
     "output_type": "stream",
     "text": [
      "/allen/programs/celltypes/workgroups/rnaseqanalysis/EvoGen/Team/Matthew/utils/miniconda3/envs/pyro/lib/python3.11/site-packages/scvi/_settings.py:63: UserWarning: Since v1.0.0, scvi-tools no longer uses a random seed by default. Run `scvi.settings.seed = 0` to reproduce results from previous versions.\n",
      "  self.seed = seed\n",
      "/allen/programs/celltypes/workgroups/rnaseqanalysis/EvoGen/Team/Matthew/utils/miniconda3/envs/pyro/lib/python3.11/site-packages/scvi/_settings.py:70: UserWarning: Setting `dl_pin_memory_gpu_training` is deprecated in v1.0 and will be removed in v1.1. Please pass in `pin_memory` to the data loaders instead.\n",
      "  self.dl_pin_memory_gpu_training = (\n",
      "/allen/programs/celltypes/workgroups/rnaseqanalysis/EvoGen/Team/Matthew/utils/miniconda3/envs/pyro/lib/python3.11/site-packages/tqdm/auto.py:21: TqdmWarning: IProgress not found. Please update jupyter and ipywidgets. See https://ipywidgets.readthedocs.io/en/stable/user_install.html\n",
      "  from .autonotebook import tqdm as notebook_tqdm\n"
     ]
    },
    {
     "name": "stdout",
     "output_type": "stream",
     "text": [
      "cuda:0\n"
     ]
    }
   ],
   "source": [
    "# various import statements\n",
    "import os\n",
    "import sklearn\n",
    "from sklearn import cluster\n",
    "import pandas as pd\n",
    "import scanpy as sc\n",
    "import scvi\n",
    "import inspect\n",
    "import tqdm\n",
    "import numpy as np\n",
    "from collections import defaultdict\n",
    "import torch\n",
    "import torch.nn as nn\n",
    "from torch.nn.functional import softplus, softmax\n",
    "from torch.distributions import constraints\n",
    "import seaborn\n",
    "import pyro\n",
    "import pyro.distributions as dist\n",
    "import pyro.poutine as poutine\n",
    "import pyro.optim\n",
    "from pyro.infer import SVI\n",
    "import matplotlib\n",
    "import matplotlib.pyplot as plt\n",
    "\n",
    "sc.settings.figdir=os.path.expanduser('~/WbFigures/SpeciesDivergenceNoScaling')\n",
    "\n",
    "device = torch.device(\"cuda:0\" if torch.cuda.is_available() else \"cpu\")\n",
    "print(device)\n"
   ]
  },
  {
   "cell_type": "code",
   "execution_count": 2,
   "id": "371c61df-51ad-4d4b-b5b6-39fd5d1e4b08",
   "metadata": {},
   "outputs": [],
   "source": [
    "import sys\n",
    "sys.path.append('/home/matthew.schmitz/Matthew/code/scANTIPODE/plate_version/')\n",
    "import model_functions\n",
    "from model_functions import *\n",
    "import model_distributions\n",
    "from model_distributions import *\n",
    "import plate_modules\n",
    "from plate_modules import *\n",
    "import train_utils\n",
    "from train_utils import *\n",
    "import plotting\n",
    "from plotting import *\n",
    "\n",
    "\n",
    "import importlib\n",
    "plate_modules=importlib.reload(plate_modules)\n",
    "from plate_modules import *\n",
    "\n",
    "model_functions=importlib.reload(model_functions)\n",
    "from model_functions import *\n",
    "\n",
    "import importlib\n",
    "model_distributions=importlib.reload(model_distributions)\n",
    "from model_distributions import *\n",
    "\n",
    "import importlib\n",
    "train_utils=importlib.reload(train_utils)\n",
    "from train_utils import *\n",
    "\n",
    "import importlib\n",
    "plotting=importlib.reload(plotting)\n",
    "from plotting import *\n",
    "\n"
   ]
  },
  {
   "cell_type": "code",
   "execution_count": 6,
   "id": "b55ede1a-5159-40ae-bb51-f03a129f7156",
   "metadata": {},
   "outputs": [
    {
     "name": "stderr",
     "output_type": "stream",
     "text": [
      "\n",
      "KeyboardInterrupt\n",
      "\n"
     ]
    }
   ],
   "source": [
    "#adata=sc.read_h5ad(os.path.expanduser('/allen/programs/celltypes/workgroups/rnaseqanalysis/EvoGen/Team/Matthew/data/taxtest/HvQvM/HvQvM_900k_RPCA_clusters.h5ad'))\n",
    "#adata=sc.read_h5ad(os.path.expanduser('/allen/programs/celltypes/workgroups/rnaseqanalysis/EvoGen/Team/Matthew/data/taxtest/HvQvM/HvQvMall_part1.h5ad'),backed='r+')\n",
    "adata=sc.read_h5ad(os.path.expanduser('/allen/programs/celltypes/workgroups/rnaseqanalysis/EvoGen/Team/Matthew/data/taxtest/HvQvM/HvQvMall.h5ad'),backed='r+')\n",
    "\"\"\"\n",
    "species_arg=adata.obs['species'].cat.codes\n",
    "species_values=torch.nn.functional.one_hot(torch.tensor(adata.obs['species'].cat.codes).long(),num_classes=len(adata.obs['species'].cat.categories)).float()\n",
    "\n",
    "adata.uns['batch_cats']=dict(zip([str(x) for x in adata.obs['batch_name'].cat.categories],[str(x) for x in sorted(set(adata.obs['batch_name'].cat.codes))]))\n",
    "batch_arg=adata.obs['batch_name'].replace(adata.uns['batch_cats']).astype(int)\n",
    "batch_values=torch.nn.functional.one_hot(torch.tensor(adata.obs['batch_name'].replace(adata.uns['batch_cats']).astype(int)).long(),\n",
    "                                         num_classes=len(adata.uns['batch_cats'].keys())).float()\n",
    "\n",
    "\n",
    "adata.X=adata.raw.X[:,adata.raw.var.index.isin(adata.var.index)]#.todense()\n",
    "#adata=adata[np.random.choice(adata.obs.index,100000,replace=False),:]\n",
    "#sc.pp.highly_variable_genes(adata,n_top_genes=5000,flavor=\"seurat_v3\",subset=True)\n",
    "\n",
    "adata=adata[~adata.obs.general_region.isin(['Cultured']),:]\n",
    "adata=adata[~adata.obs.batch_name.str.contains('P10'),:]\n",
    "#adata=adata[adata.obs['general_region'].isin(['bn','cp','ctx','ge']),:]\n",
    "\n",
    "adata.obs['species']=adata.obs['species'].astype('category')\n",
    "sc.pl.umap(adata,color=['species'])\n",
    "sc.pl.umap(adata,color=['leiden'],legend_loc=\"on data\")\n",
    "sc.pl.umap(adata,color='region')\n",
    "adata.obsm['X_original_umap']=adata.obsm['X_umap']\n",
    "adata.obs['n_counts']=adata.X.sum(1)\n",
    "\"\"\""
   ]
  },
  {
   "cell_type": "code",
   "execution_count": 4,
   "id": "afe1f2fa-8568-4bbb-8058-00b89552eb71",
   "metadata": {},
   "outputs": [
    {
     "data": {
      "text/plain": [
       "<Axes: xlabel='general_region'>"
      ]
     },
     "execution_count": 4,
     "metadata": {},
     "output_type": "execute_result"
    },
    {
     "data": {
      "image/png": "[encoded data removed]",
      "text/plain": [
       "<Figure size 640x480 with 1 Axes>"
      ]
     },
     "metadata": {},
     "output_type": "display_data"
    }
   ],
   "source": [
    "adata.obs['general_region'].value_counts().plot.bar()\n",
    "#adata.obs['sample_region'].value_counts().plot.bar()\n",
    "#adata.obs.groupby('species')['sample_region'].value_counts(normalize=True).unstack().T.plot.bar()"
   ]
  },
  {
   "cell_type": "markdown",
   "id": "a384a7d4-6035-4885-8a99-3f6e938ecb3d",
   "metadata": {
    "tags": []
   },
   "source": [
    "# Setting up the model"
   ]
  },
  {
   "cell_type": "code",
   "execution_count": 8,
   "id": "ff4bfd6a-7721-41cc-953b-4044807d3a69",
   "metadata": {},
   "outputs": [],
   "source": [
    "from scvi.module.base import PyroBaseModuleClass\n",
    "\n",
    "class ANTIPODE(PyroBaseModuleClass):\n",
    "    \"\"\"\n",
    "    ANTIPODE is a variational inference model that is developed for the analysis and \n",
    "    categorization of cell types across evolution based on single-cell data. \n",
    "\n",
    "    Parameters:\n",
    "    num_var (int): Number of variables (features) in the dataset.\n",
    "    level_sizes (list of int, optional): Sizes of each level in the model's hierarchical structure. \n",
    "                                         Defaults to [1, 10, 20, 50].\n",
    "    num_latent (int, optional): Number of latent dimensions. Defaults to 10.\n",
    "    alpha (float, optional): The Dirichlet concentration parameter. Defaults to 0.01.\n",
    "    scale_factor (float, optional): Scaling factor for data normalization. Defaults to 1.0.\n",
    "    num_species (int, optional): Number of species (or groups) in the dataset. Defaults to 1.\n",
    "    num_batch (int, optional): Number of batches to correct for in the data. Defaults to 1.\n",
    "    prior_scale (float, optional): Scale of the laplace prior distributions. Defaults to 100.\n",
    "    bi_depth (int, optional): Depth of the tree for the approximation of batch by identity effects. Defaults to 2.\n",
    "\n",
    "    \"\"\"\n",
    "    def __init__(self, num_var,level_sizes=[1,10,20,50],\n",
    "                 num_latent=10, alpha=0.01, scale_factor=1.0,\n",
    "                 num_species=1,num_batch=1,prior_scale=100,\n",
    "                 decay_function=None,max_strictness=1.,bi_depth=2,num_batch_embed=10):\n",
    "        \n",
    "        self._setup_adata_manager_store: dict[\n",
    "            str, type[scvi.data.AnnDataManager]\n",
    "        ] = {}\n",
    "        self.num_var = num_var\n",
    "        self.num_species = num_species\n",
    "        self.num_batch = num_batch\n",
    "        self.num_latent = num_latent\n",
    "        self.scale_factor=scale_factor\n",
    "        self.level_sizes=level_sizes\n",
    "        self.num_labels = np.sum(self.level_sizes)\n",
    "        self.level_indices=np.cumsum([0]+self.level_sizes)\n",
    "        #how deep in the tree should batch by identity be accounted for\n",
    "        self.bi_depth=bi_depth\n",
    "        self.num_bi_depth=sum(self.level_sizes[:self.bi_depth])\n",
    "        self.num_batch_embed=num_batch_embed\n",
    "        self.max_strictness=1.\n",
    "        self.decay_function=decay_function\n",
    "        self.design_matrix=False #Can be fed multi-hot batch/species with serious performance hit\n",
    "\n",
    "        # Initialize plates to be used during sampling\n",
    "        self.var_plate=pyro.plate('var_plate',self.num_var,dim=-1)\n",
    "        self.species_plate=pyro.plate('species_plate',self.num_species,dim=-3)\n",
    "        self.batch_plate=pyro.plate('batch_plate',self.num_batch,dim=-3)\n",
    "        self.latent_plate=pyro.plate('latent_plate',self.num_latent,dim=-1)\n",
    "        self.latent_plate2=pyro.plate('latent_plate2',self.num_latent,dim=-2)\n",
    "        self.label_plate=pyro.plate('label_plate',self.num_labels,dim=-2)\n",
    "        self.batch_embed_plate=pyro.plate('batch_embed_plate',self.num_batch_embed,dim=-3)\n",
    "        self.bi_depth_plate=pyro.plate('bi_depth_plate',self.num_bi_depth,dim=-2)\n",
    "\n",
    "        #Initialize MAP inference modules\n",
    "        self.dm=MAPLaplaceModule(self,'species_dm',[self.num_species,self.num_labels,self.num_latent],[self.species_plate,self.label_plate,self.latent_plate])\n",
    "        self.bm=MAPLaplaceModule(self,'batch_dm',[self.num_batch,self.num_labels,self.num_latent],[self.batch_plate,self.label_plate,self.latent_plate])\n",
    "        self.di=MAPLaplaceModule(self,'species_di',[self.num_species,self.num_labels,self.num_var],[self.species_plate,self.label_plate,self.var_plate])\n",
    "        self.bei=MAPLaplaceModule(self,'batch_di',[self.num_batch_embed,self.num_bi_depth,self.num_var],[self.batch_embed_plate,self.bi_depth_plate,self.var_plate])\n",
    "        self.ci=MAPLaplaceModule(self,'cluster_intercept',[self.num_labels, self.num_var],[self.label_plate,self.var_plate])\n",
    "        self.dc=MAPLaplaceModule(self,'species_dc',[self.num_species,self.num_latent,self.num_var],[self.species_plate,self.latent_plate2,self.var_plate])\n",
    "        #Just params\n",
    "        self.zdw=MAPLaplaceModule(self,'z_decoder_weight',[self.num_latent,self.num_var],[self.latent_plate2,self.var_plate],init_val=((2/self.num_latent)*(torch.rand(self.num_latent,self.num_var)-0.5)),param_only=True)\n",
    "        self.zl=MAPLaplaceModule(self,'locs',[self.num_labels,self.num_latent],[self.label_plate,self.latent_plate],param_only=True)\n",
    "        self.zs=MAPLaplaceModule(self,'scales',[self.num_labels,self.num_latent],[self.label_plate,self.latent_plate],init_val=0.01*torch.ones(self.num_labels,self.num_latent),constraint=constraints.positive,param_only=True)\n",
    "        self.zld=MAPLaplaceModule(self,'locs_dynam',[self.num_labels,self.num_latent],[self.label_plate,self.latent_plate],param_only=True)\n",
    "        \n",
    "        self.tree_edges=TreeEdges(self,straight_through=True)\n",
    "        self.tree_convergence=TreeConvergence(self,strictness=1.)        \n",
    "        self.tree_convergence_bottom_up=TreeConvergenceBottomUp(self,strictness=1.)        \n",
    "        self.z_transform=null_function#centered_sigmoid#torch.special.expit\n",
    "        \n",
    "        super().__init__()\n",
    "        # Setup the various neural networks used in the model and guide\n",
    "        self.z_decoder=ZDecoder(num_latent=self.num_latent, num_var=num_var, hidden_dims=[])        \n",
    "        self.zl_encoder=ZLEncoder(num_var=num_var,hidden_dims=[6000,3000,1000],num_cat_input=self.num_species,\n",
    "                    outputs=[(self.num_latent,None),(self.num_latent,softplus)])\n",
    "        \n",
    "        self.classifier=Classifier(num_latent=self.num_latent,\n",
    "                    outputs=[(self.num_labels,None),(1,None),(1,softplus)])\n",
    "\n",
    "        #self.bc_nn=SimpleFFNN(in_dim=self.num_batch,hidden_dims=[200,200,50,5],\n",
    "        #            out_dim=self.num_var*self.num_latent)\n",
    "        #Too large to exactly model gene-level batch effects for all cluster x batch\n",
    "        self.be_nn=SimpleFFNN(in_dim=self.num_batch,hidden_dims=[1000,500,200],\n",
    "                    out_dim=self.num_batch_embed)\n",
    "        \n",
    "        self.epsilon = 0.006\n",
    "        #Initialize model in approximation mode\n",
    "        self.approx=False\n",
    "        self.hard=False\n",
    "        #Whether to approximate tree connectivity during approximation mode\n",
    "        self.prior_scale=prior_scale\n",
    "        self.args=inspect.getfullargspec(self.model).args[1:]#skip self\n",
    "\n",
    "    def setup_anndata(\n",
    "        self,\n",
    "        adata: anndata.AnnData,\n",
    "        fields,\n",
    "        field_types,\n",
    "        **kwargs,\n",
    "    ):\n",
    "        \n",
    "        anndata_fields=[make_field(x,fields[x]) for x in fields.keys()]\n",
    "        \n",
    "        adata_manager = scvi.data.AnnDataManager(\n",
    "            fields=anndata_fields\n",
    "        )\n",
    "        adata_manager.register_fields(adata, **kwargs)\n",
    "        self.register_manager(adata_manager)\n",
    "        if fields['species_ind'][0]=='obsm':\n",
    "            self.design_matrix=True\n",
    "            if fields['batch_ind'][0]!='obsm':\n",
    "                raise Exception(\"If species is design matrix, batch must be as well!\")\n",
    "\n",
    "\n",
    "    def register_manager(self, adata_manager: scvi.data.AnnDataManager):\n",
    "        adata_id = adata_manager.adata_uuid\n",
    "        self._setup_adata_manager_store[adata_id] = adata_manager\n",
    "        self.adata_manager=adata_manager\n",
    "    \n",
    "    def set_approx(self,b: bool):\n",
    "        self.approx=b\n",
    "        \n",
    "    def model(self, s,species_ind=torch.zeros(1),batch_ind=torch.zeros(1),step=torch.ones(1),taxon=torch.zeros(1)):\n",
    "        # Register various nn.Modules (i.e. the decoder/encoder networks) with Pyro\n",
    "        pyro.module(\"antipode\", self)\n",
    "\n",
    "        if not self.design_matrix:\n",
    "            batch=index_to_onehot(batch_ind,[s.shape[0],self.num_batch]).to(s.device)\n",
    "            species=index_to_onehot(species_ind,[s.shape[0],self.num_species]).to(s.device)\n",
    "            batch_ind=batch_ind.squeeze()\n",
    "            species_ind=species_ind.squeeze()\n",
    "        else:\n",
    "            batch=batch_ind\n",
    "            species=species_ind\n",
    "        \n",
    "        minibatch_plate=pyro.plate(\"minibatch_plate\", s.shape[0],dim=-1)\n",
    "        minibatch_plate2=pyro.plate(\"minibatch_plate2\", s.shape[0],dim=-2)\n",
    "        cur_strictness=self.decay_function(step, self.max_strictness)\n",
    "        l = s.sum(1).unsqueeze(-1)\n",
    "        \n",
    "        with poutine.scale(scale=self.scale_factor):\n",
    "            # This gene-level parameter modulates the variance of the observation distribution\n",
    "            s_theta = pyro.param(\"s_inverse_dispersion\", 50.0 * s.new_ones(self.num_var),\n",
    "                               constraint=constraints.positive)\n",
    "            \n",
    "            scd=pyro.param(\"species_constitutive_de\", s.new_zeros((self.num_species,self.num_var)))\n",
    "            level_edges=self.tree_edges.model_sample(s,approx=self.approx)\n",
    "            \n",
    "            # We scale all sample statements by scale_factor so that the ELBO loss function\n",
    "            # is normalized wrt the number of datapoints and genes.\n",
    "            # This helps with numerical stability during optimization.\n",
    "            with minibatch_plate:\n",
    "                beta_prior_a=1.*s.new_ones(self.num_labels)\n",
    "                beta_prior_a[0]=10.\n",
    "                if self.approx:#Bernoulli particles approx?\n",
    "                    taxon = pyro.sample(\"taxon_probs\", dist.Beta(beta_prior_a,s.new_ones(self.num_labels),validate_args=True).to_event(1))\n",
    "                    taxon = pyro.sample('taxon',dist.RelaxedBernoulli(temperature=0.1*s.new_ones(1),probs=taxon).to_event(1))\n",
    "                    #self.tree_convergence.model_sample(taxon,level_edges,s,cur_strictness)\n",
    "                else:\n",
    "                    taxon_probs=pyro.sample('taxon_probs',dist.Dirichlet(s.new_ones(s.shape[0],self.level_sizes[-1]),validate_args=True))\n",
    "                    if sum(taxon.shape) > 1:#Supervised?\n",
    "                        if taxon.shape[-1]==self.num_labels:#Totally supervised?\n",
    "                            pass\n",
    "                        else:#Only bottom layer is supervised?\n",
    "                            taxon = pyro.sample(\"taxon\", dist.OneHotCategorical(probs=taxon_probs,validate_args=True),obs=taxon)\n",
    "                            taxon = torch.concat(self.tree_convergence_bottom_up.just_propagate(taxon,level_edges,s),-1)\n",
    "                    else:#Unsupervised\n",
    "                        taxon = pyro.sample(\"taxon\", model_distributions.SafeAndRelaxedOneHotCategoricalStraightThrough(temperature=0.1*s.new_ones(1),probs=taxon_probs,validate_args=True))\n",
    "                        taxon = torch.concat(self.tree_convergence_bottom_up.just_propagate(taxon,level_edges,s),-1)\n",
    "                   \n",
    "            locs=self.zl.model_sample(s)\n",
    "            scales=self.zs.model_sample(s)\n",
    "            locs_dynam=self.zld.model_sample(s)\n",
    "            species_dm=self.dm.model_sample(s,scale=fest([species,taxon],-1))\n",
    "            species_di=self.di.model_sample(s,scale=fest([species,taxon],-1))\n",
    "            batch_dm=self.bm.model_sample(s,scale=fest([batch,taxon],-1))\n",
    "            bei=self.bei.model_sample(s,scale=fest([s.new_ones(s.shape[0],self.num_batch_embed),taxon[...,:self.num_bi_depth]],-1))\n",
    "            cluster_intercept=self.ci.model_sample(s,scale=fest([taxon],-1))\n",
    "            z_decoder_weight=self.zdw.model_sample(s)\n",
    "            \n",
    "            with minibatch_plate:\n",
    "                bi=torch.einsum('bi,ijk->bjk',self.be_nn(batch),bei)\n",
    "                bi=torch.einsum('bj,bjk->bk',taxon[...,:self.num_bi_depth],bi)\n",
    "                psi = pyro.sample('psi',dist.Laplace(s.new_zeros(s.shape[0],1),self.prior_scale*s.new_ones(s.shape[0],1)).to_event(1))#Used to be normal#maybe should be centered sigmoid\n",
    "                this_locs=oh_index(locs,taxon)\n",
    "                this_scales=oh_index(scales,taxon)\n",
    "                z=pyro.sample('z', dist.Normal(this_locs,this_scales+self.epsilon,validate_args=True).to_event(1))\n",
    "\n",
    "            cur_species_dm = oh_index1(species_dm, species_ind) if self.design_matrix else species_dm[species_ind]\n",
    "            cur_batch_dm = oh_index1(batch_dm, batch_ind) if self.design_matrix else batch_dm[batch_ind]\n",
    "            cur_scd = oh_index(scd, species) if self.design_matrix else  scd[species_ind]\n",
    "            \n",
    "            z=z+oh_index2(cur_species_dm,taxon) + oh_index2(cur_batch_dm,taxon)+(oh_index(locs_dynam,taxon)*psi)\n",
    "            z=self.z_transform(z)                \n",
    "            \n",
    "            species_dc=self.dc.model_sample(s,scale=fest([species,z.abs()],-1))\n",
    "            cur_species_di = oh_index1(species_di, species_ind) if self.design_matrix else species_di[species_ind]\n",
    "            cur_species_dc = oh_index1(species_dc, species_ind) if self.design_matrix else species_dc[species_ind]\n",
    "            cur_species_di=oh_index2(cur_species_di,taxon)\n",
    "            cur_cluster_intercept=oh_index(cluster_intercept,taxon)\n",
    "            \n",
    "            mu=torch.einsum('...bi,...bij->...bj',z,z_decoder_weight+cur_species_dc)#+bc\n",
    "            spliced_mu=mu+cur_scd+cur_species_di+cur_cluster_intercept+bi\n",
    "            spliced_out=torch.softmax(spliced_mu,dim=-1)\n",
    "            log_mu = (l * spliced_out + 1e-6).log()\n",
    "            \n",
    "            with self.var_plate,minibatch_plate2:\n",
    "                s_dist = dist.NegativeBinomial(total_count=s_theta,logits=log_mu-s_theta.log(),validate_args=True)\n",
    "                s_out=pyro.sample(\"s\", s_dist, obs=s.int())\n",
    "\n",
    "    \n",
    "    # The guide specifies the variational distribution\n",
    "    def guide(self, s,species_ind=torch.zeros(1),batch_ind=torch.zeros(1),step=torch.ones(1),taxon=torch.zeros(1)):\n",
    "        pyro.module(\"antipode\", self)\n",
    "        \n",
    "        if not self.design_matrix:\n",
    "            batch=index_to_onehot(batch_ind,[s.shape[0],self.num_batch]).to(s.device)\n",
    "            species=index_to_onehot(species_ind,[s.shape[0],self.num_species]).to(s.device)\n",
    "            batch_ind=batch_ind.squeeze()\n",
    "            species_ind=species_ind.squeeze()\n",
    "        else:\n",
    "            batch=batch_ind\n",
    "            species=species_ind\n",
    "        \n",
    "        minibatch_plate=pyro.plate(\"minibatch_plate\", s.shape[0])\n",
    "        cur_strictness=self.decay_function(step, self.max_strictness)\n",
    "        \n",
    "        with poutine.scale(scale=self.scale_factor):\n",
    "            locs=self.zl.guide_sample(s)\n",
    "            scales=self.zs.guide_sample(s)\n",
    "            locs_dynam=self.zld.guide_sample(s)\n",
    "            level_edges=self.tree_edges.guide_sample(s,approx=self.approx) \n",
    "            with minibatch_plate:\n",
    "                z_loc, z_scale= self.zl_encoder(s,species)\n",
    "                z=pyro.sample('z',dist.Normal(z_loc,z_scale+self.epsilon).to_event(1))\n",
    "                z=self.z_transform(z)\n",
    "                taxon_logits,psi_loc,psi_scale=self.classifier(z)\n",
    "                psi=pyro.sample('psi',dist.Normal(psi_loc,psi_scale).to_event(1))\n",
    "                if self.approx:\n",
    "                    taxon_dist = dist.Delta(safe_sigmoid(taxon_logits),validate_args=True).to_event(1)\n",
    "                    taxon = pyro.sample(\"taxon_probs\", taxon_dist)\n",
    "                    taxon = pyro.sample('taxon',dist.RelaxedBernoulli(temperature=0.1*s.new_ones(1),probs=taxon).to_event(1))\n",
    "                    #self.tree_convergence.guide_sample(taxon,level_edges,s,cur_strictness)\n",
    "                else:\n",
    "                    taxon_probs=pyro.sample('taxon_probs',dist.Delta(safe_softmax(taxon_logits[...,-self.level_sizes[-1]:])).to_event(1))\n",
    "                    if sum(taxon.shape) > 1:\n",
    "                        pass\n",
    "                    else:\n",
    "                        taxon = pyro.sample(\"taxon\", \n",
    "                                         model_distributions.SafeAndRelaxedOneHotCategoricalStraightThrough(temperature=0.1*s.new_ones(1),probs=taxon_probs,validate_args=True))\n",
    "                    if taxon.shape[-1]<self.num_labels:\n",
    "                        taxon = torch.concat(self.tree_convergence_bottom_up.just_propagate(taxon,level_edges,s),-1)\n",
    "\n",
    "            z_decoder_weight=self.zdw.guide_sample(s)\n",
    "            species_dm=self.dm.guide_sample(s,scale=fest([species,taxon],-1))\n",
    "            batch_dm=self.bm.guide_sample(s,scale=fest([batch,taxon],-1))\n",
    "            species_di=self.di.guide_sample(s,scale=fest([species,taxon],-1))\n",
    "            cluster_intercept=self.ci.guide_sample(s,scale=fest([taxon],-1))\n",
    "            bei=self.bei.guide_sample(s,scale=fest([s.new_ones(s.shape[0],self.num_batch_embed),taxon[...,:self.num_bi_depth]],-1))#maybe should be abs sum bei\n",
    "            if self.design_matrix:\n",
    "                z=z+oh_index2(oh_index1(species_dm,species_ind),taxon) + oh_index2(oh_index1(batch_dm,batch_ind),taxon)+(oh_index(locs_dynam,taxon)*psi)\n",
    "            else:\n",
    "                z=z+oh_index2(species_dm[species_ind],taxon) + oh_index2(batch_dm[batch_ind],taxon)+(oh_index(locs_dynam,taxon)*psi)\n",
    "            z=self.z_transform(z)\n",
    "            species_dc=self.dc.guide_sample(s,scale=fest([species,z.abs()],-1))\n"
   ]
  },
  {
   "cell_type": "code",
   "execution_count": 9,
   "id": "c8188b4f-93d3-417e-b6d6-061bdb88f6c1",
   "metadata": {},
   "outputs": [],
   "source": [
    "try:\n",
    "    pyro.clear_param_store()\n",
    "    del antipode_model\n",
    "    torch.cuda.empty_cache()\n",
    "except:\n",
    "    pass"
   ]
  },
  {
   "cell_type": "code",
   "execution_count": 14,
   "id": "62ba9a43-72ed-40a7-9449-225e905f427b",
   "metadata": {
    "tags": []
   },
   "outputs": [],
   "source": [
    "device='cuda'\n",
    "num_var=adata.shape[1]\n",
    "batch_size=32\n",
    "level_sizes=[1,25,75,250]\n",
    "num_latent=200\n",
    "num_labels=sum(level_sizes)\n",
    "steps=0\n",
    "max_steps=150000\n",
    "print_every=5000\n",
    "\n",
    "# Clear Pyro param store so we don't conflict with previous run\n",
    "pyro.clear_param_store()\n",
    "# Fix random number seed to a lucky number\n",
    "pyro.util.set_rng_seed(13)\n",
    "# Enable optional validation warnings\n",
    "pyro.enable_validation(True)\n",
    "\n",
    "decay_function=gen_linear_function(max_steps,10000)#gen_exponential_decay(5e-6)\n",
    "\n",
    "# Instantiate instance of model/guide and various neural networks\n",
    "antipode_model = ANTIPODE(num_var=num_var, num_latent=num_latent,level_sizes=level_sizes,\n",
    "                num_species=len(adata.obs['species'].unique()),\n",
    "                num_batch=len(adata.obs['batch_name'].unique()),\n",
    "                scale_factor=1e2 / (3*batch_size * num_var * num_labels * num_latent),\n",
    "                bi_depth=2,decay_function=decay_function,max_strictness=50,prior_scale=10000.,num_batch_embed=10)\n",
    "\n",
    "\n",
    "scheduler=pyro.optim.OneCycleLR({'max_lr':0.001,'total_steps':max_steps,'div_factor':100,'optim_args':{},'optimizer':torch.optim.Adam})\n",
    "elbo = pyro.infer.JitTrace_ELBO(num_particles=3,strict_enumeration_warning=False)\n",
    "svi = SVI(antipode_model.model, antipode_model.guide, scheduler, elbo)"
   ]
  },
  {
   "cell_type": "code",
   "execution_count": 15,
   "id": "0eb1e761-7ae4-4bc0-b5d6-57634dd7f053",
   "metadata": {},
   "outputs": [
    {
     "name": "stderr",
     "output_type": "stream",
     "text": [
      "<frozen abc>:119: FutureWarning: SparseDataset is deprecated and will be removed in late 2024. It has been replaced by the public classes CSRDataset and CSCDataset.\n",
      "\n",
      "For instance checks, use `isinstance(X, (anndata.experimental.CSRDataset, anndata.experimental.CSCDataset))` instead.\n",
      "\n",
      "For creation, use `anndata.experimental.sparse_dataset(X)` instead.\n",
      "\n",
      "WARNING: All log messages before absl::InitializeLog() is called are written to STDERR\n",
      "I0000 00:00:1706221904.622165  136827 tfrt_cpu_pjrt_client.cc:349] TfrtCpuClient created.\n",
      "No GPU/TPU found, falling back to CPU. (Set TF_CPP_MIN_LOG_LEVEL=0 and rerun for more info.)\n"
     ]
    }
   ],
   "source": [
    "\"\"\"\n",
    "#For weighted sampler\n",
    "class_weights = adata.obs['region_species'].astype('category').cat.codes.value_counts(normalize=False,sort=False).sort_index()\n",
    "labels = list(adata.obs['region_species'].astype('category').cat.codes) #corresponding labels of samples\n",
    "weights = [1/class_weights[labels[i]] for i in range(len(labels))]\n",
    "sampler = torch.utils.data.sampler.WeightedRandomSampler(torch.DoubleTensor(weights),len(weights),replacement=True)\n",
    "\"\"\"\n",
    "\n",
    "design_matrix=False  #3x faster if false\n",
    "if design_matrix:\n",
    "    #Place complex batch and categorical covariate (design matrix) in obsm, else use obs categorical\n",
    "    adata.obsm['species_onehot']=numpy_onehot(adata.obs['species'].cat.codes)\n",
    "    adata.obsm['batch_onehot']=numpy_onehot(adata.obs['batch_name'].cat.codes)\n",
    "    fields={'s':('layers','spliced'),\n",
    "    'species_ind':('obsm','species_onehot'),\n",
    "    'batch_ind':('obsm','batch_onehot')}\n",
    "    field_types={\"s\":np.float32,\"batch_ind\":np.float32,\"species_ind\":np.float32}\n",
    "else:\n",
    "    adata.obsm['species_onehot']=numpy_onehot(adata.obs['species'].cat.codes)\n",
    "    adata.obsm['batch_onehot']=numpy_onehot(adata.obs['batch_name'].cat.codes)\n",
    "    fields={'s':('layers','spliced'),\n",
    "    'species_ind':('obs','species'),\n",
    "    'batch_ind':('obs','batch_name')}\n",
    "    field_types={\"s\":np.float32,\"batch_ind\":np.int64,\"species_ind\":np.int64}\n",
    "\n",
    "antipode_model.setup_anndata(adata,fields,field_types)\n",
    "dataloader=scvi.dataloaders.AnnDataLoader(antipode_model.adata_manager,batch_size=32,drop_last=True,shuffle=True,data_and_attributes=field_types)#supervised_field_types for supervised step "
   ]
  },
  {
   "cell_type": "code",
   "execution_count": null,
   "id": "06c837df-8194-4317-934a-72f17e50c4e3",
   "metadata": {},
   "outputs": [
    {
     "name": "stderr",
     "output_type": "stream",
     "text": [
      "  0%|          | 0/150000 [00:00<?, ?it/s]<frozen abc>:119: FutureWarning: SparseDataset is deprecated and will be removed in late 2024. It has been replaced by the public classes CSRDataset and CSCDataset.\n",
      "\n",
      "For instance checks, use `isinstance(X, (anndata.experimental.CSRDataset, anndata.experimental.CSCDataset))` instead.\n",
      "\n",
      "For creation, use `anndata.experimental.sparse_dataset(X)` instead.\n",
      "\n",
      "/home/matthew.schmitz/Matthew/code/scANTIPODE/plate_version/model_functions.py:307: TracerWarning: Converting a tensor to a Python boolean might cause the trace to be incorrect. We can't record the data flow of Python values, so this value will be treated as a constant in the future. This means that the trace might not generalize to other inputs!\n",
      "  if sum(index.shape) == 1:\n",
      "/home/matthew.schmitz/Matthew/code/scANTIPODE/plate_version/model_functions.py:310: TracerWarning: Converting a tensor to a Python boolean might cause the trace to be incorrect. We can't record the data flow of Python values, so this value will be treated as a constant in the future. This means that the trace might not generalize to other inputs!\n",
      "  index=torch.nn.functional.one_hot(index.squeeze(),num_classes=out_shape[1]).float() if index.shape[-1]==1 else index\n",
      "/home/matthew.schmitz/Matthew/code/scANTIPODE/plate_version/model_functions.py:349: TracerWarning: Converting a tensor to a Python boolean might cause the trace to be incorrect. We can't record the data flow of Python values, so this value will be treated as a constant in the future. This means that the trace might not generalize to other inputs!\n",
      "  if x < start_point:\n",
      "/home/matthew.schmitz/Matthew/code/scANTIPODE/plate_version/model_functions.py:307: TracerWarning: Converting a tensor to a Python boolean might cause the trace to be incorrect. We can't record the data flow of Python values, so this value will be treated as a constant in the future. This means that the trace might not generalize to other inputs!\n",
      "  if sum(index.shape) == 1:\n",
      "/home/matthew.schmitz/Matthew/code/scANTIPODE/plate_version/model_functions.py:310: TracerWarning: Converting a tensor to a Python boolean might cause the trace to be incorrect. We can't record the data flow of Python values, so this value will be treated as a constant in the future. This means that the trace might not generalize to other inputs!\n",
      "  index=torch.nn.functional.one_hot(index.squeeze(),num_classes=out_shape[1]).float() if index.shape[-1]==1 else index\n",
      "/home/matthew.schmitz/Matthew/code/scANTIPODE/plate_version/model_functions.py:349: TracerWarning: Converting a tensor to a Python boolean might cause the trace to be incorrect. We can't record the data flow of Python values, so this value will be treated as a constant in the future. This means that the trace might not generalize to other inputs!\n",
      "  if x < start_point:\n",
      "/home/matthew.schmitz/Matthew/code/scANTIPODE/plate_version/model_functions.py:307: TracerWarning: Converting a tensor to a Python boolean might cause the trace to be incorrect. We can't record the data flow of Python values, so this value will be treated as a constant in the future. This means that the trace might not generalize to other inputs!\n",
      "  if sum(index.shape) == 1:\n",
      "/home/matthew.schmitz/Matthew/code/scANTIPODE/plate_version/model_functions.py:310: TracerWarning: Converting a tensor to a Python boolean might cause the trace to be incorrect. We can't record the data flow of Python values, so this value will be treated as a constant in the future. This means that the trace might not generalize to other inputs!\n",
      "  index=torch.nn.functional.one_hot(index.squeeze(),num_classes=out_shape[1]).float() if index.shape[-1]==1 else index\n",
      "/home/matthew.schmitz/Matthew/code/scANTIPODE/plate_version/model_functions.py:349: TracerWarning: Converting a tensor to a Python boolean might cause the trace to be incorrect. We can't record the data flow of Python values, so this value will be treated as a constant in the future. This means that the trace might not generalize to other inputs!\n",
      "  if x < start_point:\n",
      "/home/matthew.schmitz/Matthew/code/scANTIPODE/plate_version/model_functions.py:307: TracerWarning: Converting a tensor to a Python boolean might cause the trace to be incorrect. We can't record the data flow of Python values, so this value will be treated as a constant in the future. This means that the trace might not generalize to other inputs!\n",
      "  if sum(index.shape) == 1:\n",
      "/home/matthew.schmitz/Matthew/code/scANTIPODE/plate_version/model_functions.py:310: TracerWarning: Converting a tensor to a Python boolean might cause the trace to be incorrect. We can't record the data flow of Python values, so this value will be treated as a constant in the future. This means that the trace might not generalize to other inputs!\n",
      "  index=torch.nn.functional.one_hot(index.squeeze(),num_classes=out_shape[1]).float() if index.shape[-1]==1 else index\n",
      "/home/matthew.schmitz/Matthew/code/scANTIPODE/plate_version/model_functions.py:349: TracerWarning: Converting a tensor to a Python boolean might cause the trace to be incorrect. We can't record the data flow of Python values, so this value will be treated as a constant in the future. This means that the trace might not generalize to other inputs!\n",
      "  if x < start_point:\n",
      "/home/matthew.schmitz/Matthew/code/scANTIPODE/plate_version/model_functions.py:307: TracerWarning: Converting a tensor to a Python boolean might cause the trace to be incorrect. We can't record the data flow of Python values, so this value will be treated as a constant in the future. This means that the trace might not generalize to other inputs!\n",
      "  if sum(index.shape) == 1:\n",
      "/home/matthew.schmitz/Matthew/code/scANTIPODE/plate_version/model_functions.py:310: TracerWarning: Converting a tensor to a Python boolean might cause the trace to be incorrect. We can't record the data flow of Python values, so this value will be treated as a constant in the future. This means that the trace might not generalize to other inputs!\n",
      "  index=torch.nn.functional.one_hot(index.squeeze(),num_classes=out_shape[1]).float() if index.shape[-1]==1 else index\n",
      "/home/matthew.schmitz/Matthew/code/scANTIPODE/plate_version/model_functions.py:349: TracerWarning: Converting a tensor to a Python boolean might cause the trace to be incorrect. We can't record the data flow of Python values, so this value will be treated as a constant in the future. This means that the trace might not generalize to other inputs!\n",
      "  if x < start_point:\n",
      "/home/matthew.schmitz/Matthew/code/scANTIPODE/plate_version/model_functions.py:307: TracerWarning: Converting a tensor to a Python boolean might cause the trace to be incorrect. We can't record the data flow of Python values, so this value will be treated as a constant in the future. This means that the trace might not generalize to other inputs!\n",
      "  if sum(index.shape) == 1:\n",
      "/home/matthew.schmitz/Matthew/code/scANTIPODE/plate_version/model_functions.py:310: TracerWarning: Converting a tensor to a Python boolean might cause the trace to be incorrect. We can't record the data flow of Python values, so this value will be treated as a constant in the future. This means that the trace might not generalize to other inputs!\n",
      "  index=torch.nn.functional.one_hot(index.squeeze(),num_classes=out_shape[1]).float() if index.shape[-1]==1 else index\n",
      "/home/matthew.schmitz/Matthew/code/scANTIPODE/plate_version/model_functions.py:349: TracerWarning: Converting a tensor to a Python boolean might cause the trace to be incorrect. We can't record the data flow of Python values, so this value will be treated as a constant in the future. This means that the trace might not generalize to other inputs!\n",
      "  if x < start_point:\n",
      "  0%|          | 1/150000 [00:02<107:29:18,  2.58s/it]"
     ]
    },
    {
     "name": "stdout",
     "output_type": "stream",
     "text": [
      "grad tracking\n"
     ]
    },
    {
     "name": "stderr",
     "output_type": "stream",
     "text": [
      "  3%|▎         | 5002/150000 [07:14<3:05:53, 13.00it/s]"
     ]
    },
    {
     "name": "stdout",
     "output_type": "stream",
     "text": [
      "[Step 5000]  Loss: 0.01909\n"
     ]
    },
    {
     "name": "stderr",
     "output_type": "stream",
     "text": [
      "  4%|▎         | 5258/150000 [07:34<3:05:48, 12.98it/s]"
     ]
    }
   ],
   "source": [
    "device='cuda'\n",
    "antipode_model.train()\n",
    "antipode_model.zl_encoder.train()\n",
    "\n",
    "antipode_model=antipode_model.to(device)\n",
    "antipode_model.set_approx(True)#Approx doesn't work very well for integration\n",
    "loss_tracker=[]\n",
    "#for steps in range(max_steps):\n",
    "pbar = tqdm.tqdm(total=max_steps, position=0)\n",
    "done=False\n",
    "while steps < max_steps:\n",
    "    for x in dataloader:\n",
    "        x['step']=torch.ones(1).to(device)*steps\n",
    "        #x={k:x[k].to(device) for k in x.keys()}\n",
    "        x=[x[k].to(device) if k in x.keys() else torch.zeros(1) for k in antipode_model.args]\n",
    "        loss=svi.step(*x)\n",
    "        steps+=1\n",
    "        if steps<max_steps-1:\n",
    "            scheduler.step()\n",
    "        else:\n",
    "            break\n",
    "        pbar.update(1)\n",
    "        loss_tracker.append(loss)\n",
    "        if not done:\n",
    "            done=True\n",
    "            print('grad tracking')\n",
    "            gradient_norms = defaultdict(list)\n",
    "            for name, value in pyro.get_param_store().named_parameters():\n",
    "                value.register_hook(\n",
    "                    lambda g, name=name: gradient_norms[name].append(g.norm().item())\n",
    "                )\n",
    "        if steps%print_every == 0:\n",
    "            # Tell the scheduler we've done one epoch.\n",
    "            pbar.write(\"[Step %02d]  Loss: %.5f\" % (steps, np.mean(loss_tracker[-print_every:])))\n",
    "\n",
    "pbar.close()\n",
    "allDone()\n",
    "print(\"Finished training!\")"
   ]
  },
  {
   "cell_type": "code",
   "execution_count": null,
   "id": "b6405e6e-6f47-466f-8325-27ba8c9186c2",
   "metadata": {
    "scrolled": true
   },
   "outputs": [],
   "source": [
    "seaborn.scatterplot(x=list(range(len(loss_tracker))),y=loss_tracker,alpha=0.5,s=2)\n",
    "w=300\n",
    "mvavg=moving_average(np.pad(loss_tracker,int(w/2),mode='edge'),w)\n",
    "seaborn.lineplot(x=list(range(len(mvavg))),y=mvavg,color='coral')\n",
    "\n"
   ]
  },
  {
   "cell_type": "code",
   "execution_count": null,
   "id": "af5b22d0-3e57-4450-abfa-305402eb3fd1",
   "metadata": {},
   "outputs": [],
   "source": [
    "plt.figure(figsize=(20, 5), dpi=100).set_facecolor(\"white\")\n",
    "ax = plt.subplot(111)\n",
    "\n",
    "for i,(name, grad_norms) in enumerate(gradient_norms.items()):\n",
    "    mvavg=moving_average(np.pad(grad_norms,int(w/2),mode='edge'),w)\n",
    "    seaborn.lineplot(x=list(range(len(mvavg))),y=mvavg,label=name,color=sc.pl.palettes.godsnot_102[i%102],ax=ax,linewidth = 1.)\n",
    "    #seaborn.lineplot(grad_norms, label=name,color=sc.pl.palettes.godsnot_102[i%102],ax=ax,linewidth = 0.5)\n",
    "    #seaborn.scatterplot(x=list(range(len(grad_norms))),y=grad_norms, label=name,color=sc.pl.palettes.godsnot_102[i%102],ax=ax,markers='o')\n",
    "plt.xlabel(\"iters\")\n",
    "plt.ylabel(\"gradient norm\")\n",
    "plt.yscale(\"log\")\n",
    "#plt.legend(loc=\"best\")\n",
    "ax.legend(loc='center left', bbox_to_anchor=(1, 0.5))\n",
    "plt.title(\"Gradient norms during SVI\");\n"
   ]
  },
  {
   "cell_type": "code",
   "execution_count": null,
   "id": "956c8f57-be75-45f4-9ebb-af01884534e1",
   "metadata": {},
   "outputs": [],
   "source": [
    "antipode_model.adata_manager.adata.uns['param_store']=param_store_to_numpy()"
   ]
  },
  {
   "cell_type": "code",
   "execution_count": null,
   "id": "0cb7e5d1-a897-46d2-b57d-20cce7ec10be",
   "metadata": {},
   "outputs": [],
   "source": [
    "plot_gmm_heatmaps(antipode_model)"
   ]
  },
  {
   "cell_type": "code",
   "execution_count": null,
   "id": "aabad8ef-dd1b-4559-87f4-6dc3a4dc0eb0",
   "metadata": {},
   "outputs": [],
   "source": [
    "plot_tree_edge_weights(antipode_model)"
   ]
  },
  {
   "cell_type": "code",
   "execution_count": null,
   "id": "465e5e6b-dd7d-4833-bc2f-b405ea8a5a66",
   "metadata": {},
   "outputs": [],
   "source": [
    "plot_d_hists(antipode_model)"
   ]
  },
  {
   "cell_type": "code",
   "execution_count": null,
   "id": "39c6dc6e-3eee-4d59-aa2f-9b6852e61de0",
   "metadata": {},
   "outputs": [],
   "source": [
    "# Put the neural networks in evaluation mode (needed because of batch norm)\n",
    "antipode_model.to('cpu')\n",
    "antipode_model.eval()\n",
    "antipode_outs=get_antipode_outputs(antipode_model,batch_size=2048,device='cuda')"
   ]
  },
  {
   "cell_type": "code",
   "execution_count": null,
   "id": "3d074a8a-70e6-424d-bece-e7197ad9adac",
   "metadata": {},
   "outputs": [],
   "source": [
    "clusternames=[str(i) for i in range(antipode_model.num_latent)]\n",
    "\n",
    "adata.obs['max_component']=np.array(clusternames)[antipode_outs[0][0].argmax(1)]\n",
    "\n",
    "adata.obsm[\"X_umap\"]=adata.obsm[\"X_original_umap\"]\n",
    "sc.pl.umap(adata,color=['max_component'],legend_loc=\"on data\",palette=sc.pl.palettes.godsnot_102)\n",
    "seaborn.clustermap(np.corrcoef(antipode_outs[0][0].T))"
   ]
  },
  {
   "cell_type": "code",
   "execution_count": null,
   "id": "bfe575bc-ac6c-4c7c-8eb9-11239ab058d4",
   "metadata": {},
   "outputs": [],
   "source": [
    "taxon=antipode_outs[1][0]\n",
    "\n",
    "nottree_levels = [taxon[..., antipode_model.level_indices[i]:antipode_model.level_indices[i + 1]]\n",
    "          for i in range(len(antipode_model.level_sizes))]\n",
    "\n",
    "for i, level in enumerate(nottree_levels):\n",
    "    max_probs = level.max(axis=1)\n",
    "    # Assign argmax if max probability > 0.5, else assign empty string\n",
    "    adata.obs['level_' + str(i)] = np.where(max_probs > 0.5, level.argmax(axis=1).astype(str), '')\n",
    "\n",
    "# Concatenate the nottree_levels to form the cluster label\n",
    "adata.obs['antipode_model_cluster'] = adata.obs.apply(lambda x: '_'.join([x['level_' + str(i)] for i in range(len(nottree_levels))]), axis=1)\n",
    "\n",
    "level_edges=[scipy.special.softmax(adata.uns['param_store']['edges_'+str(i)]) for i in range(len(antipode_model.level_sizes)-1)]\n",
    "levels=antipode_model.tree_convergence_bottom_up.just_propagate(scipy.special.softmax(taxon[...,-antipode_model.level_sizes[-1]:],-1),level_edges,s=torch.ones(1))\n",
    "for i in range(len(levels)):\n",
    "    adata.obs['prop_level_'+str(i)]=levels[i].argmax(1)\n",
    "    adata.obs['prop_level_'+str(i)]=adata.obs['level_'+str(i)].astype(str)\n",
    "\n",
    "prop_taxon=np.concatenate(levels,axis=-1)\n",
    "adata.obs['prop_antipode_model_cluster'] = adata.obs.apply(lambda x: '_'.join([x['level_' + str(i)] for i in range(len(levels))]), axis=1)\n",
    "\n",
    "sc.pl.umap(adata,color=[x for x in adata.obs.columns if 'level' in x]+['antipode_model_cluster','prop_antipode_model_cluster'],use_raw=False,legend_loc=None,palette=sc.pl.palettes.godsnot_102)\n",
    "\n",
    "seaborn.clustermap(prop_taxon[:10000,:],row_cluster=False)"
   ]
  },
  {
   "cell_type": "code",
   "execution_count": null,
   "id": "c4f607d2-fa52-4395-91c6-48a1a942c4bb",
   "metadata": {
    "scrolled": true,
    "tags": []
   },
   "outputs": [],
   "source": [
    "adata.obsm['X_antipode_model']=antipode_outs[0][0]\n",
    "adata.obs['psi']=antipode_outs[1][1]\n",
    "random_choice=np.random.choice(adata.obs.index,size=10000,replace=False)\n",
    "random_choice=np.where(adata.obs.index.isin(random_choice))[0]\n",
    "xdata=adata[random_choice,:].to_memory().copy()\n",
    "sc.pp.neighbors(xdata,n_neighbors=20, use_rep=\"X_antipode_model\")\n",
    "sc.tl.umap(xdata)\n"
   ]
  },
  {
   "cell_type": "code",
   "execution_count": null,
   "id": "83d51319-cf00-4627-a1f1-da3e6c5e6fea",
   "metadata": {},
   "outputs": [],
   "source": [
    "sc.pl.umap(xdata,color=['general_region','leiden','species'],use_raw=False,legend_loc='on data',palette=sc.pl.palettes.godsnot_102)\n",
    "sc.pl.umap(xdata,color=['psi'],use_raw=False,legend_loc='on data',cmap='coolwarm')\n",
    "sc.pl.umap(xdata,color=[x for x in adata.obs.columns if 'level' in x]+['antipode_model_cluster','prop_antipode_model_cluster'],use_raw=False,legend_loc=None,palette=sc.pl.palettes.godsnot_102)"
   ]
  },
  {
   "cell_type": "code",
   "execution_count": null,
   "id": "329bc6a5-ab55-4b4c-9006-c15a3417a523",
   "metadata": {},
   "outputs": [],
   "source": [
    "\n",
    "xdata.X=xdata.raw.X[:,xdata.raw.var.index.isin(xdata.var.index)]\n",
    "sc.pp.normalize_per_cell(xdata)\n",
    "sc.pp.log1p(xdata)\n",
    "sc.pp.scale(xdata,max_value=10)\n",
    "sc.pl.umap(xdata,color=['GBX2','EOMES','SIX3','OTX2','FOXG1','RBFOX3','TH','PDGFRA','AQP4','FOXJ1','AIF1','TTR','MOG','COL1A2','CD34','COL4A1','NPY','NKX2-1','FOXP2','SATB2','RORB','FEZF2','EMX1'],use_raw=False,cmap='Purples')\n",
    "sc.pl.umap(xdata,color=['DLX2','PROX1','SCGN','TSHZ1','MEIS2','NKX2-1','LHX6','CRABP1','TSHZ1','FOXG1','PDGFRA','AIF1','AQP4','EDNRB','FOXJ1','CD34','MKI67'],cmap='Purples',use_raw=False)\n",
    "sc.pl.umap(xdata,color=['RPL7','RPS17','RPL13A','MEF2C'],cmap='Purples',use_raw=False)\n"
   ]
  },
  {
   "cell_type": "code",
   "execution_count": null,
   "id": "7ce6fb80-86f0-4342-8b3d-a956684ad564",
   "metadata": {},
   "outputs": [],
   "source": [
    "kmeans = sklearn.cluster.MiniBatchKMeans(n_clusters=antipode_model.level_sizes[-1],init='k-means++',max_iter=1000,reassignment_ratio=0.001,n_init=100,random_state=0).fit(adata.obsm['X_antipode_model'])\n",
    "adata.obs['kmeans']=kmeans.labels_\n",
    "adata.obs['kmeans']=adata.obs['kmeans'].astype(str)\n",
    "sc.pl.umap(adata,color=['kmeans','leiden'],legend_loc=\"on data\",palette=sc.pl.palettes.godsnot_102)"
   ]
  },
  {
   "cell_type": "code",
   "execution_count": null,
   "id": "4ab907ae-2673-4fb7-bf70-6a68744ea6ae",
   "metadata": {},
   "outputs": [],
   "source": [
    "supervised_fields={'s':('layers','spliced'),\n",
    "'species_ind':('obs','species'),\n",
    "'batch_ind':('obs','batch_name'),\n",
    "'taxon':('obsm','kmeans_onehot')}\n",
    "adata.obsm['kmeans_onehot']=numpy_onehot(adata.obs['kmeans'].cat.codes,num_classes=antipode_model.level_sizes[-1]) #yoh=yoh+1e-10;yoh=oh/oh.sum(-1).reshape(-1,1)#for \n",
    "antipode_model.adata_manager.register_new_fields([make_field('taxon',('obsm','kmeans_onehot'))])\n",
    "\n",
    "supervised_field_types={\"s\":np.float32,\"batch_ind\":np.int64,\"species_ind\":np.int64,\"taxon\":np.float32}\n",
    "class_dataloader=scvi.dataloaders.AnnDataLoader(antipode_model.adata_manager,batch_size=32,drop_last=True,shuffle=True,data_and_attributes=supervised_field_types)#supervised_field_types for supervised step \n",
    "\n",
    "#Also need to reset SVI\n",
    "scheduler =pyro.optim.ClippedAdam({'lr':0.001,'lrd':(1-(7e-6))})\n",
    "#scheduler=pyro.optim.OneCycleLR({'max_lr':0.001,'total_steps':max_steps,'div_factor':100,'optim_args':{},'optimizer':torch.optim.Adam})\n",
    "elbo = pyro.infer.JitTrace_ELBO(num_particles=1,strict_enumeration_warning=False)\n",
    "svi = SVI(antipode_model.model, antipode_model.guide, scheduler, elbo)\n",
    "\n",
    "steps=0\n",
    "max_steps=50000\n"
   ]
  },
  {
   "cell_type": "code",
   "execution_count": null,
   "id": "82b813d0-9dd1-4eb4-953d-434b882a47f5",
   "metadata": {},
   "outputs": [],
   "source": [
    "next(iter(class_dataloader))"
   ]
  },
  {
   "cell_type": "code",
   "execution_count": null,
   "id": "619cbf20-8a85-4b83-ad51-eedd3ec55e99",
   "metadata": {},
   "outputs": [],
   "source": [
    "device='cuda'\n",
    "antipode_model.train()\n",
    "\n",
    "antipode_model=antipode_model.to(device)\n",
    "antipode_model.set_approx(False)#Approx doesn't work very well for integration\n",
    "loss_tracker=[]\n",
    "#for steps in range(max_steps):\n",
    "pbar = tqdm.tqdm(total=max_steps, position=0)\n",
    "done=False\n",
    "while steps < max_steps:\n",
    "    for x in class_dataloader:\n",
    "        x['step']=torch.ones(1).to(device)*steps\n",
    "        x=[x[k].to(device) if k in x.keys() else torch.zeros(1) for k in antipode_model.args]\n",
    "        loss=svi.step(*x)\n",
    "        steps+=1\n",
    "        if steps<max_steps-1:\n",
    "            #scheduler.step()\n",
    "            pass\n",
    "        else:\n",
    "            break\n",
    "        pbar.update(1)\n",
    "        loss_tracker.append(loss)\n",
    "        if not done:\n",
    "            done=True\n",
    "            print('grad tracking')\n",
    "            gradient_norms = defaultdict(list)\n",
    "            for name, value in pyro.get_param_store().named_parameters():\n",
    "                value.register_hook(\n",
    "                    lambda g, name=name: gradient_norms[name].append(g.norm().item())\n",
    "                )\n",
    "        if steps%print_every == 0:\n",
    "            # Tell the scheduler we've done one epoch.\n",
    "            pbar.write(\"[Step %02d]  Loss: %.5f\" % (steps, np.mean(loss_tracker[-print_every:])))\n",
    "\n",
    "pbar.close()\n",
    "allDone()\n",
    "print(\"Finished training!\")"
   ]
  },
  {
   "cell_type": "code",
   "execution_count": null,
   "id": "342a7beb-f6ca-4029-870a-b328616afe25",
   "metadata": {
    "scrolled": true
   },
   "outputs": [],
   "source": [
    "seaborn.scatterplot(x=list(range(len(loss_tracker))),y=loss_tracker,alpha=0.5,s=2)\n",
    "w=300\n",
    "mvavg=moving_average(np.pad(loss_tracker,int(w/2),mode='edge'),w)\n",
    "seaborn.lineplot(x=list(range(len(mvavg))),y=mvavg,color='coral')\n",
    "\n"
   ]
  },
  {
   "cell_type": "code",
   "execution_count": null,
   "id": "2ed7bc76-12b7-4370-8e3c-a7bf89fd8a61",
   "metadata": {},
   "outputs": [],
   "source": [
    "plt.figure(figsize=(20, 5), dpi=100).set_facecolor(\"white\")\n",
    "ax = plt.subplot(111)\n",
    "\n",
    "for i,(name, grad_norms) in enumerate(gradient_norms.items()):\n",
    "    mvavg=moving_average(np.pad(grad_norms,int(w/2),mode='edge'),w)\n",
    "    seaborn.lineplot(x=list(range(len(mvavg))),y=mvavg,label=name,color=sc.pl.palettes.godsnot_102[i%102],ax=ax,linewidth = 1.)\n",
    "    #seaborn.lineplot(grad_norms, label=name,color=sc.pl.palettes.godsnot_102[i%102],ax=ax,linewidth = 0.5)\n",
    "    #seaborn.scatterplot(x=list(range(len(grad_norms))),y=grad_norms, label=name,color=sc.pl.palettes.godsnot_102[i%102],ax=ax,markers='o')\n",
    "plt.xlabel(\"iters\")\n",
    "plt.ylabel(\"gradient norm\")\n",
    "plt.yscale(\"log\")\n",
    "#plt.legend(loc=\"best\")\n",
    "ax.legend(loc='center left', bbox_to_anchor=(1, 0.5))\n",
    "plt.title(\"Gradient norms during SVI\");\n"
   ]
  },
  {
   "cell_type": "code",
   "execution_count": null,
   "id": "f99c45b4-135a-4d07-8e37-7ac1893a5ce1",
   "metadata": {},
   "outputs": [],
   "source": [
    "antipode_model.adata_manager.adata.uns['param_store']=param_store_to_numpy()"
   ]
  },
  {
   "cell_type": "code",
   "execution_count": null,
   "id": "07f4ee5d-0874-4f08-a6d3-39e0fb90c09b",
   "metadata": {},
   "outputs": [],
   "source": [
    "plot_gmm_heatmaps(antipode_model)"
   ]
  },
  {
   "cell_type": "code",
   "execution_count": null,
   "id": "c7c082f0-3350-433e-9f88-bf8a8a11258d",
   "metadata": {},
   "outputs": [],
   "source": [
    "plot_tree_edge_weights(antipode_model)"
   ]
  },
  {
   "cell_type": "code",
   "execution_count": null,
   "id": "1957fca2-e078-4705-8a30-86fe4f573213",
   "metadata": {},
   "outputs": [],
   "source": [
    "plot_d_hists(antipode_model)"
   ]
  },
  {
   "cell_type": "code",
   "execution_count": null,
   "id": "8d40b57c-bb5a-4551-8077-f15707e3d20c",
   "metadata": {},
   "outputs": [],
   "source": [
    "# Put the neural networks in evaluation mode (needed because of batch norm)\n",
    "antipode_model.to('cpu')\n",
    "antipode_model.eval()\n",
    "antipode_outs=get_antipode_outputs(antipode_model,batch_size=2048,device='cuda')"
   ]
  },
  {
   "cell_type": "code",
   "execution_count": null,
   "id": "d32ca5b2-902b-4f2b-b5f8-1bba264da209",
   "metadata": {},
   "outputs": [],
   "source": [
    "clusternames=[str(i) for i in range(antipode_model.num_latent)]\n",
    "\n",
    "adata.obs['max_component']=np.array(clusternames)[antipode_outs[0][0].argmax(1)]\n",
    "\n",
    "adata.obsm[\"X_umap\"]=adata.obsm[\"X_original_umap\"]\n",
    "sc.pl.umap(adata,color=['max_component'],legend_loc=\"on data\",palette=sc.pl.palettes.godsnot_102)\n",
    "seaborn.clustermap(np.corrcoef(antipode_outs[0][0].T))"
   ]
  },
  {
   "cell_type": "code",
   "execution_count": null,
   "id": "720304ec-d3ae-4957-b431-d01240bf8962",
   "metadata": {},
   "outputs": [],
   "source": [
    "taxon=antipode_outs[1][0]\n",
    "\n",
    "nottree_levels = [taxon[..., antipode_model.level_indices[i]:antipode_model.level_indices[i + 1]]\n",
    "          for i in range(len(antipode_model.level_sizes))]\n",
    "\n",
    "for i, level in enumerate(nottree_levels):\n",
    "    max_probs = level.max(axis=1)\n",
    "    # Assign argmax if max probability > 0.5, else assign empty string\n",
    "    adata.obs['level_' + str(i)] = np.where(max_probs > 0.5, level.argmax(axis=1).astype(str), '')\n",
    "\n",
    "# Concatenate the nottree_levels to form the cluster label\n",
    "adata.obs['antipode_model_cluster'] = adata.obs.apply(lambda x: '_'.join([x['level_' + str(i)] for i in range(len(nottree_levels))]), axis=1)\n",
    "\n",
    "level_edges=[scipy.special.softmax(adata.uns['param_store']['edges_'+str(i)]) for i in range(len(antipode_model.level_sizes)-1)]\n",
    "levels=antipode_model.tree_convergence_bottom_up.just_propagate(scipy.special.softmax(taxon[...,-antipode_model.level_sizes[-1]:],-1),level_edges,s=torch.ones(1))\n",
    "for i in range(len(levels)):\n",
    "    adata.obs['prop_level_'+str(i)]=levels[i].argmax(1)\n",
    "    adata.obs['prop_level_'+str(i)]=adata.obs['level_'+str(i)].astype(str)\n",
    "\n",
    "prop_taxon=np.concatenate(levels,axis=-1)\n",
    "adata.obs['prop_antipode_model_cluster'] = adata.obs.apply(lambda x: '_'.join([x['level_' + str(i)] for i in range(len(levels))]), axis=1)\n",
    "\n",
    "sc.pl.umap(adata,color=[x for x in adata.obs.columns if 'level' in x]+['antipode_model_cluster','prop_antipode_model_cluster'],use_raw=False,legend_loc=None,palette=sc.pl.palettes.godsnot_102)\n",
    "\n",
    "seaborn.clustermap(prop_taxon[:10000,:],row_cluster=False)"
   ]
  },
  {
   "cell_type": "code",
   "execution_count": null,
   "id": "1d7288c2-b603-465a-81fc-ba3631a0945f",
   "metadata": {},
   "outputs": [],
   "source": [
    "sc.pl.umap(adata,color=[x for x in adata.obs.columns if 'level' in x]+['antipode_model_cluster','prop_antipode_model_cluster','kmeans'],use_raw=False,legend_loc='on data',palette=sc.pl.palettes.godsnot_102)\n"
   ]
  },
  {
   "cell_type": "code",
   "execution_count": null,
   "id": "9a1c9621-24dd-4439-9413-031f40df3361",
   "metadata": {
    "scrolled": true,
    "tags": []
   },
   "outputs": [],
   "source": [
    "adata.obsm['X_antipode_model']=antipode_outs[0][0]\n",
    "adata.obs['psi']=antipode_outs[1][1]\n",
    "random_choice=np.random.choice(adata.obs.index,size=10000,replace=False)\n",
    "random_choice=np.where(adata.obs.index.isin(random_choice))[0]\n",
    "xdata=adata[random_choice,:].to_memory().copy()\n",
    "sc.pp.neighbors(xdata,n_neighbors=20, use_rep=\"X_antipode_model\")\n",
    "sc.tl.umap(xdata)\n"
   ]
  },
  {
   "cell_type": "code",
   "execution_count": null,
   "id": "83f948f8-725c-4645-86c4-4e7b86aab40a",
   "metadata": {},
   "outputs": [],
   "source": [
    "sc.pl.umap(xdata,color=['general_region','leiden','species'],use_raw=False,legend_loc='on data',palette=sc.pl.palettes.godsnot_102)\n",
    "sc.pl.umap(xdata,color=['psi'],use_raw=False,legend_loc='on data',cmap='coolwarm')\n",
    "sc.pl.umap(xdata,color=[x for x in adata.obs.columns if 'level' in x]+['antipode_model_cluster','prop_antipode_model_cluster'],use_raw=False,legend_loc=None,palette=sc.pl.palettes.godsnot_102)"
   ]
  },
  {
   "cell_type": "code",
   "execution_count": null,
   "id": "853886ac-7d8c-4313-800a-2e9e1c5a4eb0",
   "metadata": {},
   "outputs": [],
   "source": [
    "\n",
    "xdata.X=xdata.raw.X[:,xdata.raw.var.index.isin(xdata.var.index)]\n",
    "sc.pp.normalize_per_cell(xdata)\n",
    "sc.pp.log1p(xdata)\n",
    "sc.pp.scale(xdata,max_value=10)\n",
    "sc.pl.umap(xdata,color=['GBX2','EOMES','SIX3','OTX2','FOXG1','RBFOX3','TH','PDGFRA','AQP4','FOXJ1','AIF1','TTR','MOG','COL1A2','CD34','COL4A1','NPY','NKX2-1','FOXP2','SATB2','RORB','FEZF2','EMX1'],use_raw=False,cmap='Purples')\n",
    "sc.pl.umap(xdata,color=['DLX2','PROX1','SCGN','TSHZ1','MEIS2','NKX2-1','LHX6','CRABP1','TSHZ1','FOXG1','PDGFRA','AIF1','AQP4','EDNRB','FOXJ1','CD34','MKI67'],cmap='Purples',use_raw=False)\n",
    "sc.pl.umap(xdata,color=['RPL7','RPS17','RPL13A','MEF2C'],cmap='Purples',use_raw=False)\n"
   ]
  },
  {
   "cell_type": "code",
   "execution_count": null,
   "id": "759a6729-8176-4a02-bb1a-ab52999aadcd",
   "metadata": {},
   "outputs": [],
   "source": []
  },
  {
   "cell_type": "code",
   "execution_count": null,
   "id": "6a818ae6-ed92-413b-9fe1-49ea0b08d373",
   "metadata": {},
   "outputs": [],
   "source": []
  },
  {
   "cell_type": "code",
   "execution_count": null,
   "id": "ffe015e1-def1-4761-95bb-b7dadd24dc62",
   "metadata": {},
   "outputs": [],
   "source": []
  },
  {
   "cell_type": "code",
   "execution_count": null,
   "id": "16b0233c-f123-4f89-a41e-58f323279bc0",
   "metadata": {},
   "outputs": [],
   "source": []
  },
  {
   "cell_type": "code",
   "execution_count": null,
   "id": "63101e0f-f112-4856-8552-4f6c86880226",
   "metadata": {},
   "outputs": [],
   "source": []
  },
  {
   "cell_type": "code",
   "execution_count": null,
   "id": "ee5e02e4-0825-4197-a87d-0cbfda5500bd",
   "metadata": {},
   "outputs": [],
   "source": []
  },
  {
   "cell_type": "code",
   "execution_count": null,
   "id": "fc489322-1098-4821-90ec-9a5a4bcca221",
   "metadata": {},
   "outputs": [],
   "source": []
  }
 ],
 "metadata": {
  "kernelspec": {
   "display_name": "pyro",
   "language": "python",
   "name": "pyro"
  },
  "language_info": {
   "codemirror_mode": {
    "name": "ipython",
    "version": 3
   },
   "file_extension": ".py",
   "mimetype": "text/x-python",
   "name": "python",
   "nbconvert_exporter": "python",
   "pygments_lexer": "ipython3",
   "version": "3.11.5"
  }
 },
 "nbformat": 4,
 "nbformat_minor": 5
}
