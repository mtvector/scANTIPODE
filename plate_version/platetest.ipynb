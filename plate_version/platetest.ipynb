{
 "cells": [
  {
   "cell_type": "code",
   "execution_count": 2,
   "id": "fb3cc457-1056-4090-a73b-5b4c50732166",
   "metadata": {},
   "outputs": [
    {
     "name": "stdout",
     "output_type": "stream",
     "text": [
      "3047664.5\n",
      "2867665.75\n",
      "2688192.0\n",
      "2508746.25\n",
      "2330023.75\n",
      "2151132.0\n",
      "1972134.0\n",
      "1793338.0\n",
      "1614971.125\n",
      "1436625.25\n"
     ]
    },
    {
     "name": "stderr",
     "output_type": "stream",
     "text": [
      "/allen/programs/celltypes/workgroups/rnaseqanalysis/EvoGen/Team/Matthew/utils/miniconda3/envs/pyro/lib/python3.11/site-packages/tqdm/auto.py:21: TqdmWarning: IProgress not found. Please update jupyter and ipywidgets. See https://ipywidgets.readthedocs.io/en/stable/user_install.html\n",
      "  from .autonotebook import tqdm as notebook_tqdm\n"
     ]
    }
   ],
   "source": [
    "import pyro\n",
    "from pyro import poutine\n",
    "import pyro.distributions as dist\n",
    "import torch\n",
    "\n",
    "outer_plate=pyro.plate(5)\n",
    "\n",
    "def model(xinds):\n",
    "    scale_tensor=torch.bincount(xinds, minlength=5).view(-1,1,1,)+1e-10\n",
    "    with poutine.scale(scale=scale_tensor):\n",
    "        with outer_plate:\n",
    "            with pyro.plate(6):\n",
    "                with pyro.plate(1000):\n",
    "                    pyro.sample('param_with_cost_sample',dist.Laplace(torch.zeros(5,6,1000),torch.ones(5,6,1000)))\n",
    "\n",
    "\n",
    "def guide(xinds):\n",
    "    scale_tensor=torch.bincount(xinds, minlength=5).view(-1,1,1,)+1e-10\n",
    "    pwc=pyro.param('param_with_cost',torch.ones(5,6,1000))\n",
    "    with poutine.scale(scale=scale_tensor):\n",
    "        with outer_plate:\n",
    "            with pyro.plate(6):\n",
    "                with pyro.plate(1000):\n",
    "                    pyro.sample('param_with_cost_sample',dist.Delta(pwc))\n",
    "\n",
    "pyro.clear_param_store()\n",
    "optim = pyro.optim.Adam({\"lr\": 0.1})\n",
    "elbo = pyro.infer.Trace_ELBO(max_plate_nesting=3)\n",
    "svi = pyro.infer.SVI(model, guide, optim, loss=elbo)\n",
    "for i in range(10):\n",
    "    xinds=torch.randint(0, 4, (300,))\n",
    "    loss = svi.step(xinds)\n",
    "    print(loss)\n"
   ]
  },
  {
   "cell_type": "code",
   "execution_count": 23,
   "id": "e9e58f6e-437e-4a9f-9618-8be3d267268c",
   "metadata": {},
   "outputs": [
    {
     "data": {
      "text/plain": [
       "torch.Size([1, 1, 1, 1, 1, 5, 6])"
      ]
     },
     "execution_count": 23,
     "metadata": {},
     "output_type": "execute_result"
    }
   ],
   "source": [
    "reshape=[]\n",
    "torch.rand(5,6)[indexing_none_list(5)].shape"
   ]
  },
  {
   "cell_type": "code",
   "execution_count": 69,
   "id": "7deda5e9-7315-4f95-8d9f-82bb73828f5f",
   "metadata": {},
   "outputs": [],
   "source": [
    "a=torch.rand(32,12)\n",
    "b=torch.rand(32,53)\n",
    "a=a/a.sum(1,keepdim=True)\n",
    "#a=a/a.sum(0,keepdim=True)\n",
    "b=b/b.sum(1,keepdim=True)\n",
    "#b=b/b.sum(0,keepdim=True)\n",
    "\n",
    "c=torch.einsum('bi,bj->ij',a,b)"
   ]
  },
  {
   "cell_type": "code",
   "execution_count": 70,
   "id": "4c5d5439-fcf7-4ebd-9eed-6e25728f5681",
   "metadata": {},
   "outputs": [
    {
     "data": {
      "text/plain": [
       "tensor([2.4879, 2.4508, 3.1876, 2.5235, 2.5659, 2.5986, 2.9209, 2.5621, 2.8103,\n",
       "        3.0168, 2.2733, 2.6024])"
      ]
     },
     "execution_count": 70,
     "metadata": {},
     "output_type": "execute_result"
    }
   ],
   "source": [
    "a.sum(0)"
   ]
  },
  {
   "cell_type": "code",
   "execution_count": 71,
   "id": "7dadc77e-5374-4792-a9bf-dcd7e9ccbc37",
   "metadata": {},
   "outputs": [
    {
     "data": {
      "text/plain": [
       "tensor([1.0000, 1.0000, 1.0000, 1.0000, 1.0000, 1.0000, 1.0000, 1.0000, 1.0000,\n",
       "        1.0000, 1.0000, 1.0000, 1.0000, 1.0000, 1.0000, 1.0000, 1.0000, 1.0000,\n",
       "        1.0000, 1.0000, 1.0000, 1.0000, 1.0000, 1.0000, 1.0000, 1.0000, 1.0000,\n",
       "        1.0000, 1.0000, 1.0000, 1.0000, 1.0000])"
      ]
     },
     "execution_count": 71,
     "metadata": {},
     "output_type": "execute_result"
    }
   ],
   "source": [
    "b.sum(1)"
   ]
  },
  {
   "cell_type": "code",
   "execution_count": 72,
   "id": "ac8c3d2d-617e-4572-867c-b3bc0a974680",
   "metadata": {},
   "outputs": [
    {
     "data": {
      "text/plain": [
       "tensor([0.6927, 0.7005, 0.5684, 0.4993, 0.6699, 0.5772, 0.6413, 0.6483, 0.5704,\n",
       "        0.6996, 0.7476, 0.6680, 0.6718, 0.6744, 0.4849, 0.6031, 0.6858, 0.5733,\n",
       "        0.4940, 0.5907, 0.5399, 0.5576, 0.6254, 0.5730, 0.6190, 0.5008, 0.6357,\n",
       "        0.5978, 0.5397, 0.5728, 0.5799, 0.5140, 0.5414, 0.5751, 0.5542, 0.5984,\n",
       "        0.6059, 0.5860, 0.4915, 0.5808, 0.6415, 0.7183, 0.5690, 0.6637, 0.6801,\n",
       "        0.6213, 0.6547, 0.6189, 0.4894, 0.6280, 0.5285, 0.6569, 0.6796])"
      ]
     },
     "execution_count": 72,
     "metadata": {},
     "output_type": "execute_result"
    }
   ],
   "source": [
    "c.sum(0)"
   ]
  },
  {
   "cell_type": "code",
   "execution_count": 73,
   "id": "b1be4b47-ba65-4701-ba9e-b0d075538568",
   "metadata": {},
   "outputs": [
    {
     "data": {
      "text/plain": [
       "tensor([2.4879, 2.4508, 3.1876, 2.5235, 2.5659, 2.5986, 2.9209, 2.5621, 2.8103,\n",
       "        3.0168, 2.2733, 2.6024])"
      ]
     },
     "execution_count": 73,
     "metadata": {},
     "output_type": "execute_result"
    }
   ],
   "source": [
    "c.sum(1)"
   ]
  },
  {
   "cell_type": "code",
   "execution_count": 74,
   "id": "67b51dfe-2461-4c17-8198-8da98314c820",
   "metadata": {},
   "outputs": [
    {
     "data": {
      "text/plain": [
       "tensor(32.)"
      ]
     },
     "execution_count": 74,
     "metadata": {},
     "output_type": "execute_result"
    }
   ],
   "source": [
    "c.sum()"
   ]
  },
  {
   "cell_type": "code",
   "execution_count": null,
   "id": "e33eca59-a373-4b12-b936-16058b93b871",
   "metadata": {},
   "outputs": [],
   "source": []
  },
  {
   "cell_type": "code",
   "execution_count": 61,
   "id": "e20bc0c9-69c3-4797-8d58-7f9f61cc52e7",
   "metadata": {},
   "outputs": [
    {
     "data": {
      "text/plain": [
       "636"
      ]
     },
     "execution_count": 61,
     "metadata": {},
     "output_type": "execute_result"
    }
   ],
   "source": [
    "import numpy as np\n",
    "np.prod([a.shape[-1],b.shape[-1]])"
   ]
  },
  {
   "cell_type": "code",
   "execution_count": 21,
   "id": "f1c29e55-9fb6-4e01-8403-c8d20bf5a1a8",
   "metadata": {},
   "outputs": [
    {
     "data": {
      "text/plain": [
       "<Axes: >"
      ]
     },
     "execution_count": 21,
     "metadata": {},
     "output_type": "execute_result"
    },
    {
     "data": {
      "image/png": "[encoded data removed]",
      "text/plain": [
       "<Figure size 640x480 with 2 Axes>"
      ]
     },
     "metadata": {},
     "output_type": "display_data"
    }
   ],
   "source": [
    "import seaborn\n",
    "seaborn.heatmap(torch.einsum('bi,bj->ij',a,b))"
   ]
  },
  {
   "cell_type": "code",
   "execution_count": null,
   "id": "d8081685-0ced-4df8-872b-b65dcb12e1a9",
   "metadata": {},
   "outputs": [],
   "source": []
  }
 ],
 "metadata": {
  "kernelspec": {
   "display_name": "pyro",
   "language": "python",
   "name": "pyro"
  },
  "language_info": {
   "codemirror_mode": {
    "name": "ipython",
    "version": 3
   },
   "file_extension": ".py",
   "mimetype": "text/x-python",
   "name": "python",
   "nbconvert_exporter": "python",
   "pygments_lexer": "ipython3",
   "version": "3.11.5"
  }
 },
 "nbformat": 4,
 "nbformat_minor": 5
}
