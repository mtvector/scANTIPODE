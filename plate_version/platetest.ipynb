{
 "cells": [
  {
   "cell_type": "code",
   "execution_count": 1,
   "id": "fb3cc457-1056-4090-a73b-5b4c50732166",
   "metadata": {},
   "outputs": [
    {
     "name": "stderr",
     "output_type": "stream",
     "text": [
      "/allen/programs/celltypes/workgroups/rnaseqanalysis/EvoGen/Team/Matthew/utils/miniconda3/envs/pyro/lib/python3.11/site-packages/tqdm/auto.py:21: TqdmWarning: IProgress not found. Please update jupyter and ipywidgets. See https://ipywidgets.readthedocs.io/en/stable/user_install.html\n",
      "  from .autonotebook import tqdm as notebook_tqdm\n"
     ]
    },
    {
     "name": "stdout",
     "output_type": "stream",
     "text": [
      "3047664.5\n",
      "2867664.25\n",
      "2688100.25\n",
      "2508629.75\n",
      "2329102.25\n",
      "2149821.75\n",
      "1970535.125\n",
      "1791202.875\n",
      "1612103.875\n",
      "1432832.75\n"
     ]
    }
   ],
   "source": [
    "import pyro\n",
    "from pyro import poutine\n",
    "import pyro.distributions as dist\n",
    "import torch\n",
    "\n",
    "outer_plate=pyro.plate(5)\n",
    "\n",
    "def model(xinds):\n",
    "    scale_tensor=torch.bincount(xinds, minlength=5).view(-1,1,1,)+1e-10\n",
    "    with poutine.scale(scale=scale_tensor):\n",
    "        with outer_plate:\n",
    "            with pyro.plate(6):\n",
    "                with pyro.plate(1000):\n",
    "                    pyro.sample('param_with_cost_sample',dist.Laplace(torch.zeros(5,6,1000),torch.ones(5,6,1000)))\n",
    "\n",
    "\n",
    "def guide(xinds):\n",
    "    scale_tensor=torch.bincount(xinds, minlength=5).view(-1,1,1,)+1e-10\n",
    "    pwc=pyro.param('param_with_cost',torch.ones(5,6,1000))\n",
    "    with poutine.scale(scale=scale_tensor):\n",
    "        with outer_plate:\n",
    "            with pyro.plate(6):\n",
    "                with pyro.plate(1000):\n",
    "                    pyro.sample('param_with_cost_sample',dist.Delta(pwc))\n",
    "\n",
    "pyro.clear_param_store()\n",
    "optim = pyro.optim.Adam({\"lr\": 0.1})\n",
    "elbo = pyro.infer.Trace_ELBO(max_plate_nesting=3)\n",
    "svi = pyro.infer.SVI(model, guide, optim, loss=elbo)\n",
    "for i in range(10):\n",
    "    xinds=torch.randint(0, 4, (300,))\n",
    "    loss = svi.step(xinds)\n",
    "    print(loss)\n"
   ]
  },
  {
   "cell_type": "code",
   "execution_count": 23,
   "id": "e9e58f6e-437e-4a9f-9618-8be3d267268c",
   "metadata": {},
   "outputs": [
    {
     "data": {
      "text/plain": [
       "torch.Size([1, 1, 1, 1, 1, 5, 6])"
      ]
     },
     "execution_count": 23,
     "metadata": {},
     "output_type": "execute_result"
    }
   ],
   "source": [
    "reshape=[]\n",
    "torch.rand(5,6)[indexing_none_list(5)].shape"
   ]
  },
  {
   "cell_type": "code",
   "execution_count": 20,
   "id": "7deda5e9-7315-4f95-8d9f-82bb73828f5f",
   "metadata": {},
   "outputs": [],
   "source": []
  },
  {
   "cell_type": "code",
   "execution_count": null,
   "id": "4c5d5439-fcf7-4ebd-9eed-6e25728f5681",
   "metadata": {},
   "outputs": [],
   "source": []
  }
 ],
 "metadata": {
  "kernelspec": {
   "display_name": "pyro",
   "language": "python",
   "name": "pyro"
  },
  "language_info": {
   "codemirror_mode": {
    "name": "ipython",
    "version": 3
   },
   "file_extension": ".py",
   "mimetype": "text/x-python",
   "name": "python",
   "nbconvert_exporter": "python",
   "pygments_lexer": "ipython3",
   "version": "3.11.5"
  }
 },
 "nbformat": 4,
 "nbformat_minor": 5
}
