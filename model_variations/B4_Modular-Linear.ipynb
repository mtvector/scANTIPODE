{
 "cells": [
  {
   "cell_type": "markdown",
   "id": "9ced6041-f38e-4e8d-94d6-008da3ab8824",
   "metadata": {},
   "source": []
  },
  {
   "cell_type": "code",
   "execution_count": null,
   "id": "3ffe491f-acab-469c-90c9-4fb859e695fd",
   "metadata": {
    "tags": []
   },
   "outputs": [],
   "source": [
    "# various import statements\n",
    "import numpy as np\n",
    "\n",
    "import torch\n",
    "import torch.nn as nn\n",
    "from torch.nn.functional import softplus, softmax\n",
    "from torch.distributions import constraints\n",
    "from torch.optim import Adam\n",
    "import seaborn\n",
    "import pyro\n",
    "import pyro.distributions as dist\n",
    "import pyro.poutine as poutine\n",
    "from pyro.distributions.util import broadcast_shape\n",
    "from pyro.optim import MultiStepLR\n",
    "from pyro.infer import SVI, config_enumerate, TraceEnum_ELBO\n",
    "from pyro.ops.indexing import Vindex\n",
    "import pyro.contrib\n",
    "import tqdm\n",
    "import math\n",
    "import matplotlib\n",
    "import matplotlib.pyplot as plt\n",
    "from matplotlib.patches import Patch\n",
    "foo='hello'\n",
    "bar='world'\n",
    "import os\n",
    "import sklearn\n",
    "from sklearn import cluster\n",
    "import pandas as pd\n",
    "import re\n",
    "import scanpy as sc\n",
    "print(f\"{foo=} {bar=}\")\n",
    "from torch import exp\n",
    "from IPython.display import Audio, display\n",
    "def allDone():\n",
    "    display(Audio(url='https://notification-sounds.com/soundsfiles/Meditation-bell-sound.mp3', autoplay=True))\n",
    "sc.settings.figdir=os.path.expanduser('~/WbFigures/SpeciesDivergenceNoScaling')\n",
    "    "
   ]
  },
  {
   "cell_type": "code",
   "execution_count": null,
   "id": "371c61df-51ad-4d4b-b5b6-39fd5d1e4b08",
   "metadata": {},
   "outputs": [],
   "source": [
    "import sys\n",
    "sys.path.append('/home/matthew.schmitz/Matthew/code/scANTIPODE/')\n",
    "import model_functions\n",
    "from model_functions import *\n",
    "import model_distributions\n",
    "from model_distributions import *\n",
    "import model_modules\n",
    "from model_modules import *\n",
    "\n",
    "import importlib\n",
    "model_functions=importlib.reload(model_functions)\n",
    "from model_functions import *"
   ]
  },
  {
   "cell_type": "code",
   "execution_count": null,
   "id": "fd652ce5-f98d-47af-8bfa-07623cf91a29",
   "metadata": {},
   "outputs": [],
   "source": [
    "smoke_test=False\n",
    "device = torch.device(\"cuda:0\" if torch.cuda.is_available() else \"cpu\")\n",
    "print(device)\n",
    "#device=\"cpu\"\n"
   ]
  },
  {
   "cell_type": "code",
   "execution_count": null,
   "id": "b55ede1a-5159-40ae-bb51-f03a129f7156",
   "metadata": {},
   "outputs": [],
   "source": [
    "#adata=sc.read(os.path.expanduser('/allen/programs/celltypes/workgroups/rnaseqanalysis/EvoGen/Team/Matthew/data/taxtest/HvQvM/HvQvM_900k_RPCA_clusters.h5ad'))\n",
    "adata=sc.read(os.path.expanduser('/allen/programs/celltypes/workgroups/rnaseqanalysis/EvoGen/Team/Matthew/data/taxtest/HvQvM/HvQvMall_part1.h5ad'))\n",
    "\n",
    "species_arg=adata.obs['species'].cat.codes\n",
    "species_values=torch.nn.functional.one_hot(torch.tensor(adata.obs['species'].cat.codes).long(),num_classes=len(adata.obs['species'].cat.categories)).float()\n",
    "\n",
    "adata.uns['batch_cats']=dict(zip([str(x) for x in adata.obs['batch_name'].cat.categories],[str(x) for x in sorted(set(adata.obs['batch_name'].cat.codes))]))\n",
    "batch_arg=adata.obs['batch_name'].replace(adata.uns['batch_cats']).astype(int)\n",
    "batch_values=torch.nn.functional.one_hot(torch.tensor(adata.obs['batch_name'].replace(adata.uns['batch_cats']).astype(int)).long(),\n",
    "                                         num_classes=len(adata.uns['batch_cats'].keys())).float()\n",
    "\n",
    "\n",
    "adata.X=adata.raw.X[:,adata.raw.var.index.isin(adata.var.index)]#.todense()\n",
    "#adata=adata[np.random.choice(adata.obs.index,100000,replace=False),:]\n",
    "#sc.pp.highly_variable_genes(adata,n_top_genes=5000,flavor=\"seurat_v3\",subset=True)\n",
    "\n",
    "adata=adata[~adata.obs.general_region.isin(['Cultured']),:]\n",
    "adata=adata[~adata.obs.batch_name.str.contains('P10'),:]\n",
    "#adata=adata[adata.obs['general_region'].isin(['bn','cp','ctx','ge']),:]\n",
    "\n",
    "adata.obs['species']=adata.obs['species'].astype('category')\n",
    "sc.pl.umap(adata,color=['species'])\n",
    "sc.pl.umap(adata,color=['leiden'],legend_loc=\"on data\")\n",
    "sc.pl.umap(adata,color='region')\n",
    "adata.obsm['X_original_umap']=adata.obsm['X_umap']\n",
    "adata.obs['n_counts']=adata.X.sum(1)\n"
   ]
  },
  {
   "cell_type": "code",
   "execution_count": null,
   "id": "6a5c7d12-7ce3-4205-ab08-a7addb04df86",
   "metadata": {},
   "outputs": [],
   "source": [
    "sc.pl.umap(adata,color='region')"
   ]
  },
  {
   "cell_type": "code",
   "execution_count": null,
   "id": "c7929264-dc71-442d-9b85-3830aadd8e75",
   "metadata": {},
   "outputs": [],
   "source": [
    "#adata.obs['batch_name']=adata.obs['batch_name'].astype(str)\n",
    "#adata.obs['batch_name']=adata.obs['batch_name'].astype('category')\n",
    "#adata.uns['batch_cats']=dict(zip([str(x) for x in adata.obs['batch_name'].cat.categories],[str(x) for x in sorted(set(adata.obs['batch_name'].cat.codes))]))"
   ]
  },
  {
   "cell_type": "code",
   "execution_count": null,
   "id": "3f9ec76d-7f19-4c03-9ba5-0bf0302c5f7a",
   "metadata": {},
   "outputs": [],
   "source": [
    "samplegroups={'FB':'vt',\n",
    "'bn':'vt',\n",
    "'ctx':'ctx',\n",
    "'cp':'vt',\n",
    "'de':'de',\n",
    "'ge':'vt',\n",
    "'h':'vt',\n",
    "'hb':'hb',\n",
    "'mb':'mb'}\n",
    "adata.obs['sample_region']=adata.obs['general_region'].replace(samplegroups)\n",
    "adata.obs['region_species']=adata.obs['sample_region'].astype(str)+'_'+adata.obs['species'].astype(str)\n"
   ]
  },
  {
   "cell_type": "code",
   "execution_count": null,
   "id": "2d2e46a8-2dea-4d0e-a13f-5e56c70cf28e",
   "metadata": {},
   "outputs": [],
   "source": [
    "#sc.pl.umap(adata,color='sample_region')"
   ]
  },
  {
   "cell_type": "code",
   "execution_count": null,
   "id": "afe1f2fa-8568-4bbb-8058-00b89552eb71",
   "metadata": {},
   "outputs": [],
   "source": [
    "adata.obs['general_region'].value_counts().plot.bar()"
   ]
  },
  {
   "cell_type": "code",
   "execution_count": null,
   "id": "223dde00-7ed3-494d-aede-966c0421cb82",
   "metadata": {},
   "outputs": [],
   "source": [
    "adata.obs['sample_region'].value_counts().plot.bar()"
   ]
  },
  {
   "cell_type": "code",
   "execution_count": null,
   "id": "2c65b732-09db-4086-8bb5-aa59197aa782",
   "metadata": {},
   "outputs": [],
   "source": [
    "adata.obs.groupby('species')['sample_region'].value_counts(normalize=True).unstack().T.plot.bar()"
   ]
  },
  {
   "cell_type": "code",
   "execution_count": null,
   "id": "f818810e-caec-4c4d-8e92-c810e0cc706e",
   "metadata": {},
   "outputs": [],
   "source": [
    "batch_values=torch.nn.functional.one_hot(torch.tensor(adata.obs['batch_name'].cat.codes).long(),num_classes=len(adata.obs['batch_name'].cat.categories)).float()\n",
    "adata.obs['batch_name']"
   ]
  },
  {
   "cell_type": "markdown",
   "id": "a384a7d4-6035-4885-8a99-3f6e938ecb3d",
   "metadata": {
    "tags": []
   },
   "source": [
    "# Put everything together"
   ]
  },
  {
   "cell_type": "code",
   "execution_count": null,
   "id": "5b4f3c79-3b87-4644-938d-26145649d4f6",
   "metadata": {},
   "outputs": [],
   "source": [
    "# Packages the antipode model and guide as a PyTorch nn.Module\n",
    "\n",
    "class ANTIPODE(nn.Module):\n",
    "    \"\"\"\n",
    "    scANTIPODE is a variational inference model that is developed for the analysis and \n",
    "    categorization of cell types across evolution based on single-cell data. \n",
    "\n",
    "    Parameters:\n",
    "    num_var (int): Number of variables (features) in the dataset.\n",
    "    l_loc (float): The location parameter for the length scale of the Gaussian Process.\n",
    "    l_scale (float): The scale parameter for the length scale of the Gaussian Process.\n",
    "    level_sizes (list of int, optional): Sizes of each level in the model's hierarchical structure. \n",
    "                                         Defaults to [1, 10, 20, 50].\n",
    "    num_latent (int, optional): Number of latent dimensions. Defaults to 10.\n",
    "    scale_factor (float, optional): Scaling factor for data normalization. Defaults to 1.0.\n",
    "    num_species (int, optional): Number of species (or groups) in the dataset. Defaults to 1.\n",
    "    num_batch (int, optional): Number of batches to correct for in the data. Defaults to 1.\n",
    "    prior_scale (float, optional): Scale of the laplace prior distributions. Defaults to 100.\n",
    "    tree_approx (bool, optional): Flag to indicate whether to use a tree approximation. Defaults to False. Doesn't work well.\n",
    "    bi_depth (int, optional): Depth of the tree for the approximation of batch by identity effects. Defaults to 2.\n",
    "\n",
    "    \"\"\"\n",
    "    def __init__(self, num_var, l_loc, l_scale,level_sizes=[1,10,20,50],\n",
    "                 num_latent=10, scale_factor=1.0,\n",
    "                 num_species=1,num_batch=1,prior_scale=100,\n",
    "                 tree_approx=False,bi_depth=1,batch_embed=10):\n",
    "        \n",
    "        self.pi=3.14159265\n",
    "        self.num_var = num_var\n",
    "        self.num_species = num_species\n",
    "        self.num_batch = num_batch\n",
    "        self.num_latent = num_latent\n",
    "        self.scale_factor=scale_factor\n",
    "        self.level_sizes=level_sizes\n",
    "        self.num_labels = np.sum(self.level_sizes)\n",
    "        self.level_indices=np.cumsum([0]+self.level_sizes)\n",
    "        #how deep in the tree should batch by identity be accounted for\n",
    "        self.bi_depth=bi_depth\n",
    "        self.bi_depth_num=sum(self.level_sizes[:self.bi_depth])\n",
    "        self.batch_embed=batch_embed\n",
    "        \n",
    "        # The next two hyperparameters determine the prior over the log_count latent variable `l`\n",
    "        self.l_loc = l_loc\n",
    "        self.l_scale = l_scale\n",
    "\n",
    "        self.dm=DM(self)\n",
    "        self.bm=BM(self)\n",
    "        self.di=DI(self)\n",
    "        self.bie=BIEmbed(self)\n",
    "        self.ci=CI(self)\n",
    "        self.zdw=ZDW(self)\n",
    "        self.dc=DC(self)\n",
    "        self.bc=BC(self)\n",
    "        self.zs=ZScale(self)\n",
    "        self.zl=ZLoc(self)\n",
    "        self.zld=ZLocDynam(self)\n",
    "        self.tree_edges=TreeEdges(self,straight_through=True)\n",
    "        self.tree_convergence=TreeConvergence(self)        \n",
    "        self.z_transform=null_function#centered_sigmoid#torch.special.expit\n",
    "        \n",
    "        super().__init__()\n",
    "        # Setup the various neural networks used in the model and guide\n",
    "        self.z_decoder=ZDecoder(num_latent=self.num_latent, num_var=num_var, hidden_dims=[])        \n",
    "        self.zl_encoder=ZLEncoder(num_var=num_var,hidden_dims=[6000,3000,1000],num_cat_input=self.num_species,\n",
    "                    outputs=[(self.num_latent,None),(self.num_latent,softplus),(1,None),(1,softplus)])\n",
    "        \n",
    "        self.classifier=Classifier(num_latent=self.num_latent,\n",
    "                    outputs=[(self.num_labels,safe_sigmoid),(1,None),(1,softplus)])\n",
    "\n",
    "        #self.bc_nn=SimpleFFNN(in_dim=self.num_batch,hidden_dims=[200,200,50,5],\n",
    "        #            out_dim=self.num_var*self.num_latent)\n",
    "        \n",
    "        #Too large to exactly model gene-level batch effects for all cluster x batch. so embed\n",
    "        self.be_nn=SimpleFFNN(in_dim=self.num_batch,hidden_dims=[1000,500,200],\n",
    "                    out_dim=self.batch_embed)\n",
    "        \n",
    "        self.epsilon = 0.006\n",
    "        #Initialize model in approximation mode\n",
    "        self.approx=False\n",
    "        self.hard=False\n",
    "        #Whether to approximate tree connectivity during approximation mode\n",
    "        self.tree_approx=tree_approx#Approx has major integration problems, but could still be useful\n",
    "\n",
    "        self.prior_scale=prior_scale\n",
    "\n",
    "        \n",
    "    def set_approx(self,b: bool):\n",
    "        self.approx=b\n",
    "        \n",
    "    def set_hard(self,b: bool):\n",
    "        self.hard=b\n",
    "\n",
    "    def model(self, s=None,species=None,batch=None,y1=None):\n",
    "        # Register various nn.Modules (i.e. the decoder/encoder networks) with Pyro\n",
    "        pyro.module(\"antipode\", self)\n",
    "        if batch is None:\n",
    "            batch=s.new_zeros((s.shape[0],self.num_batch))\n",
    "        if species is None:\n",
    "            species=s.new_zeros((s.shape[0],self.num_species))\n",
    "        species_ind=species.argmax(1)\n",
    "        batch_ind=batch.argmax(1)\n",
    "\n",
    "        with poutine.scale(scale=self.scale_factor):\n",
    "            # \"This gene-level parameter modulates the variance of the observation distribution\"\n",
    "            s_theta = pyro.param(\"s_inverse_dispersion\", 50.0 * s.new_ones(self.num_var),\n",
    "                               constraint=constraints.positive)\n",
    "\n",
    "            locs=self.zl.model_sample(s)\n",
    "            scales=self.zs.model_sample(s)\n",
    "            #scales=self.zs.make_params(s)\n",
    "            locs_dynam=self.zld.model_sample(s)\n",
    "            species_dm=self.dm.model_sample(s)\n",
    "            species_di=self.di.model_sample(s)\n",
    "            batch_dm=self.bm.model_sample(s)\n",
    "            cluster_intercept=self.ci.model_sample(s)\n",
    "            z_decoder_weight=self.zdw.model_sample(s)\n",
    "            #z_decoder_weight=self.zdw.make_params(s)\n",
    "            level_edges=self.tree_edges.model_sample(s,approx=self.approx&self.tree_approx)\n",
    "            species_dc=self.dc.model_sample(s)\n",
    "            \n",
    "            l_mu = pyro.param(\"l_mu\", self.l_loc * s.new_ones(self.num_batch,1))\n",
    "            l_scale = pyro.param(\"l_scale\",  self.l_scale * s.new_ones(self.num_batch,1),\n",
    "                               constraint=constraints.positive) \n",
    "            scd=pyro.param(\"species_common_de\", s.new_zeros((self.num_species,self.num_var)))\n",
    "            bie=self.bie.model_sample(s)\n",
    "            \n",
    "            # We scale all sample statements by scale_factor so that the ELBO loss function\n",
    "            # is normalized wrt the number of datapoints and genes.\n",
    "            # This helps with numerical stability during optimization.\n",
    "            with pyro.plate(\"batch\", s.shape[0]):\n",
    "                l = pyro.sample(\"l\", dist.LogNormal(l_mu[batch_ind], l_scale[batch_ind]).to_event(1))\n",
    "                beta_prior_a=1.*s.new_ones(self.num_labels)\n",
    "                beta_prior_a[0]=10.\n",
    "\n",
    "                if self.approx:\n",
    "                    y1 = pyro.sample(\"y1\", dist.Beta(beta_prior_a,1.*s.new_ones(self.num_labels),validate_args=True).to_event(1))\n",
    "                    l = pyro.sample(\"l_obs\", dist.LogNormal(l.log(), s.new_ones(s.shape[0],1)).to_event(1),obs=s.sum(1).unsqueeze(-1))\n",
    "                else:\n",
    "                    y1 = pyro.sample(\"y1\", dist.Beta(beta_prior_a,s.new_ones(self.num_labels),validate_args=True).to_event(1))\n",
    "                    y1 = pyro.sample('y1_ber',dist.RelaxedBernoulli(temperature=0.1*s.new_ones(1),probs=y1).to_event(1))\n",
    "                    l = pyro.sample(\"l_obs\", dist.LogNormal(l.log(), s.new_ones(s.shape[0],1)).to_event(1),obs=s.sum(1).unsqueeze(-1))\n",
    "\n",
    "                self.tree_convergence.model_sample(y1,level_edges,s)\n",
    "                #bc=self.bc.model_sample(s)\n",
    "                bi=torch.einsum('bi,ijk->bjk',self.be_nn(batch),bie)\n",
    "                bi=torch.einsum('bj,bjk->bk',y1[...,:self.bi_depth_num],bi)\n",
    "                psi = pyro.sample('psi',dist.Normal(s.new_zeros(s.shape[0],1),1*s.new_ones(s.shape[0],1)).to_event(1))\n",
    "                this_locs=oh_index(locs,y1)\n",
    "                this_scales=oh_index(scales,y1)\n",
    "                if self.hard:\n",
    "                    z_loc=pyro.sample('z_loc', dist.Normal(this_locs,this_scales+self.epsilon,validate_args=True).to_event(1))\n",
    "                z=pyro.sample('z', dist.Normal(this_locs,this_scales+self.epsilon,validate_args=True).to_event(1))\n",
    "                z=z+oh_index2(species_dm[species_ind],y1) + oh_index2(batch_dm[batch_ind],y1)+(oh_index(locs_dynam,y1)*psi)\n",
    "                z=self.z_transform(z)\n",
    "                cur_species_di=oh_index2(species_di[species_ind],y1)\n",
    "                cur_cluster_intercept=oh_index(cluster_intercept,y1)\n",
    "                mu=torch.einsum('...bi,...bij->...bj',z,z_decoder_weight+species_dc[species_ind])#+bc\n",
    "                spliced_mu=mu+scd[species_ind]+cur_species_di+cur_cluster_intercept+bi\n",
    "                spliced_out=torch.softmax(spliced_mu,dim=-1)\n",
    "                log_mu = (l * spliced_out + 1e-6).log()\n",
    "                s_dist = dist.NegativeBinomial(total_count=s_theta,logits=log_mu-s_theta.log(),validate_args=True)\n",
    "                s_out=pyro.sample(\"s\", s_dist.to_event(1), obs=s.int())\n",
    "\n",
    "    \n",
    "    # The guide specifies the variational distribution\n",
    "    def guide(self, s, species=None,batch=None,y1=None):\n",
    "        pyro.module(\"antipode\", self)\n",
    "        if batch is None:\n",
    "            batch=s.new_zeros((s.shape[0],self.num_batch))\n",
    "        if species is None:\n",
    "            species=s.new_zeros((s.shape[0],self.num_species))\n",
    "        species_ind=species.argmax(1)\n",
    "        batch_ind=batch.argmax(1)\n",
    "        with poutine.scale(scale=self.scale_factor):\n",
    "            locs=self.zl.guide_sample(s)\n",
    "            scales=self.zs.guide_sample(s)\n",
    "            #scales=self.zs.make_params(s)          \n",
    "            locs_dynam=self.zld.guide_sample(s)\n",
    "            z_decoder_weight=self.zdw.guide_sample(s)\n",
    "            #Scale by vector of y to answer long standing sampling problem :)\n",
    "            species_dm=self.dm.guide_sample(s)\n",
    "            batch_dm=self.bm.guide_sample(s)\n",
    "            species_di=self.di.guide_sample(s)\n",
    "            cluster_intercept=self.ci.guide_sample(s)\n",
    "            species_dc=self.dc.guide_sample(s)\n",
    "            level_edges=self.tree_edges.guide_sample(s,approx=self.approx&self.tree_approx) \n",
    "            self.bie.guide_sample(s)\n",
    "           \n",
    "            with pyro.plate(\"batch\", s.shape[0]):\n",
    "                z_loc, z_scale,l_loc, l_scale= self.zl_encoder(s,species)\n",
    "                l=pyro.sample(\"l\", dist.LogNormal(l_loc, l_scale+self.epsilon).to_event(1))\n",
    "                if self.hard:\n",
    "                    z=pyro.sample('z_loc',dist.Delta(z_loc).to_event(1))\n",
    "                else:\n",
    "                    z=pyro.sample('z',dist.Normal(z_loc,z_scale+self.epsilon).to_event(1))\n",
    "                z=self.z_transform(z)\n",
    "                y1_probs,psi_loc,psi_scale=self.classifier(z)\n",
    "                pyro.sample('psi',dist.Normal(psi_loc,psi_scale).to_event(1))\n",
    "                y1_dist = dist.Delta(y1_probs,validate_args=True).to_event(1)\n",
    "                y1 = pyro.sample(\"y1\", y1_dist)\n",
    "                if not self.approx:\n",
    "                    y1 = pyro.sample('y1_ber',dist.RelaxedBernoulli(temperature=0.1*s.new_ones(1),probs=y1).to_event(1))\n",
    "                if self.hard:\n",
    "                    this_locs=oh_index(locs,y1)\n",
    "                    this_scales=oh_index(scales,y1)\n",
    "                    z=pyro.sample('z',dist.Normal(this_locs,this_scales+self.epsilon).to_event(1))\n",
    "                \n",
    "                self.tree_convergence.guide_sample(y1,level_edges,s)\n",
    "                #self.bc.guide_sample(self.bc_nn,batch,s)"
   ]
  },
  {
   "cell_type": "code",
   "execution_count": null,
   "id": "c8188b4f-93d3-417e-b6d6-061bdb88f6c1",
   "metadata": {},
   "outputs": [],
   "source": [
    "try:\n",
    "    del antipode_model\n",
    "    torch.cuda.empty_cache()\n",
    "except:\n",
    "    pass"
   ]
  },
  {
   "cell_type": "code",
   "execution_count": null,
   "id": "5a279f5d-b1b6-453f-b86b-7ec87d94418a",
   "metadata": {},
   "outputs": [],
   "source": [
    "import sys\n",
    "sys.path.append('/home/matthew.schmitz/Matthew/code/scANTIPODE/')\n",
    "import model_functions\n",
    "from model_functions import *\n",
    "import model_distributions\n",
    "from model_distributions import *\n",
    "import model_modules\n",
    "from model_modules import *\n",
    "\n",
    "import importlib\n",
    "model_modules=importlib.reload(model_modules)\n",
    "from model_modules import *\n",
    "\n",
    "model_functions=importlib.reload(model_functions)\n",
    "from model_functions import *\n"
   ]
  },
  {
   "cell_type": "code",
   "execution_count": null,
   "id": "62ba9a43-72ed-40a7-9449-225e905f427b",
   "metadata": {
    "tags": []
   },
   "outputs": [],
   "source": [
    "device='cuda'\n",
    "num_var=adata.shape[1]\n",
    "l_mean=np.log(adata.X.sum(1)).mean()\n",
    "l_scale=np.log(adata.X.sum(1)).std()\n",
    "batch_size=32\n",
    "level_sizes=[1,25,75,225]\n",
    "num_latent=200\n",
    "num_labels=sum(level_sizes)\n",
    "steps=0\n",
    "max_steps=400000\n",
    "print_every=5000\n",
    "\n",
    "# Clear Pyro param store so we don't conflict with previous run\n",
    "pyro.clear_param_store()\n",
    "# Fix random number seed to a lucky number\n",
    "pyro.util.set_rng_seed(13)\n",
    "# Enable optional validation warnings\n",
    "pyro.enable_validation(True)\n",
    "\n",
    "# Instantiate instance of model/guide and various neural networks\n",
    "antipode_model = ANTIPODE(num_var=num_var, num_latent=num_latent,level_sizes=level_sizes,\n",
    "                l_loc=l_mean, l_scale=l_scale,num_species=len(adata.obs['species'].unique()),\n",
    "                num_batch=len(adata.obs['batch_name'].unique()),\n",
    "                scale_factor=1e2 / (3*batch_size * num_var * num_labels * num_latent),\n",
    "                bi_depth=len(level_sizes),tree_approx=True,prior_scale=100.,batch_embed=10)\n",
    "\n",
    "\n",
    "# Setup an optimizer (Adam) and learning rate scheduler.\n",
    "#Use OneCycleLR to give better convergence\n",
    "scheduler=pyro.optim.OneCycleLR({'max_lr':0.002,'total_steps':max_steps,'div_factor':100,'optim_args':{},'optimizer':torch.optim.Adam})\n",
    "\n",
    "# Setup a variational objective for gradient-based learning.\n",
    "# Note we use TraceEnum_ELBO in order to leverage Pyro's machinery\n",
    "# for automatic enumeration of the discrete latent variable y.\n",
    "elbo = pyro.infer.JitTrace_ELBO(num_particles=3,strict_enumeration_warning=False)\n",
    "\n",
    "svi = SVI(antipode_model.model, antipode_model.guide, scheduler, elbo)"
   ]
  },
  {
   "cell_type": "code",
   "execution_count": null,
   "id": "06c837df-8194-4317-934a-72f17e50c4e3",
   "metadata": {},
   "outputs": [],
   "source": [
    "device='cuda'\n",
    "antipode_model.train()\n",
    "antipode_model.zl_encoder.train()\n",
    "num_epochs=2\n",
    "\n",
    "grad_check=False\n",
    "from collections import defaultdict\n",
    "param_d=defaultdict(list)\n",
    "\n",
    "adata_toppath=os.path.expanduser('/allen/programs/celltypes/workgroups/rnaseqanalysis/EvoGen/Team/Matthew/data/taxtest/HvQvM')\n",
    "adata_paths=os.listdir(adata_toppath)\n",
    "adata_paths=sorted([os.path.join(adata_toppath,x) for x in adata_paths if 'HvQvMall_part' in x])\n",
    "\n",
    "antipode_model=antipode_model.to(device)\n",
    "antipode_model.set_approx(False)#Approx doesn't work very well for integration\n",
    "loss_tracker=[]\n",
    "#for steps in range(max_steps):\n",
    "pbar = tqdm.tqdm(total=max_steps, position=0)\n",
    "while steps < max_steps:\n",
    "    for adata_path in reversed(adata_paths[1:]):\n",
    "        #pbar.write(adata_path)\n",
    "        #TODO integrate SCVI dataloader with proper chunking\n",
    "        dataloader=make_dataloader(origdata=adata,adata_path=os.path.expanduser(adata_path),batch_size=batch_size)\n",
    "        for x in dataloader:\n",
    "            args=[y.to(device) for y in x]\n",
    "            loss=svi.step(*args)\n",
    "            scheduler.step()\n",
    "            steps+=1\n",
    "            pbar.update(1)\n",
    "            loss_tracker.append(loss)\n",
    "            if ((steps%print_every == 0) | (steps%print_every == 1))& grad_check:\n",
    "                for p in pyro.get_param_store():\n",
    "                    param_d[p].append(pyro.param(p).clone().detach().cpu())\n",
    "            if steps%print_every == 0:\n",
    "                # Tell the scheduler we've done one epoch.\n",
    "                #print(\"[Step %02d]  Loss: %.5f\" % (steps, np.mean(loss_tracker[-print_every:])))\n",
    "                pbar.write(\"[Step %02d]  Loss: %.5f\" % (steps, np.mean(loss_tracker[-print_every:])))\n",
    "\n",
    "pbar.close()\n",
    "allDone()\n",
    "print(\"Finished training!\")"
   ]
  },
  {
   "cell_type": "code",
   "execution_count": null,
   "id": "6c15bbbf-f486-4746-8115-7030583d9cd7",
   "metadata": {},
   "outputs": [],
   "source": [
    "svi.optim.get_state()['locs']['scheduler']"
   ]
  },
  {
   "cell_type": "code",
   "execution_count": null,
   "id": "b6405e6e-6f47-466f-8325-27ba8c9186c2",
   "metadata": {
    "scrolled": true
   },
   "outputs": [],
   "source": [
    "seaborn.scatterplot(x=list(range(len(loss_tracker))),y=loss_tracker,alpha=0.5,s=2)\n",
    "def moving_average(x, w):\n",
    "    return np.convolve(x, np.ones(w), 'valid') / w\n",
    "w=300\n",
    "mvavg=moving_average(np.pad(loss_tracker,int(w/2),mode='edge'),w)\n",
    "seaborn.lineplot(x=list(range(len(mvavg))),y=mvavg,color='coral')\n",
    "\n"
   ]
  },
  {
   "cell_type": "code",
   "execution_count": null,
   "id": "7b836cf6-04c7-44ca-befb-7c74c77f9f7c",
   "metadata": {},
   "outputs": [],
   "source": [
    "if grad_check:\n",
    "    param_delta=dict()\n",
    "    for p in param_d.keys():\n",
    "        param_delta[p]=[param_d[p][i]-param_d[p][i+1] for i in range(0,len(param_d[p])-1,2)]\n",
    "\n",
    "    meandelta=dict()\n",
    "    for p in param_delta.keys():\n",
    "        meandelta[p]=np.array([x.abs().mean().numpy() for x in param_delta[p]])\n",
    "\n",
    "    for p in meandelta.keys():\n",
    "        if '' in p:#edges\n",
    "            ax=seaborn.lineplot(x=list(range(len(meandelta[p]))),y=meandelta[p],label=p,)\n",
    "            seaborn.move_legend(ax, \"upper left\", bbox_to_anchor=(1, 1))\n",
    "            ax\n",
    "        #plt.show()"
   ]
  },
  {
   "cell_type": "code",
   "execution_count": null,
   "id": "4d8ca0c5-1c36-465f-a2a1-2218471aaf63",
   "metadata": {},
   "outputs": [],
   "source": [
    "\"\"\"\n",
    "antipode_model.dc_batch_encoder.cpu()\n",
    "seaborn.histplot(antipode_model.dc_batch_encoder(torch.eye(batch_values.shape[1])).detach().cpu().numpy().flatten()[:10000],bins=100)\n",
    "plt.show()\n",
    "antipode_model.dc_batch_encoder.to(device)\n",
    "\"\"\""
   ]
  },
  {
   "cell_type": "code",
   "execution_count": null,
   "id": "53b0afbc-ffe5-4b4b-992e-5bf292071586",
   "metadata": {},
   "outputs": [],
   "source": [
    "seaborn.histplot(pyro.param('z_decoder_weight').detach().cpu().numpy().flatten(),bins=50)"
   ]
  },
  {
   "cell_type": "code",
   "execution_count": null,
   "id": "b0d4ff51-86ee-4109-aaa8-0fc050fcec40",
   "metadata": {},
   "outputs": [],
   "source": [
    "seaborn.clustermap(antipode_model.z_transform(pyro.param('locs')).cpu().detach().numpy(),cmap='coolwarm')"
   ]
  },
  {
   "cell_type": "code",
   "execution_count": null,
   "id": "b4f580c8-da62-4d80-b943-d1fc6b2f530b",
   "metadata": {},
   "outputs": [],
   "source": [
    "seaborn.clustermap(pyro.param('scales').cpu().detach().numpy())"
   ]
  },
  {
   "cell_type": "code",
   "execution_count": null,
   "id": "fe83be35-f16b-401e-8f0e-3dde3134352e",
   "metadata": {},
   "outputs": [],
   "source": [
    "seaborn.histplot(pyro.param('s_inverse_dispersion').detach().cpu().numpy().flatten(),bins=50)\n"
   ]
  },
  {
   "cell_type": "code",
   "execution_count": null,
   "id": "e32fdd4e-ded1-4979-af36-6ab38ad5dc3d",
   "metadata": {},
   "outputs": [],
   "source": [
    "seaborn.histplot(pyro.param('z_decoder_weight').var(1).detach().cpu().numpy().flatten(),bins=50)\n"
   ]
  },
  {
   "cell_type": "code",
   "execution_count": null,
   "id": "aabad8ef-dd1b-4559-87f4-6dc3a4dc0eb0",
   "metadata": {},
   "outputs": [],
   "source": [
    "seaborn.heatmap(pyro.param('edges_1').cpu().detach().numpy())\n",
    "plt.show()\n",
    "seaborn.heatmap(pyro.param('edges_2').cpu().detach().numpy())\n",
    "plt.show()"
   ]
  },
  {
   "cell_type": "code",
   "execution_count": null,
   "id": "fc28c4ba-d242-4806-b0e1-d9cef1e1efba",
   "metadata": {},
   "outputs": [],
   "source": [
    "seaborn.heatmap(torch.softmax(pyro.param('edges_1'),dim=-1).cpu().detach().numpy())\n",
    "plt.show()\n",
    "seaborn.heatmap(torch.softmax(pyro.param('edges_2'),dim=-1).cpu().detach().numpy())\n",
    "plt.show()"
   ]
  },
  {
   "cell_type": "code",
   "execution_count": null,
   "id": "ce7b08f1-6c70-42d4-a431-cb68656785e2",
   "metadata": {},
   "outputs": [],
   "source": [
    "seaborn.histplot(pyro.param('z_decoder_weight').detach().cpu().numpy().flatten(),color='yellow',bins=50,stat='percent')\n",
    "seaborn.histplot(pyro.param('species_dc')[0].cpu().detach().numpy().flatten(),color='red',bins=50,stat='percent')\n",
    "seaborn.histplot(pyro.param('species_dc')[1].cpu().detach().numpy().flatten(),color='blue',bins=50,stat='percent')\n",
    "seaborn.histplot(pyro.param('species_dc')[2].cpu().detach().numpy().flatten(),color='green',bins=50,stat='percent')"
   ]
  },
  {
   "cell_type": "code",
   "execution_count": null,
   "id": "6b2233d4-63dc-4784-96da-5750b982e316",
   "metadata": {},
   "outputs": [],
   "source": [
    "print(pyro.param('z_decoder_weight').var())\n",
    "print(pyro.param('species_dc').flatten(1,2).var(1))"
   ]
  },
  {
   "cell_type": "code",
   "execution_count": null,
   "id": "dc615526-4267-4452-8d47-e7e01693cff6",
   "metadata": {},
   "outputs": [],
   "source": [
    "seaborn.histplot(pyro.param('locs').cpu().detach().numpy().flatten(),color=\"green\",label='ancestral',bins=50)\n",
    "seaborn.histplot(pyro.param('species_dm')[0,:,:].cpu().detach().numpy().flatten(),color=\"red\",bins=50)\n",
    "seaborn.histplot(pyro.param('species_dm')[1,:,:].cpu().detach().numpy().flatten(),color=\"pink\",bins=50)\n",
    "seaborn.histplot(pyro.param('species_dm')[2,:,:].cpu().detach().numpy().flatten(),color=\"purple\",bins=50)\n",
    "plt.legend()"
   ]
  },
  {
   "cell_type": "code",
   "execution_count": null,
   "id": "a7ea6df5-f0da-43ff-8df4-41c33f2abcaf",
   "metadata": {},
   "outputs": [],
   "source": [
    "seaborn.clustermap(pyro.param('locs_dynam').cpu().detach().numpy())"
   ]
  },
  {
   "cell_type": "code",
   "execution_count": null,
   "id": "4ce6aebd-35fc-4a73-a1d9-57b6e0f8e99d",
   "metadata": {},
   "outputs": [],
   "source": [
    "seaborn.histplot(pyro.param('z_decoder_weight').detach().cpu().numpy().flatten(),bins=50)"
   ]
  },
  {
   "cell_type": "code",
   "execution_count": null,
   "id": "6304baf9-9d48-4b40-a175-6d6306dc37f8",
   "metadata": {},
   "outputs": [],
   "source": [
    "seaborn.histplot(pyro.param('z_decoder_weight').var(1).detach().cpu().numpy().flatten(),bins=50)\n"
   ]
  },
  {
   "cell_type": "code",
   "execution_count": null,
   "id": "b72d5713-c7fe-4f66-8d38-974d88b14cf1",
   "metadata": {},
   "outputs": [],
   "source": [
    "seaborn.histplot(pyro.param('cluster_intercept').cpu().detach().numpy().flatten(),color='yellow',bins=50,stat='percent')\n",
    "seaborn.histplot(pyro.param('species_di')[0].cpu().detach().numpy().flatten(),color='red',bins=50,stat='percent')\n",
    "seaborn.histplot(pyro.param('species_di')[1].cpu().detach().numpy().flatten(),color='blue',bins=50,stat='percent')\n",
    "seaborn.histplot(pyro.param('species_di')[2].cpu().detach().numpy().flatten(),color='green',bins=50,stat='percent')\n"
   ]
  },
  {
   "cell_type": "code",
   "execution_count": null,
   "id": "a55a98a6-c6d8-483c-95f0-bd0502442993",
   "metadata": {},
   "outputs": [],
   "source": [
    "device='cpu'\n",
    "antipode_model=antipode_model.to(device)\n",
    "avgpool=nn.AvgPool1d(2,stride=1)\n",
    "# Now that we're done training we'll inspect the latent representations we've learned\n",
    "import scanpy as sc\n",
    "adata.obsm[\"X_umap\"]=adata.obsm[\"X_original_umap\"]\n",
    "# Put the neural networks in evaluation mode (needed because of batch norm)\n",
    "antipode_model.eval()\n",
    "antipode_model.zl_encoder.eval()\n",
    "\n",
    "# Compute latent representation (z_loc) for each cell in the dataset\n",
    "inputs=[torch.tensor(adata.layers['spliced'].todense()).to(device),species_values]\n",
    "function=antipode_model.zl_encoder\n",
    "num_outs=4\n",
    "encoded=batch_torch_outputs(inputs,function,batch_size=2048,device='cuda')\n",
    "\n",
    "clusternames=[]\n",
    "for i in range(antipode_model.num_latent):\n",
    "    clusternames.append(str(i))\n",
    "\n",
    "adata.obs['LDA0max']=np.array(clusternames)[encoded[0].cpu().detach().numpy().argmax(1)]\n",
    "\n",
    "sc.pl.umap(adata,color=['LDA0max'],legend_loc=\"on data\",palette=sc.pl.palettes.godsnot_102)\n",
    "sc.pl.umap(adata,color=['LDA0max'],palette=sc.pl.palettes.godsnot_102)\n",
    "\"\"\"\n",
    "for i in range(num_latent):\n",
    "    adata.obs['test'+str(i)]=torch.softmax(encoded[0],dim=-1)[:,i].cpu().detach().numpy()\n",
    "sc.pl.umap(adata,color=['test'+str(x) for x in range(num_latent)],use_raw=False,cmap='Purples')\n",
    "\"\"\"\n",
    "seaborn.clustermap(np.corrcoef((antipode_model.z_transform(encoded[0])).T.cpu().detach().numpy()))\n"
   ]
  },
  {
   "cell_type": "code",
   "execution_count": null,
   "id": "e9a58387-90aa-416f-a58e-f6d7783f9492",
   "metadata": {},
   "outputs": [],
   "source": [
    "seaborn.scatterplot(x=pyro.param('l_mu').detach().cpu().flatten(),y=pyro.param('l_scale').detach().cpu().flatten())"
   ]
  },
  {
   "cell_type": "code",
   "execution_count": null,
   "id": "4ee14ca6-43e8-4e27-806c-06ea1c27b31c",
   "metadata": {},
   "outputs": [],
   "source": [
    "seaborn.scatterplot(x=pyro.param('l_mu').detach().cpu().flatten()[batch_values.argmax(1)],y=encoded[2].detach().cpu().flatten(),alpha=0.1)"
   ]
  },
  {
   "cell_type": "code",
   "execution_count": null,
   "id": "09df2b98-cad4-46dc-bb74-252823c51f8b",
   "metadata": {},
   "outputs": [],
   "source": [
    "seaborn.scatterplot(x=pyro.param('l_scale').detach().cpu().flatten()[batch_values.argmax(1)],y=encoded[3].detach().cpu().flatten())"
   ]
  },
  {
   "cell_type": "code",
   "execution_count": null,
   "id": "d41d2863-fb44-45b0-b389-a30f07bd08d8",
   "metadata": {},
   "outputs": [],
   "source": [
    "seaborn.scatterplot(x=encoded[2].detach().cpu().flatten(),y=np.log(adata.obs['n_counts']))"
   ]
  },
  {
   "cell_type": "code",
   "execution_count": null,
   "id": "6dc74965-265b-4f87-9ee0-138694c11174",
   "metadata": {},
   "outputs": [],
   "source": [
    "classouts=batch_torch_outputs([(antipode_model.z_transform(encoded[0]))],antipode_model.classifier,batch_size=2048,device='cuda')\n",
    "o2=classouts[0]\n",
    "adata.obs['psi']=classouts[1].cpu().detach().numpy()"
   ]
  },
  {
   "cell_type": "code",
   "execution_count": null,
   "id": "3dab193e-959d-47a6-bc8a-4fd2d41a401f",
   "metadata": {},
   "outputs": [],
   "source": [
    "y1=classouts[0].detach().cpu().numpy()\n",
    "levels=[y1[...,antipode_model.level_indices[i]:antipode_model.level_indices[i+1]] for i in range(len(antipode_model.level_sizes))]\n",
    "for i in range(len(levels)):\n",
    "    adata.obs['level_'+str(i)]=levels[i].argmax(1)\n",
    "    adata.obs['level_'+str(i)]=adata.obs['level_'+str(i)].astype(str)\n",
    "\n",
    "adata.obs['antipode_model_cluster']=adata.obs['level_1']+'_'+adata.obs['level_2']+'_'+adata.obs['level_3']"
   ]
  },
  {
   "cell_type": "code",
   "execution_count": null,
   "id": "d01313cb-c914-4b37-8658-6088f6ea87de",
   "metadata": {},
   "outputs": [],
   "source": [
    "#TODO encapsulate into a function\n",
    "y1=classouts[0].detach().cpu().numpy()\n",
    "\n",
    "levels = [y1[..., antipode_model.level_indices[i]:antipode_model.level_indices[i + 1]]\n",
    "          for i in range(len(antipode_model.level_sizes))]\n",
    "\n",
    "\n",
    "for i, level in enumerate(levels):\n",
    "    max_probs = level.max(axis=1)\n",
    "    # Assign argmax if max probability > 0.5, else assign empty string\n",
    "    adata.obs['level_' + str(i)] = np.where(max_probs > 0.5, level.argmax(axis=1).astype(str), '')\n",
    "\n",
    "# Concatenate the levels to form the cluster label\n",
    "adata.obs['antipode_model_cluster'] = adata.obs.apply(lambda x: '_'.join([x['level_' + str(i)] for i in range(len(levels))]), axis=1)"
   ]
  },
  {
   "cell_type": "code",
   "execution_count": null,
   "id": "bfe575bc-ac6c-4c7c-8eb9-11239ab058d4",
   "metadata": {},
   "outputs": [],
   "source": [
    "#TODO encapsulate into a function\n",
    "levels=[y1[...,antipode_model.level_indices[i]:antipode_model.level_indices[i+1]] for i in range(len(antipode_model.level_sizes))]\n",
    "\n",
    "level_edges=[safe_softmax(pyro.param('edges_'+str(i))).detach().cpu().numpy() for i in range(len(antipode_model.level_sizes)-1)]\n",
    "\n",
    "#But still need to propagate edges to get the root value (check for cycles)\n",
    "results=[levels[-1]]\n",
    "for i in range(len(antipode_model.level_sizes) - 2, -1, -1):\n",
    "    result=levels[i+1]@level_edges[i]\n",
    "    results.append(result)\n",
    "results=results[::-1]\n",
    "\n",
    "for i in range(len(results)):\n",
    "    adata.obs['prop_level_'+str(i)]=results[i].argmax(1)\n",
    "    adata.obs['prop_level_'+str(i)]=adata.obs['prop_level_'+str(i)].astype(str)\n",
    "\n",
    "adata.obs['prop_antipode_model_cluster']=adata.obs['prop_level_1']+'_'+adata.obs['prop_level_2']+'_'+adata.obs['prop_level_3']"
   ]
  },
  {
   "cell_type": "code",
   "execution_count": null,
   "id": "4bf39fc8-c877-40d9-bd56-bc83be9b085a",
   "metadata": {},
   "outputs": [],
   "source": [
    "vcs=adata.obs['antipode_model_cluster'].value_counts()\n",
    "legit_clusters=vcs.index[vcs>100]\n",
    "adata.obs.loc[~adata.obs['antipode_model_cluster'].isin(legit_clusters),'antipode_model_cluster']='nan'\n",
    "\n",
    "vcs=adata.obs['prop_antipode_model_cluster'].value_counts()\n",
    "legit_clusters=vcs.index[vcs>100]\n",
    "adata.obs.loc[~adata.obs['prop_antipode_model_cluster'].isin(legit_clusters),'prop_antipode_model_cluster']='nan'"
   ]
  },
  {
   "cell_type": "code",
   "execution_count": null,
   "id": "15768db6-54a5-4960-96ae-b84efa468166",
   "metadata": {},
   "outputs": [],
   "source": [
    "sc.pl.umap(adata,color=['level_1','level_2','level_3','antipode_model_cluster'],use_raw=False,legend_loc=None,palette=sc.pl.palettes.godsnot_102)"
   ]
  },
  {
   "cell_type": "code",
   "execution_count": null,
   "id": "f7dcf683-a464-4f7c-99d2-026acb97beb3",
   "metadata": {},
   "outputs": [],
   "source": [
    "sc.pl.umap(adata,color=['prop_level_1','prop_level_2','prop_level_3','antipode_model_cluster'],use_raw=False,legend_loc=None,palette=sc.pl.palettes.godsnot_102)"
   ]
  },
  {
   "cell_type": "code",
   "execution_count": null,
   "id": "666a5af3-3643-4040-8a71-5cced8c9fe2a",
   "metadata": {
    "scrolled": true
   },
   "outputs": [],
   "source": [
    "seaborn.clustermap(o2[:10000,:],row_cluster=False)"
   ]
  },
  {
   "cell_type": "code",
   "execution_count": null,
   "id": "0cc3a285-a16b-45d9-ac62-de02137ba850",
   "metadata": {},
   "outputs": [],
   "source": [
    "seaborn.histplot(np.log10(o2.sum(0).cpu().detach().numpy()+1))"
   ]
  },
  {
   "cell_type": "code",
   "execution_count": null,
   "id": "bf2d6e42-0805-4bc2-8b6a-3899fede50a9",
   "metadata": {},
   "outputs": [],
   "source": [
    "seaborn.clustermap(o2[:1000,:]>0.5)"
   ]
  },
  {
   "cell_type": "code",
   "execution_count": null,
   "id": "c4f607d2-fa52-4395-91c6-48a1a942c4bb",
   "metadata": {
    "scrolled": true,
    "tags": []
   },
   "outputs": [],
   "source": [
    "adata.obsm['X_antipode_model']=(antipode_model.z_transform(encoded[0])).detach().data.cpu().numpy()\n",
    "random_choice=np.random.choice(adata.obs.index,size=100000,replace=False)\n",
    "random_choice=np.where(adata.obs.index.isin(random_choice))[0]\n",
    "xdata=adata[random_choice,:]\n",
    "sc.pp.neighbors(xdata,n_neighbors=20, use_rep=\"X_antipode_model\")\n",
    "sc.tl.umap(xdata)\n",
    "sc.pl.umap(xdata,color=['general_region','leiden','species'],use_raw=False,legend_loc='on data',palette=sc.pl.palettes.godsnot_102)"
   ]
  },
  {
   "cell_type": "code",
   "execution_count": null,
   "id": "83d51319-cf00-4627-a1f1-da3e6c5e6fea",
   "metadata": {},
   "outputs": [],
   "source": [
    "sc.pl.umap(xdata,color=['psi'],use_raw=False,legend_loc='on data',cmap='coolwarm')"
   ]
  },
  {
   "cell_type": "code",
   "execution_count": null,
   "id": "cfb10394-cd53-421c-abbd-091fce2e2438",
   "metadata": {},
   "outputs": [],
   "source": [
    "sc.pl.umap(xdata,color=['level_1','level_2','level_3','antipode_model_cluster'],use_raw=False,legend_loc='on data',palette=sc.pl.palettes.godsnot_102)"
   ]
  },
  {
   "cell_type": "code",
   "execution_count": null,
   "id": "24103a17-d529-403f-bfe0-0bdc8001671c",
   "metadata": {},
   "outputs": [],
   "source": [
    "sc.pl.umap(xdata,color=['antipode_model_cluster','prop_antipode_model_cluster'],use_raw=False,palette=sc.pl.palettes.godsnot_102)"
   ]
  },
  {
   "cell_type": "code",
   "execution_count": null,
   "id": "329bc6a5-ab55-4b4c-9006-c15a3417a523",
   "metadata": {},
   "outputs": [],
   "source": [
    "xdata.X=xdata.raw.X[:,xdata.raw.var.index.isin(xdata.var.index)]\n",
    "sc.pp.normalize_per_cell(xdata)\n",
    "sc.pp.log1p(xdata)\n",
    "sc.pp.scale(xdata,max_value=10)"
   ]
  },
  {
   "cell_type": "code",
   "execution_count": null,
   "id": "8d4d3091-d4dd-424b-b680-9029efb959ec",
   "metadata": {},
   "outputs": [],
   "source": [
    "sc.pl.umap(xdata,color=['GBX2','EOMES','SIX3','OTX2','FOXG1','RBFOX3','TH','PDGFRA','AQP4','FOXJ1','AIF1','TTR','MOG','COL1A2','CD34','COL4A1','NPY','NKX2-1','FOXP2','SATB2','RORB','FEZF2','EMX1'],use_raw=False,cmap='Purples')"
   ]
  },
  {
   "cell_type": "code",
   "execution_count": null,
   "id": "40c74a3b-c444-4413-891e-9ac6f481c724",
   "metadata": {},
   "outputs": [],
   "source": [
    "sc.pl.umap(xdata,color=['DLX2','PROX1','SCGN','TSHZ1','MEIS2','NKX2-1','LHX6','CRABP1','TSHZ1','FOXG1','PDGFRA','AIF1','AQP4','EDNRB','FOXJ1','CD34','MKI67'],cmap='Purples',use_raw=False)\n"
   ]
  },
  {
   "cell_type": "code",
   "execution_count": null,
   "id": "0c41a6f2-f933-4b0e-8af0-6c6c57a9695a",
   "metadata": {},
   "outputs": [],
   "source": [
    "sc.pl.umap(xdata,color=['RPL7','RPS17','RPL13A','MEF2C'],cmap='Purples',use_raw=False)\n"
   ]
  },
  {
   "cell_type": "code",
   "execution_count": null,
   "id": "10597f2a-cfe3-4cc8-8643-17c820c3c9f4",
   "metadata": {},
   "outputs": [],
   "source": [
    "seaborn.clustermap(o2.T@o2/o2.sum(0))"
   ]
  },
  {
   "cell_type": "code",
   "execution_count": null,
   "id": "1389d844-6f20-4288-93ba-26475f469837",
   "metadata": {},
   "outputs": [],
   "source": [
    "sc.pl.umap(xdata,color=['batch_name'],use_raw=False,palette=sc.pl.palettes.godsnot_102)"
   ]
  },
  {
   "cell_type": "code",
   "execution_count": null,
   "id": "b766dae0-450b-480f-9cc7-29013106765f",
   "metadata": {},
   "outputs": [],
   "source": [
    "seaborn.histplot(antipode_model.be_nn(torch.eye(464)).cpu().detach().flatten().numpy())"
   ]
  },
  {
   "cell_type": "code",
   "execution_count": null,
   "id": "25f40fc5-12c8-427d-9aff-7286a38cc0ec",
   "metadata": {},
   "outputs": [],
   "source": []
  },
  {
   "cell_type": "code",
   "execution_count": null,
   "id": "5501c3b3-a2cc-469e-a2ba-3686b8a81252",
   "metadata": {},
   "outputs": [],
   "source": []
  },
  {
   "cell_type": "code",
   "execution_count": null,
   "id": "0c9cfe4c-9ca7-4624-8baa-5dbeedf08c2a",
   "metadata": {},
   "outputs": [],
   "source": []
  },
  {
   "cell_type": "code",
   "execution_count": null,
   "id": "031e6875-165f-4e8e-9749-69a591b82136",
   "metadata": {},
   "outputs": [],
   "source": []
  },
  {
   "cell_type": "code",
   "execution_count": null,
   "id": "9136d417-e005-4e3d-adf9-57a513c129d3",
   "metadata": {},
   "outputs": [],
   "source": []
  },
  {
   "cell_type": "code",
   "execution_count": null,
   "id": "752fe03d-caa8-4349-8cf5-eeea6f8f9465",
   "metadata": {},
   "outputs": [],
   "source": []
  },
  {
   "cell_type": "code",
   "execution_count": null,
   "id": "310a6000-0032-4698-b8d5-9d845687c374",
   "metadata": {},
   "outputs": [],
   "source": []
  },
  {
   "cell_type": "code",
   "execution_count": null,
   "id": "c38c6d71-7562-4b87-b2be-365f76b8ffe4",
   "metadata": {},
   "outputs": [],
   "source": []
  },
  {
   "cell_type": "code",
   "execution_count": null,
   "id": "684a80a4-5432-444d-835b-383c56e00b33",
   "metadata": {},
   "outputs": [],
   "source": []
  }
 ],
 "metadata": {
  "kernelspec": {
   "display_name": "pyro",
   "language": "python",
   "name": "pyro"
  },
  "language_info": {
   "codemirror_mode": {
    "name": "ipython",
    "version": 3
   },
   "file_extension": ".py",
   "mimetype": "text/x-python",
   "name": "python",
   "nbconvert_exporter": "python",
   "pygments_lexer": "ipython3",
   "version": "3.11.5"
  }
 },
 "nbformat": 4,
 "nbformat_minor": 5
}
